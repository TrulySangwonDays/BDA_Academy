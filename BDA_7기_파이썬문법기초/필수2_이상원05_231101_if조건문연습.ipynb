{
 "cells": [
  {
   "cell_type": "markdown",
   "id": "9abd588c",
   "metadata": {},
   "source": [
    "# 필수과제 2.\n",
    "- if문으로 조건식 만들기"
   ]
  },
  {
   "cell_type": "markdown",
   "id": "dcea3965",
   "metadata": {},
   "source": [
    "---\n",
    "1. 하나의 if문에 여러가지 조건식을 and, or 조건으로 함께 만들기"
   ]
  },
  {
   "cell_type": "code",
   "execution_count": 1,
   "id": "5632ff82",
   "metadata": {},
   "outputs": [],
   "source": [
    "x = 10\n",
    "y = 20"
   ]
  },
  {
   "cell_type": "code",
   "execution_count": 2,
   "id": "0639ae35",
   "metadata": {},
   "outputs": [
    {
     "name": "stdout",
     "output_type": "stream",
     "text": [
      "x는 10, y는 20입니다.\n"
     ]
    }
   ],
   "source": [
    "if x == 10 and y == 20 :\n",
    "    print(\"x는 10, y는 20입니다.\")"
   ]
  },
  {
   "cell_type": "code",
   "execution_count": 3,
   "id": "885dba84",
   "metadata": {},
   "outputs": [
    {
     "name": "stdout",
     "output_type": "stream",
     "text": [
      "집에 가고싶어요\n"
     ]
    }
   ],
   "source": [
    "if x == 10 or y == 10 :\n",
    "    print(\"집에 가고싶어요\")"
   ]
  },
  {
   "cell_type": "code",
   "execution_count": 4,
   "id": "25160035",
   "metadata": {},
   "outputs": [
    {
     "name": "stdout",
     "output_type": "stream",
     "text": [
      "치킨 먹고싶다\n"
     ]
    }
   ],
   "source": [
    "z = 100\n",
    "\n",
    "if x == 10 and y == 20 or z == 1 :\n",
    "    print(\"치킨 먹고싶다\")"
   ]
  },
  {
   "cell_type": "markdown",
   "id": "6b22e038",
   "metadata": {},
   "source": [
    "---\n",
    "2. if문을 2개 이상 사용해서 조건문 만들기"
   ]
  },
  {
   "cell_type": "code",
   "execution_count": 5,
   "id": "8d1c53fa",
   "metadata": {},
   "outputs": [],
   "source": [
    "x = 10\n",
    "y = 100\n",
    "z = 1000"
   ]
  },
  {
   "cell_type": "code",
   "execution_count": 6,
   "id": "0b1ece95",
   "metadata": {},
   "outputs": [
    {
     "name": "stdout",
     "output_type": "stream",
     "text": [
      "110\n",
      "10 과 100\n"
     ]
    }
   ],
   "source": [
    "if x == 10 and y == 100 :\n",
    "    print(x+y)\n",
    "if x == 100 or y == 100 :\n",
    "    print(x, \"과\", y)"
   ]
  },
  {
   "cell_type": "code",
   "execution_count": 7,
   "id": "02a5c752",
   "metadata": {},
   "outputs": [
    {
     "name": "stdout",
     "output_type": "stream",
     "text": [
      "1. Hello world\n",
      "3. Here\n"
     ]
    }
   ],
   "source": [
    "if x == 10 or y == 10 :\n",
    "    print(\"1. Hello world\")\n",
    "if x == 10 and z == 1 : # if조건 값이 False이므로 다음으로 그냥 넘어감\n",
    "    print(\"2. Bye world\")\n",
    "if x == 10 and y == 100 or z == 1 :\n",
    "    print(\"3. Here\")"
   ]
  },
  {
   "cell_type": "markdown",
   "id": "b6a38c8c",
   "metadata": {},
   "source": [
    "---\n",
    "3. if문을 2개 이상 사용하고, 종속 개념을 사용하여 조건문 만들기"
   ]
  },
  {
   "cell_type": "code",
   "execution_count": 8,
   "id": "013e5e33",
   "metadata": {},
   "outputs": [],
   "source": [
    "x = 10\n",
    "y = 100\n",
    "z = 1000"
   ]
  },
  {
   "cell_type": "code",
   "execution_count": 9,
   "id": "d8f5f309",
   "metadata": {},
   "outputs": [
    {
     "name": "stdout",
     "output_type": "stream",
     "text": [
      "이건 되겠지\n"
     ]
    }
   ],
   "source": [
    "if x == 10 and y == 10 : # 여기 조건문에서 False이기 때문에, 그 하위의 조건은 상관하지 않고 넘어감\n",
    "    print(\"다음\")\n",
    "    if x == 10 or y == 100 :\n",
    "        print(\"이거 프린트 가능?\")\n",
    "if x == 10 or y == 100 : # 위의 직전 if조건문과 같지만, 이 if절은 가장 앞 if절과 동등한 위치이므로 판단하게 된다.\n",
    "    print(\"이건 되겠지\")"
   ]
  },
  {
   "cell_type": "code",
   "execution_count": 10,
   "id": "fc1f46fc",
   "metadata": {},
   "outputs": [
    {
     "name": "stdout",
     "output_type": "stream",
     "text": [
      "배고파\n",
      "Me too\n"
     ]
    }
   ],
   "source": [
    "if x == 10 and y == 100 or z == 10 : # 조건의 값이 True이므로 출력하고 하위 조건으로 타고 내려감\n",
    "    print(\"배고파\")\n",
    "    if z == 1000 : # 이 if문은 True이므로 결과 출력하고 다음 if로 넘어감\n",
    "        print(\"Me too\")\n",
    "    if z == 1 : # False이므로 출력 X\n",
    "        print(\"난 아직.\")"
   ]
  },
  {
   "cell_type": "code",
   "execution_count": null,
   "id": "8840df96",
   "metadata": {},
   "outputs": [],
   "source": []
  }
 ],
 "metadata": {
  "kernelspec": {
   "display_name": "Python 3 (ipykernel)",
   "language": "python",
   "name": "python3"
  },
  "language_info": {
   "codemirror_mode": {
    "name": "ipython",
    "version": 3
   },
   "file_extension": ".py",
   "mimetype": "text/x-python",
   "name": "python",
   "nbconvert_exporter": "python",
   "pygments_lexer": "ipython3",
   "version": "3.11.4"
  }
 },
 "nbformat": 4,
 "nbformat_minor": 5
}
