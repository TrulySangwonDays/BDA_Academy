{
 "cells": [
  {
   "cell_type": "markdown",
   "id": "75f3fdc1",
   "metadata": {},
   "source": [
    "# 필수과제 1 - 이메일 주소 검사기\n",
    "- 본인이 원하는 이메일 주소를 확인해주는 정규표현식 만들기\n",
    "- 예시 메일 주소를 넣었을 때 잘못 넣은 경우, 다시 입력 요청하고, 어떤 걸 고쳐야 한다는 메시지 주는 반복문\n",
    "- 메일 조건은 다양하므로 사전이 미리미리 메일 조건을 정하고난 후 정규표현식 만들기"
   ]
  },
  {
   "cell_type": "markdown",
   "id": "d0471987",
   "metadata": {},
   "source": [
    "'^[a-zA-Z0-9+_.]+@[a-zA-Z]+\\.[a-zA-Z]' - 예시 정규표현식"
   ]
  },
  {
   "cell_type": "code",
   "execution_count": null,
   "id": "7c4ae69e",
   "metadata": {},
   "outputs": [],
   "source": []
  },
  {
   "cell_type": "markdown",
   "id": "5e90d91e",
   "metadata": {},
   "source": [
    "- 검사조건\n",
    "- 1. abcdefg@naver.com 형태\n",
    "- 공백 불가"
   ]
  },
  {
   "cell_type": "code",
   "execution_count": 3,
   "id": "018e2d4a",
   "metadata": {},
   "outputs": [
    {
     "name": "stdout",
     "output_type": "stream",
     "text": [
      "이메일 주소를 입력하세요. : \n"
     ]
    }
   ],
   "source": [
    "ad = input(\"이메일 주소를 입력하세요. : \")"
   ]
  },
  {
   "cell_type": "code",
   "execution_count": 4,
   "id": "1038ff87",
   "metadata": {},
   "outputs": [
    {
     "ename": "SyntaxError",
     "evalue": "invalid syntax (3187889996.py, line 1)",
     "output_type": "error",
     "traceback": [
      "\u001b[1;36m  Cell \u001b[1;32mIn[4], line 1\u001b[1;36m\u001b[0m\n\u001b[1;33m    if\u001b[0m\n\u001b[1;37m       ^\u001b[0m\n\u001b[1;31mSyntaxError\u001b[0m\u001b[1;31m:\u001b[0m invalid syntax\n"
     ]
    }
   ],
   "source": [
    "if "
   ]
  },
  {
   "cell_type": "code",
   "execution_count": null,
   "id": "3e9d964c",
   "metadata": {},
   "outputs": [],
   "source": []
  },
  {
   "cell_type": "code",
   "execution_count": null,
   "id": "e9137008",
   "metadata": {},
   "outputs": [],
   "source": []
  },
  {
   "cell_type": "code",
   "execution_count": null,
   "id": "3e3be584",
   "metadata": {},
   "outputs": [],
   "source": []
  },
  {
   "cell_type": "code",
   "execution_count": null,
   "id": "87c2a226",
   "metadata": {},
   "outputs": [],
   "source": []
  },
  {
   "cell_type": "code",
   "execution_count": null,
   "id": "21d5dc82",
   "metadata": {},
   "outputs": [],
   "source": []
  },
  {
   "cell_type": "code",
   "execution_count": null,
   "id": "90357fbe",
   "metadata": {},
   "outputs": [],
   "source": []
  },
  {
   "cell_type": "code",
   "execution_count": null,
   "id": "f7f6560d",
   "metadata": {},
   "outputs": [],
   "source": []
  },
  {
   "cell_type": "code",
   "execution_count": null,
   "id": "e98ef41f",
   "metadata": {},
   "outputs": [],
   "source": []
  },
  {
   "cell_type": "code",
   "execution_count": null,
   "id": "35927fd7",
   "metadata": {},
   "outputs": [],
   "source": []
  },
  {
   "cell_type": "code",
   "execution_count": null,
   "id": "0dfb8769",
   "metadata": {},
   "outputs": [],
   "source": []
  },
  {
   "cell_type": "code",
   "execution_count": null,
   "id": "e77586a4",
   "metadata": {},
   "outputs": [],
   "source": []
  }
 ],
 "metadata": {
  "kernelspec": {
   "display_name": "Python 3 (ipykernel)",
   "language": "python",
   "name": "python3"
  },
  "language_info": {
   "codemirror_mode": {
    "name": "ipython",
    "version": 3
   },
   "file_extension": ".py",
   "mimetype": "text/x-python",
   "name": "python",
   "nbconvert_exporter": "python",
   "pygments_lexer": "ipython3",
   "version": "3.11.4"
  }
 },
 "nbformat": 4,
 "nbformat_minor": 5
}
