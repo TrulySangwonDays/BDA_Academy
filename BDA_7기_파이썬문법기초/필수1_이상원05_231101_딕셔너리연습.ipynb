{
 "cells": [
  {
   "cell_type": "markdown",
   "id": "06731f6c",
   "metadata": {},
   "source": [
    "# 필수과제 1. \n",
    "- 딕셔너리 만들기"
   ]
  },
  {
   "cell_type": "code",
   "execution_count": 4,
   "id": "ab9d3850",
   "metadata": {},
   "outputs": [
    {
     "data": {
      "text/plain": [
       "{'이름': '이상원', '학과': '경영학', '성별': '남', '혈액형': 'A', '학번': 123456}"
      ]
     },
     "execution_count": 4,
     "metadata": {},
     "output_type": "execute_result"
    }
   ],
   "source": [
    "dict_1 = {\"이름\":\"이상원\",\n",
    "          \"학과\":\"경영학\",\n",
    "          \"성별\":\"남\",\n",
    "          \"혈액형\":\"A\",\n",
    "          \"학번\":123456}\n",
    "dict_1"
   ]
  },
  {
   "cell_type": "code",
   "execution_count": 17,
   "id": "93065505",
   "metadata": {},
   "outputs": [
    {
     "name": "stdout",
     "output_type": "stream",
     "text": [
      "{'이름': '이상원', '학번': 123456, '전공': '경영학', '수강과목': ['경영조직론', '비즈니스애널리틱스', '운영관리']}\n",
      "['경영조직론', '비즈니스애널리틱스', '운영관리']\n"
     ]
    }
   ],
   "source": [
    "dict_2 = {\"이름\":\"이상원\",\n",
    "          \"학번\":123456,\n",
    "          \"전공\":\"경영학\",\n",
    "          \"수강과목\":[\"경영조직론\",\"비즈니스애널리틱스\",\"운영관리\"]}\n",
    "print(dict_2)\n",
    "print(dict_2[\"수강과목\"])"
   ]
  },
  {
   "cell_type": "code",
   "execution_count": 35,
   "id": "740240d4",
   "metadata": {},
   "outputs": [
    {
     "name": "stdout",
     "output_type": "stream",
     "text": [
      "{'Access_ID': '브다', 'Access_pwd': 123456}\n",
      "브다 123456\n"
     ]
    }
   ],
   "source": [
    "dict_3 = dict(Access_ID = \"브다\",\n",
    "              Access_pwd = 123456)\n",
    "\n",
    "print(dict_3)\n",
    "print(dict_3[\"Access_ID\"], dict_3[\"Access_pwd\"])"
   ]
  },
  {
   "cell_type": "code",
   "execution_count": 33,
   "id": "eb7f0852",
   "metadata": {},
   "outputs": [
    {
     "data": {
      "text/plain": [
       "{'이상원': 12345, '고윤정': 111111, '김채원': 777777}"
      ]
     },
     "execution_count": 33,
     "metadata": {},
     "output_type": "execute_result"
    }
   ],
   "source": [
    "name = [\"이상원\", \"고윤정\", \"김채원\", \"안유진\"]\n",
    "student_ID = [12345, 111111, 777777]\n",
    "\n",
    "dict_4 = dict(zip(name, student_ID))\n",
    "\n",
    "dict_4"
   ]
  },
  {
   "cell_type": "code",
   "execution_count": null,
   "id": "54ce0d1e",
   "metadata": {},
   "outputs": [],
   "source": []
  }
 ],
 "metadata": {
  "kernelspec": {
   "display_name": "Python 3 (ipykernel)",
   "language": "python",
   "name": "python3"
  },
  "language_info": {
   "codemirror_mode": {
    "name": "ipython",
    "version": 3
   },
   "file_extension": ".py",
   "mimetype": "text/x-python",
   "name": "python",
   "nbconvert_exporter": "python",
   "pygments_lexer": "ipython3",
   "version": "3.11.4"
  }
 },
 "nbformat": 4,
 "nbformat_minor": 5
}
