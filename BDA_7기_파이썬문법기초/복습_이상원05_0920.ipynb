{
 "cells": [
  {
   "cell_type": "markdown",
   "id": "c03e3bdf",
   "metadata": {},
   "source": [
    "# 비교, 논리연산 -> 불린값(True/False)"
   ]
  },
  {
   "cell_type": "markdown",
   "id": "db61c3ad",
   "metadata": {},
   "source": [
    "- 비교연산자 : >, <, ==, >=, <= (초과, 미만, 같다, 이상, 이하)\n",
    "---"
   ]
  },
  {
   "cell_type": "code",
   "execution_count": 7,
   "id": "e61733d1",
   "metadata": {},
   "outputs": [
    {
     "data": {
      "text/plain": [
       "True"
      ]
     },
     "execution_count": 7,
     "metadata": {},
     "output_type": "execute_result"
    }
   ],
   "source": [
    "10 > 5"
   ]
  },
  {
   "cell_type": "code",
   "execution_count": 8,
   "id": "516bec8d",
   "metadata": {},
   "outputs": [
    {
     "data": {
      "text/plain": [
       "True"
      ]
     },
     "execution_count": 8,
     "metadata": {},
     "output_type": "execute_result"
    }
   ],
   "source": [
    "10 >= 10"
   ]
  },
  {
   "cell_type": "code",
   "execution_count": 9,
   "id": "821fc81c",
   "metadata": {},
   "outputs": [
    {
     "data": {
      "text/plain": [
       "False"
      ]
     },
     "execution_count": 9,
     "metadata": {},
     "output_type": "execute_result"
    }
   ],
   "source": [
    "5 > 10"
   ]
  },
  {
   "cell_type": "markdown",
   "id": "0704a6fc",
   "metadata": {},
   "source": [
    "- 논리연산자 : and, or, not\n",
    "---"
   ]
  },
  {
   "cell_type": "markdown",
   "id": "64df31cd",
   "metadata": {},
   "source": [
    "###### and 조건\n",
    "- 하나라도 참이 아니면 거짓으로 판단"
   ]
  },
  {
   "cell_type": "code",
   "execution_count": 16,
   "id": "190e0883",
   "metadata": {},
   "outputs": [
    {
     "name": "stdout",
     "output_type": "stream",
     "text": [
      "True\n",
      "False\n",
      "False\n",
      "False\n"
     ]
    }
   ],
   "source": [
    "print(True and True)\n",
    "print(True and True and False)\n",
    "print(True and False)\n",
    "print(False and True)"
   ]
  },
  {
   "cell_type": "code",
   "execution_count": 18,
   "id": "2fa1922e",
   "metadata": {},
   "outputs": [
    {
     "name": "stdout",
     "output_type": "stream",
     "text": [
      "True\n",
      "False\n",
      "False\n"
     ]
    }
   ],
   "source": [
    "a = 10\n",
    "b = 5\n",
    "\n",
    "print(a==10 and b==5) # True and True\n",
    "print(a==5 and b==5) # False and True\n",
    "print(a==10 and b==10) # True and False"
   ]
  },
  {
   "cell_type": "code",
   "execution_count": 20,
   "id": "8061ab8e",
   "metadata": {},
   "outputs": [
    {
     "name": "stdout",
     "output_type": "stream",
     "text": [
      "참입니다.\n"
     ]
    }
   ],
   "source": [
    "if a == 10 :\n",
    "    print(\"참입니다.\")"
   ]
  },
  {
   "cell_type": "markdown",
   "id": "7bfe158a",
   "metadata": {},
   "source": [
    "###### or 조건\n",
    "- 하나라도 참이면 참으로 판단\n",
    "- 전부 거짓이면 거짓으로 판단"
   ]
  },
  {
   "cell_type": "code",
   "execution_count": 21,
   "id": "b3f8a2a5",
   "metadata": {},
   "outputs": [
    {
     "name": "stdout",
     "output_type": "stream",
     "text": [
      "True\n",
      "True\n",
      "True\n",
      "False\n",
      "True\n"
     ]
    }
   ],
   "source": [
    "print(True or True)\n",
    "print(True or False)\n",
    "print(False or True or False)\n",
    "print(False or False or False)\n",
    "print(True or True or False)"
   ]
  },
  {
   "cell_type": "markdown",
   "id": "2e24a3d9",
   "metadata": {},
   "source": [
    "###### not 조건\n",
    "- 반대라는 의미\n",
    "- not True = False\n",
    "- not False = True"
   ]
  },
  {
   "cell_type": "code",
   "execution_count": 22,
   "id": "18f5c770",
   "metadata": {},
   "outputs": [
    {
     "name": "stdout",
     "output_type": "stream",
     "text": [
      "False\n",
      "True\n"
     ]
    }
   ],
   "source": [
    "print(not True)\n",
    "print(not False)"
   ]
  },
  {
   "cell_type": "code",
   "execution_count": 27,
   "id": "13de312a",
   "metadata": {},
   "outputs": [
    {
     "name": "stdout",
     "output_type": "stream",
     "text": [
      "True\n",
      "True\n",
      "False\n"
     ]
    }
   ],
   "source": [
    "# 논리연산자가 여러 개 섞여있는 경우 예시\n",
    "print(not False and True or not False and True)\n",
    "print(not False or not False or False)\n",
    "print(not True or not True or not True or not True)"
   ]
  },
  {
   "cell_type": "markdown",
   "id": "14a26517",
   "metadata": {},
   "source": [
    "### Python의 작동원리\n",
    "- short - circuit evaluation 단락평가\n",
    "- 비효율을 줄이기 위함\n",
    "- 어떤 조건을 봤을 때 뒤에 결과를 볼 필요도 없이 확실하다고 판단되면,\n",
    "- 뒤에 어떤 값이 오더라도 그냥 넘어감"
   ]
  },
  {
   "cell_type": "code",
   "execution_count": 29,
   "id": "46d35f6f",
   "metadata": {},
   "outputs": [
    {
     "name": "stdout",
     "output_type": "stream",
     "text": [
      "False\n"
     ]
    }
   ],
   "source": [
    "print(False and True)\n",
    "# and 조건에 앞에 False가 왔으므로 뒤의 True를 읽기 전에 곧바로 False로 판단"
   ]
  },
  {
   "cell_type": "code",
   "execution_count": 31,
   "id": "05597a59",
   "metadata": {},
   "outputs": [
    {
     "name": "stdout",
     "output_type": "stream",
     "text": [
      "True\n",
      "abc\n"
     ]
    }
   ],
   "source": [
    "print('abc' and True) # 문자열을 참으로 판단하고 뒤의 True를 읽음\n",
    "print(True and 'abc') # True를 읽고 뒤의 문자열을 출력함"
   ]
  },
  {
   "cell_type": "markdown",
   "id": "3a4e29f1",
   "metadata": {},
   "source": [
    "### 문자열"
   ]
  },
  {
   "cell_type": "code",
   "execution_count": 33,
   "id": "39acf84c",
   "metadata": {},
   "outputs": [
    {
     "data": {
      "text/plain": [
       "'안녕하세요'"
      ]
     },
     "execution_count": 33,
     "metadata": {},
     "output_type": "execute_result"
    }
   ],
   "source": [
    "good = '안녕하세요'\n",
    "good"
   ]
  },
  {
   "cell_type": "code",
   "execution_count": 34,
   "id": "9aaff22d",
   "metadata": {},
   "outputs": [
    {
     "name": "stdout",
     "output_type": "stream",
     "text": [
      "안녕하세요\n"
     ]
    }
   ],
   "source": [
    "print(good)"
   ]
  },
  {
   "cell_type": "markdown",
   "id": "fb882b66",
   "metadata": {},
   "source": [
    "### 자료형\n",
    "- 숫자 (정수, 소수)\n",
    "- 문자열\n",
    "- 불린값"
   ]
  },
  {
   "cell_type": "markdown",
   "id": "e611d4f8",
   "metadata": {},
   "source": [
    "### 연산자\n",
    "- 비교 > < == >= <=\n",
    "- 논리 and, or, not"
   ]
  },
  {
   "cell_type": "markdown",
   "id": "038ac04c",
   "metadata": {},
   "source": [
    "---"
   ]
  },
  {
   "cell_type": "markdown",
   "id": "04debfb3",
   "metadata": {},
   "source": [
    "# 리스트\n",
    "- a 라는 변수에 10 말고도 10, 20, 30, 40, ... 을 담고 싶을 때\n",
    "- 여러가지의 값을 변수에 넣고 싶을 때\n",
    "---\n",
    "###### 도라에몽주머니\n",
    "###### 모든 자료형을 넣을 수 있음\n",
    "###### 활용도가 높다"
   ]
  },
  {
   "cell_type": "code",
   "execution_count": 35,
   "id": "2bdf0e70",
   "metadata": {},
   "outputs": [
    {
     "data": {
      "text/plain": [
       "[1, 2, 3, 4, 5]"
      ]
     },
     "execution_count": 35,
     "metadata": {},
     "output_type": "execute_result"
    }
   ],
   "source": [
    "lst = [1, 2, 3, 4, 5]\n",
    "lst"
   ]
  },
  {
   "cell_type": "code",
   "execution_count": 37,
   "id": "dfb1880f",
   "metadata": {},
   "outputs": [
    {
     "data": {
      "text/plain": [
       "['이상원', 20201929, '남', 177, 70, True]"
      ]
     },
     "execution_count": 37,
     "metadata": {},
     "output_type": "execute_result"
    }
   ],
   "source": [
    "student = ['이상원', 20201929, '남', 177, 70, True]\n",
    "student"
   ]
  },
  {
   "cell_type": "code",
   "execution_count": 39,
   "id": "7c66a9dd",
   "metadata": {},
   "outputs": [],
   "source": [
    "new_lst1 = []\n",
    "new_lst2 = list()"
   ]
  },
  {
   "cell_type": "code",
   "execution_count": 40,
   "id": "7e83ba5f",
   "metadata": {},
   "outputs": [
    {
     "data": {
      "text/plain": [
       "[]"
      ]
     },
     "execution_count": 40,
     "metadata": {},
     "output_type": "execute_result"
    }
   ],
   "source": [
    "new_lst1"
   ]
  },
  {
   "cell_type": "code",
   "execution_count": 41,
   "id": "15f7ca38",
   "metadata": {},
   "outputs": [
    {
     "data": {
      "text/plain": [
       "[]"
      ]
     },
     "execution_count": 41,
     "metadata": {},
     "output_type": "execute_result"
    }
   ],
   "source": [
    "new_lst2"
   ]
  },
  {
   "cell_type": "markdown",
   "id": "174f7cd4",
   "metadata": {},
   "source": [
    "# range() 함수\n",
    "- 기초적이지만 중요\n",
    "- 연속된 숫자(정수)들을 쉽게 만들어줌\n",
    "---\n",
    "###### 값들을 담을 주머니가 필요함 list\n",
    "###### 디폴트 값은 0.\n",
    "###### range(10) 의 의미는 0부터 시작해서 10개 만들어달라는 것. 0,1,2,3,4,5,6,7,8,9\n",
    "###### range( 값1, 값2, 값3)\n",
    "- 값1 : 보여주기시작할 값\n",
    "- 값2 : 0부터 몇 개?\n",
    "- 값3 : 증가폭"
   ]
  },
  {
   "cell_type": "code",
   "execution_count": 43,
   "id": "b4c60174",
   "metadata": {},
   "outputs": [
    {
     "data": {
      "text/plain": [
       "[0, 1, 2, 3, 4, 5, 6, 7, 8, 9]"
      ]
     },
     "execution_count": 43,
     "metadata": {},
     "output_type": "execute_result"
    }
   ],
   "source": [
    "list(range(10))"
   ]
  },
  {
   "cell_type": "code",
   "execution_count": 45,
   "id": "1c6eb537",
   "metadata": {},
   "outputs": [
    {
     "data": {
      "text/plain": [
       "[1, 3, 5, 7, 9]"
      ]
     },
     "execution_count": 45,
     "metadata": {},
     "output_type": "execute_result"
    }
   ],
   "source": [
    "list(range(1, 11, 2))"
   ]
  },
  {
   "cell_type": "code",
   "execution_count": 46,
   "id": "8f94c8cf",
   "metadata": {},
   "outputs": [
    {
     "data": {
      "text/plain": [
       "[5, 10, 15, 20, 25, 30, 35, 40, 45, 50]"
      ]
     },
     "execution_count": 46,
     "metadata": {},
     "output_type": "execute_result"
    }
   ],
   "source": [
    "list(range(5, 51, 5))"
   ]
  },
  {
   "cell_type": "markdown",
   "id": "83f4e39f",
   "metadata": {},
   "source": [
    "# 튜플 tuple()\n",
    "- 리스트 유사하지만 차이점 존재\n",
    "---\n",
    "###### 특징\n",
    "- 소괄호. (값1, 값2, 값3, ... )\n",
    "- 리스트와 동일하게 모든 자료형 대입 가능\n",
    "- 값을 삭제/변경 불가. 한번 들어가면 절대 변경 불가\n",
    "- 고정된 값이나 변동하면 안 되는 중요한 데이터를 보관할 때 사용 \n",
    "- cf. 리스트는 값을 자유롭게 수정/삭제 가능"
   ]
  },
  {
   "cell_type": "code",
   "execution_count": 47,
   "id": "2798f0a8",
   "metadata": {},
   "outputs": [
    {
     "data": {
      "text/plain": [
       "(1, 2, 3)"
      ]
     },
     "execution_count": 47,
     "metadata": {},
     "output_type": "execute_result"
    }
   ],
   "source": [
    "tpl = (1, 2, 3)\n",
    "tpl"
   ]
  },
  {
   "cell_type": "code",
   "execution_count": 48,
   "id": "18ff451f",
   "metadata": {},
   "outputs": [
    {
     "data": {
      "text/plain": [
       "(0, 3, 6, 9, 12, 15, 18, 21, 24, 27, 30)"
      ]
     },
     "execution_count": 48,
     "metadata": {},
     "output_type": "execute_result"
    }
   ],
   "source": [
    "# 튜플도 range()와 함께 사용 가능\n",
    "tpl_1 = tuple(range(0, 31, 3))\n",
    "tpl_1"
   ]
  },
  {
   "cell_type": "markdown",
   "id": "521b5d07",
   "metadata": {},
   "source": [
    "### list와 tuple에 문자열을 넣으면?\n",
    "- 해당 문자열을 쪼개서 담아버림"
   ]
  },
  {
   "cell_type": "code",
   "execution_count": 51,
   "id": "7c869c51",
   "metadata": {},
   "outputs": [
    {
     "data": {
      "text/plain": [
       "['A', 'B', 'C']"
      ]
     },
     "execution_count": 51,
     "metadata": {},
     "output_type": "execute_result"
    }
   ],
   "source": [
    "ABC = list('ABC')\n",
    "ABC"
   ]
  },
  {
   "cell_type": "code",
   "execution_count": 52,
   "id": "3190cc37",
   "metadata": {},
   "outputs": [
    {
     "data": {
      "text/plain": [
       "('a', 'b', 'c')"
      ]
     },
     "execution_count": 52,
     "metadata": {},
     "output_type": "execute_result"
    }
   ],
   "source": [
    "abc = tuple('abc')\n",
    "abc"
   ]
  }
 ],
 "metadata": {
  "kernelspec": {
   "display_name": "Python 3",
   "language": "python",
   "name": "python3"
  },
  "language_info": {
   "codemirror_mode": {
    "name": "ipython",
    "version": 3
   },
   "file_extension": ".py",
   "mimetype": "text/x-python",
   "name": "python",
   "nbconvert_exporter": "python",
   "pygments_lexer": "ipython3",
   "version": "3.8.8"
  }
 },
 "nbformat": 4,
 "nbformat_minor": 5
}
