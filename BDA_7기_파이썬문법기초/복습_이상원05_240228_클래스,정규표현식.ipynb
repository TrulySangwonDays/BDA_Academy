{
 "cells": [
  {
   "cell_type": "markdown",
   "id": "9c7432e0",
   "metadata": {},
   "source": [
    "# class 문법\n",
    "- class 클래스 이름 :\n",
    "    - def 매서드(self) :\n",
    "        - 사용할 코드"
   ]
  },
  {
   "cell_type": "code",
   "execution_count": 2,
   "id": "873d7209",
   "metadata": {},
   "outputs": [],
   "source": [
    "class bda :\n",
    "    def meeting(self) :\n",
    "        print('안녕하세요')\n",
    "    def plus(self) :\n",
    "        print('상점')\n",
    "    def minus(self) :\n",
    "        print('벌점')"
   ]
  },
  {
   "cell_type": "markdown",
   "id": "66748dda",
   "metadata": {},
   "source": [
    "### 클래스 작동방식\n",
    "- 변수 = 클래스()"
   ]
  },
  {
   "cell_type": "code",
   "execution_count": 3,
   "id": "3621e263",
   "metadata": {},
   "outputs": [],
   "source": [
    "python_1 = bda()"
   ]
  },
  {
   "cell_type": "code",
   "execution_count": 4,
   "id": "53c66ef4",
   "metadata": {},
   "outputs": [
    {
     "data": {
      "text/plain": [
       "<__main__.bda at 0x2b4efe78ed0>"
      ]
     },
     "execution_count": 4,
     "metadata": {},
     "output_type": "execute_result"
    }
   ],
   "source": [
    "python_1"
   ]
  },
  {
   "cell_type": "code",
   "execution_count": 7,
   "id": "b36c403a",
   "metadata": {},
   "outputs": [
    {
     "name": "stdout",
     "output_type": "stream",
     "text": [
      "안녕하세요\n",
      "상점\n",
      "벌점\n"
     ]
    }
   ],
   "source": [
    "python_1.meeting()\n",
    "python_1.plus()\n",
    "python_1.minus()"
   ]
  },
  {
   "cell_type": "markdown",
   "id": "ae8dcb38",
   "metadata": {},
   "source": [
    "# 클래스에서는 함수, 속성\n",
    "- 속성이란?\n",
    "- init(self) :\n",
    "    - self.속성 = 값"
   ]
  },
  {
   "cell_type": "code",
   "execution_count": 8,
   "id": "cdfd8f8f",
   "metadata": {},
   "outputs": [],
   "source": [
    "class bda :\n",
    "    def __init__(self) :\n",
    "        self.cls = '파이썬 문법 기초반'\n",
    "    def meeting(self) :\n",
    "        print(self.cls)"
   ]
  },
  {
   "cell_type": "code",
   "execution_count": 9,
   "id": "33cb2837",
   "metadata": {},
   "outputs": [],
   "source": [
    "bda1 = bda()"
   ]
  },
  {
   "cell_type": "code",
   "execution_count": 10,
   "id": "633a11f9",
   "metadata": {},
   "outputs": [
    {
     "name": "stdout",
     "output_type": "stream",
     "text": [
      "파이썬 문법 기초반\n"
     ]
    }
   ],
   "source": [
    "bda1.meeting()"
   ]
  },
  {
   "cell_type": "code",
   "execution_count": 14,
   "id": "4474e753",
   "metadata": {},
   "outputs": [],
   "source": [
    "class bda :\n",
    "    def __init__(self) :\n",
    "        self.cls = '파이썬 문법 기초반'\n",
    "        self.num = '7기'\n",
    "        self.cnt = '100명'\n",
    "        self.good = '30명'\n",
    "        \n",
    "    def class_name(self) :\n",
    "        print(self.cls)\n",
    "    def class_number(self) :\n",
    "        print(self.num)\n",
    "    def class_count(self) :\n",
    "        print(self.cnt)\n",
    "    def class_good(self) :\n",
    "        print(self.good)"
   ]
  },
  {
   "cell_type": "code",
   "execution_count": 15,
   "id": "ed666e13",
   "metadata": {},
   "outputs": [],
   "source": [
    "bda1 = bda()"
   ]
  },
  {
   "cell_type": "code",
   "execution_count": 19,
   "id": "e4137e0b",
   "metadata": {},
   "outputs": [
    {
     "name": "stdout",
     "output_type": "stream",
     "text": [
      "파이썬 문법 기초반\n",
      "7기\n",
      "100명\n",
      "30명\n"
     ]
    }
   ],
   "source": [
    "bda1.class_name()\n",
    "bda1.class_number()\n",
    "bda1.class_count()\n",
    "bda1.class_good()"
   ]
  },
  {
   "cell_type": "markdown",
   "id": "964de0f9",
   "metadata": {},
   "source": [
    "- bda 클래스를 만들고\n",
    "- init 매서드 안에 값을 넣어서 진행하고\n",
    "- 함수를 이용해서 해당 값들을 불러올 수 있다"
   ]
  },
  {
   "cell_type": "markdown",
   "id": "6e1ce09d",
   "metadata": {},
   "source": [
    "# self가 의미하는 바\n",
    "- 자기자신을 뜻함. 인터스턴스 자기 자신을 뜻함\n",
    "- self.class_name() = 파이썬 문법 기초반"
   ]
  },
  {
   "cell_type": "code",
   "execution_count": 22,
   "id": "3b8c372a",
   "metadata": {},
   "outputs": [],
   "source": [
    "class bda :\n",
    "    def __init__(self, num, cnt, good) :\n",
    "        self.cls = '파이썬 문법 기초반'\n",
    "        self.num = num\n",
    "        self.cnt = cnt\n",
    "        self.good = good\n",
    "        \n",
    "    def class_fullname(self) :\n",
    "        print('{0}은 {1} 기수입니다.'.format(self.cls, self.num))"
   ]
  },
  {
   "cell_type": "code",
   "execution_count": 23,
   "id": "812be001",
   "metadata": {},
   "outputs": [],
   "source": [
    "bda1 = bda('7기', '100명', '30명')"
   ]
  },
  {
   "cell_type": "code",
   "execution_count": 24,
   "id": "45a84720",
   "metadata": {},
   "outputs": [
    {
     "data": {
      "text/plain": [
       "<__main__.bda at 0x2b4f05b8210>"
      ]
     },
     "execution_count": 24,
     "metadata": {},
     "output_type": "execute_result"
    }
   ],
   "source": [
    "bda1"
   ]
  },
  {
   "cell_type": "code",
   "execution_count": 26,
   "id": "a9b65e93",
   "metadata": {},
   "outputs": [
    {
     "name": "stdout",
     "output_type": "stream",
     "text": [
      "파이썬 문법 기초반은 7기 기수입니다.\n"
     ]
    }
   ],
   "source": [
    "bda1.class_fullname()"
   ]
  },
  {
   "cell_type": "markdown",
   "id": "0b0e9e98",
   "metadata": {},
   "source": [
    "# 정규표현식 (regular expression)\n",
    "- re 패키지를 가지고 온다\n",
    "\n",
    "- 문자열 데이터의 규칙과 패턴을 가지고 올 때 많이 사용함\n",
    "- 기존에 배웠던 문자열 문법의 경우 매서드를 이용한 것\n",
    "- 매서드로 만들 수 없는 어떤 나만의 패턴 등을 찾을 때, 추출할 때, 분석할 때 사용할 수 있다\n",
    "- 분석이나 어떤 특정 상황에서 정규표현식을 이용해서 다양하게 응용 가능\n",
    "\n",
    "- 다양한 데이터 속에서 전화번호 패턴, 이메일 패턴 등의 특정 패턴을 추출하고 싶다\n",
    "- 패턴을 정규표현식을 이용해서 나타낼 수 있다.\n",
    "- 주민등록번호 패턴 000000-0000000\n",
    "- e.g. 010-0000-0000, abcdef@gmail.com\n",
    "- 회원가입 시, 대소문자, 숫자, 특수문자 꼭 이용하세요 등\n",
    "\n",
    "nlp 자연어 처리 -> 분석 전에 데이터 전처리, 정규표현식을 이용해서 문자열 데이터 전처리 진행시 많이 사용됨"
   ]
  },
  {
   "cell_type": "code",
   "execution_count": 27,
   "id": "035ed438",
   "metadata": {},
   "outputs": [],
   "source": [
    "import re"
   ]
  },
  {
   "cell_type": "markdown",
   "id": "5866d8ec",
   "metadata": {},
   "source": [
    "- re.매서드 중에서\n",
    "- match('패턴', '문자열')\n",
    "- search('패턴', '문자열')"
   ]
  },
  {
   "cell_type": "code",
   "execution_count": 28,
   "id": "ff2df318",
   "metadata": {},
   "outputs": [
    {
     "data": {
      "text/plain": [
       "<re.Match object; span=(0, 2), match='Hi'>"
      ]
     },
     "execution_count": 28,
     "metadata": {},
     "output_type": "execute_result"
    }
   ],
   "source": [
    "re.match('Hi', 'Hi, Hello')"
   ]
  },
  {
   "cell_type": "markdown",
   "id": "a723e684",
   "metadata": {},
   "source": [
    "- span( 니가 찾은 문자열의 위치 인덱스 ), match 실제 찾은 값"
   ]
  },
  {
   "cell_type": "code",
   "execution_count": 29,
   "id": "bfdeae69",
   "metadata": {},
   "outputs": [],
   "source": [
    "re.match('abc', 'Hi, Hello, abc')"
   ]
  },
  {
   "cell_type": "code",
   "execution_count": 30,
   "id": "d9124b30",
   "metadata": {},
   "outputs": [
    {
     "data": {
      "text/plain": [
       "<re.Match object; span=(11, 14), match='abc'>"
      ]
     },
     "execution_count": 30,
     "metadata": {},
     "output_type": "execute_result"
    }
   ],
   "source": [
    "re.search('abc', 'Hi, Hello, abc')"
   ]
  },
  {
   "cell_type": "markdown",
   "id": "5b199ae9",
   "metadata": {},
   "source": [
    "### 정규표현식 방식\n",
    "- 기존에는 문자만 진행했지만\n",
    "- 문자 외에 숫자, 한글, 알파벳 등 여러 패턴을 찾기 위해서는\n",
    "- 숫자[0-9] #모든 숫자\n",
    "- 소문자[a-z] #모든 소문자\n",
    "- 대문자[A-Z] #모든 대문자"
   ]
  },
  {
   "cell_type": "code",
   "execution_count": 31,
   "id": "7f81ad96",
   "metadata": {},
   "outputs": [
    {
     "data": {
      "text/plain": [
       "<re.Match object; span=(0, 1), match='1'>"
      ]
     },
     "execution_count": 31,
     "metadata": {},
     "output_type": "execute_result"
    }
   ],
   "source": [
    "re.search('[0-9]', '1234')"
   ]
  },
  {
   "cell_type": "markdown",
   "id": "e89e8683",
   "metadata": {},
   "source": [
    "### 2, 3, 4까지 다 찾고 싶다면? -> 범위 지정 가능\n",
    "- ' * '\n",
    "- ' + '"
   ]
  },
  {
   "cell_type": "code",
   "execution_count": 32,
   "id": "94243377",
   "metadata": {},
   "outputs": [
    {
     "data": {
      "text/plain": [
       "<re.Match object; span=(0, 0), match=''>"
      ]
     },
     "execution_count": 32,
     "metadata": {},
     "output_type": "execute_result"
    }
   ],
   "source": [
    "re.search('[0-9]*', '홍길동님 비밀번호는 1234')"
   ]
  },
  {
   "cell_type": "code",
   "execution_count": 33,
   "id": "504f010c",
   "metadata": {},
   "outputs": [
    {
     "data": {
      "text/plain": [
       "<re.Match object; span=(11, 15), match='1234'>"
      ]
     },
     "execution_count": 33,
     "metadata": {},
     "output_type": "execute_result"
    }
   ],
   "source": [
    "re.search('[0-9]+', '홍길동님 비밀번호는 1234')"
   ]
  },
  {
   "cell_type": "code",
   "execution_count": 34,
   "id": "37647729",
   "metadata": {},
   "outputs": [
    {
     "data": {
      "text/plain": [
       "<re.Match object; span=(0, 0), match=''>"
      ]
     },
     "execution_count": 34,
     "metadata": {},
     "output_type": "execute_result"
    }
   ],
   "source": [
    "re.match('[0-9]*', '홍길동님 비밀번호는 1234')"
   ]
  },
  {
   "cell_type": "code",
   "execution_count": 36,
   "id": "44f290ec",
   "metadata": {},
   "outputs": [],
   "source": [
    "re.match('[0-9]+', '홍길동님 비밀번호는 1234')"
   ]
  },
  {
   "cell_type": "markdown",
   "id": "f8da2e73",
   "metadata": {},
   "source": [
    "---\n",
    "---"
   ]
  },
  {
   "cell_type": "code",
   "execution_count": 37,
   "id": "a1e6addb",
   "metadata": {},
   "outputs": [
    {
     "data": {
      "text/plain": [
       "<re.Match object; span=(0, 1), match='b'>"
      ]
     },
     "execution_count": 37,
     "metadata": {},
     "output_type": "execute_result"
    }
   ],
   "source": [
    "re.match('a*b', 'b')"
   ]
  },
  {
   "cell_type": "code",
   "execution_count": 39,
   "id": "512948d2",
   "metadata": {},
   "outputs": [
    {
     "data": {
      "text/plain": [
       "<re.Match object; span=(0, 2), match='ab'>"
      ]
     },
     "execution_count": 39,
     "metadata": {},
     "output_type": "execute_result"
    }
   ],
   "source": [
    "re.match('a+b', 'ab')"
   ]
  },
  {
   "cell_type": "code",
   "execution_count": 40,
   "id": "099b0448",
   "metadata": {},
   "outputs": [
    {
     "data": {
      "text/plain": [
       "<re.Match object; span=(0, 5), match='aaaab'>"
      ]
     },
     "execution_count": 40,
     "metadata": {},
     "output_type": "execute_result"
    }
   ],
   "source": [
    "re.match('a+b', 'aaaab')"
   ]
  },
  {
   "cell_type": "markdown",
   "id": "cf1cacc5",
   "metadata": {},
   "source": [
    "# 휴대 전화번호 패턴 만들기\n",
    "- 000-0000-0000 번호 패턴\n",
    "- 0000000000\n",
    "- 회원가입 시 - 빼달라고 하는 경우"
   ]
  },
  {
   "cell_type": "code",
   "execution_count": 41,
   "id": "0f249e03",
   "metadata": {},
   "outputs": [
    {
     "data": {
      "text/plain": [
       "<re.Match object; span=(0, 13), match='010-1234-5678'>"
      ]
     },
     "execution_count": 41,
     "metadata": {},
     "output_type": "execute_result"
    }
   ],
   "source": [
    "re.match('[0-9]{3}-[0-9]{4}-[0-9]{4}', '010-1234-5678')"
   ]
  },
  {
   "cell_type": "code",
   "execution_count": 42,
   "id": "03e1d1ce",
   "metadata": {},
   "outputs": [],
   "source": [
    "re.match('[0-9]{3}-[0-9]{4}-[0-9]{4}', '01012345678')"
   ]
  },
  {
   "cell_type": "code",
   "execution_count": 43,
   "id": "e76b4f6c",
   "metadata": {},
   "outputs": [
    {
     "data": {
      "text/plain": [
       "<re.Match object; span=(0, 13), match='010-1234-5678'>"
      ]
     },
     "execution_count": 43,
     "metadata": {},
     "output_type": "execute_result"
    }
   ],
   "source": [
    "re.match('[0-9]*-[0-9]*-[0-9]*', '010-1234-5678')"
   ]
  },
  {
   "cell_type": "code",
   "execution_count": 44,
   "id": "9c4bb2ab",
   "metadata": {},
   "outputs": [
    {
     "data": {
      "text/plain": [
       "<re.Match object; span=(0, 18), match='010-1234-567832423'>"
      ]
     },
     "execution_count": 44,
     "metadata": {},
     "output_type": "execute_result"
    }
   ],
   "source": [
    "re.match('[0-9]*-[0-9]*-[0-9]*', '010-1234-567832423')"
   ]
  },
  {
   "cell_type": "markdown",
   "id": "c704a1c8",
   "metadata": {},
   "source": [
    "[가-힣]\n",
    "[ㄱ-ㅎ]\n",
    "[ㅏ-ㅣ]"
   ]
  },
  {
   "cell_type": "code",
   "execution_count": 45,
   "id": "354048a0",
   "metadata": {},
   "outputs": [
    {
     "data": {
      "text/plain": [
       "<re.Match object; span=(0, 4), match='홍길동님'>"
      ]
     },
     "execution_count": 45,
     "metadata": {},
     "output_type": "execute_result"
    }
   ],
   "source": [
    "re.match('[가-힣]*', '홍길동님 12345678')"
   ]
  },
  {
   "cell_type": "code",
   "execution_count": 46,
   "id": "8c591dcf",
   "metadata": {},
   "outputs": [
    {
     "data": {
      "text/plain": [
       "<re.Match object; span=(0, 0), match=''>"
      ]
     },
     "execution_count": 46,
     "metadata": {},
     "output_type": "execute_result"
    }
   ],
   "source": [
    "re.match('[가-힣]*', 'adfaf 홍길동님 12345678')"
   ]
  },
  {
   "cell_type": "code",
   "execution_count": 47,
   "id": "e04632d2",
   "metadata": {},
   "outputs": [
    {
     "data": {
      "text/plain": [
       "<re.Match object; span=(0, 0), match=''>"
      ]
     },
     "execution_count": 47,
     "metadata": {},
     "output_type": "execute_result"
    }
   ],
   "source": [
    "re.search('[가-힣]*', 'adfaf 홍길동님 12345678')"
   ]
  },
  {
   "cell_type": "code",
   "execution_count": 48,
   "id": "b9ee3eff",
   "metadata": {},
   "outputs": [
    {
     "data": {
      "text/plain": [
       "<re.Match object; span=(6, 10), match='홍길동님'>"
      ]
     },
     "execution_count": 48,
     "metadata": {},
     "output_type": "execute_result"
    }
   ],
   "source": [
    "re.search('[가-힣]+', 'adfaf 홍길동님 12345678')"
   ]
  },
  {
   "cell_type": "code",
   "execution_count": null,
   "id": "5744ce00",
   "metadata": {},
   "outputs": [],
   "source": []
  }
 ],
 "metadata": {
  "kernelspec": {
   "display_name": "Python 3 (ipykernel)",
   "language": "python",
   "name": "python3"
  },
  "language_info": {
   "codemirror_mode": {
    "name": "ipython",
    "version": 3
   },
   "file_extension": ".py",
   "mimetype": "text/x-python",
   "name": "python",
   "nbconvert_exporter": "python",
   "pygments_lexer": "ipython3",
   "version": "3.11.4"
  }
 },
 "nbformat": 4,
 "nbformat_minor": 5
}
