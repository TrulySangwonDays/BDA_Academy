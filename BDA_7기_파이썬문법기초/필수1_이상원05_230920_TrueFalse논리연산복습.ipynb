{
 "cells": [
  {
   "cell_type": "markdown",
   "id": "06731f6c",
   "metadata": {},
   "source": [
    "# 필수과제 1.\n",
    "### 참과 거짓에 대한 논리연산자를 최대 10개씩 and, or 섞어서 만들기\n",
    "- 조건은 대소 비교, 변수 등등 우리가 수업시간에 배운 내용을 가지고 비교해 보면서 결국 출력값이 참 또는 거짓으로 나오게 ( 불린값 )해서 논리연산자를 사용해 주세요"
   ]
  },
  {
   "cell_type": "code",
   "execution_count": 5,
   "id": "48387555",
   "metadata": {},
   "outputs": [
    {
     "name": "stdout",
     "output_type": "stream",
     "text": [
      "True\n",
      "False\n",
      "True\n",
      "False\n"
     ]
    }
   ],
   "source": [
    "# 숫자 대 숫자\n",
    "print(10 > 5)\n",
    "print(5 > 10)\n",
    "print(8 > -3)\n",
    "print(-3 > 8)"
   ]
  },
  {
   "cell_type": "code",
   "execution_count": 13,
   "id": "0f903889",
   "metadata": {},
   "outputs": [
    {
     "name": "stdout",
     "output_type": "stream",
     "text": [
      "a = 10\n",
      "b = 5\n",
      "c = 8\n",
      "d = -3\n",
      "True\n",
      "False\n",
      "True\n",
      "False\n"
     ]
    }
   ],
   "source": [
    "# 변수 대 변수\n",
    "a = 10\n",
    "b = 5\n",
    "c = 8\n",
    "d = -3\n",
    "\n",
    "# 변수 확인\n",
    "print('a =', a)\n",
    "print('b =', b)\n",
    "print('c =', c)\n",
    "print('d =', d)\n",
    "\n",
    "# 논리 연산\n",
    "print(a > b)\n",
    "print(b > a)\n",
    "print(c > d)\n",
    "print(d > c)"
   ]
  },
  {
   "cell_type": "code",
   "execution_count": 47,
   "id": "96da65ff",
   "metadata": {},
   "outputs": [
    {
     "name": "stdout",
     "output_type": "stream",
     "text": [
      "True\n",
      "False\n",
      "False\n",
      "False\n",
      "\n",
      "True\n",
      "True\n",
      "False\n",
      "True\n"
     ]
    }
   ],
   "source": [
    "# and 조건\n",
    "print(True and True)\n",
    "print(True and False)\n",
    "print(False and False)\n",
    "print(False and False)\n",
    "print(\"\")\n",
    "# or 조건\n",
    "print(True or True)\n",
    "print(True or False)\n",
    "print(False or False)\n",
    "print(False or True)\n"
   ]
  },
  {
   "cell_type": "code",
   "execution_count": 27,
   "id": "bc36da2c",
   "metadata": {},
   "outputs": [
    {
     "name": "stdout",
     "output_type": "stream",
     "text": [
      "True\n",
      "False\n",
      "\n",
      "False\n",
      "True\n",
      "True\n",
      "True\n"
     ]
    }
   ],
   "source": [
    "# 응용\n",
    "print(a == 10)\n",
    "print(a == 5)\n",
    "print(\"\")\n",
    "print(a == 10 and a == 5)\n",
    "print(a == 10 and b == 5)\n",
    "print(a == 10 or b == 10)\n",
    "print(a == 5 or a == 10)"
   ]
  },
  {
   "cell_type": "code",
   "execution_count": 42,
   "id": "81dfb1c3",
   "metadata": {},
   "outputs": [
    {
     "name": "stdout",
     "output_type": "stream",
     "text": [
      "False\n",
      "True\n",
      "\n",
      "True\n",
      "True\n",
      "False\n",
      "\n",
      "False\n",
      "이상원\n",
      "True\n",
      "False\n"
     ]
    }
   ],
   "source": [
    "# 응용2\n",
    "print(not True)\n",
    "print(not False)\n",
    "print(\"\")\n",
    "print(True and False or True)\n",
    "print(True or False and True)\n",
    "print(False and True or False and not True) # python은 효율적으로 작동함. 판정나는 순간 뒤에 볼 필요없이 넘어감.\n",
    "print(\"\")\n",
    "print(False and \"이상원\")\n",
    "print(True and \"이상원\")\n",
    "print(True or \"이상원\" == a)\n",
    "print(True and \"이상원\" == a)"
   ]
  },
  {
   "cell_type": "code",
   "execution_count": null,
   "id": "3982d477",
   "metadata": {},
   "outputs": [],
   "source": []
  }
 ],
 "metadata": {
  "kernelspec": {
   "display_name": "Python 3",
   "language": "python",
   "name": "python3"
  },
  "language_info": {
   "codemirror_mode": {
    "name": "ipython",
    "version": 3
   },
   "file_extension": ".py",
   "mimetype": "text/x-python",
   "name": "python",
   "nbconvert_exporter": "python",
   "pygments_lexer": "ipython3",
   "version": "3.8.8"
  }
 },
 "nbformat": 4,
 "nbformat_minor": 5
}
