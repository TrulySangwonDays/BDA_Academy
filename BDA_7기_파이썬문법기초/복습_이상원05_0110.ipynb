{
 "cells": [
  {
   "cell_type": "markdown",
   "id": "28868fa3",
   "metadata": {},
   "source": [
    "# FizzBuzz문제 풀기\n",
    "- 1부터 100까지 숫자 나열\n",
    "- 3의 배수는 Fizz 출력\n",
    "- 5의 배수는 Buzz 출력\n",
    "- 3과 5의 공배수는 FizzBuzz 출력\n",
    "- 반복문과 if문을 이용해서 여러 조건을 반영하기"
   ]
  },
  {
   "cell_type": "code",
   "execution_count": 4,
   "id": "dd453984",
   "metadata": {
    "scrolled": true
   },
   "outputs": [
    {
     "name": "stdout",
     "output_type": "stream",
     "text": [
      "1\n",
      "2\n",
      "Fizz\n",
      "4\n",
      "Buzz\n",
      "Fizz\n",
      "7\n",
      "8\n",
      "Fizz\n",
      "Buzz\n",
      "11\n",
      "Fizz\n",
      "13\n",
      "14\n",
      "FizzBuzz\n",
      "16\n",
      "17\n",
      "Fizz\n",
      "19\n",
      "Buzz\n",
      "Fizz\n",
      "22\n",
      "23\n",
      "Fizz\n",
      "Buzz\n",
      "26\n",
      "Fizz\n",
      "28\n",
      "29\n",
      "FizzBuzz\n",
      "31\n",
      "32\n",
      "Fizz\n",
      "34\n",
      "Buzz\n",
      "Fizz\n",
      "37\n",
      "38\n",
      "Fizz\n",
      "Buzz\n",
      "41\n",
      "Fizz\n",
      "43\n",
      "44\n",
      "FizzBuzz\n",
      "46\n",
      "47\n",
      "Fizz\n",
      "49\n",
      "Buzz\n",
      "Fizz\n",
      "52\n",
      "53\n",
      "Fizz\n",
      "Buzz\n",
      "56\n",
      "Fizz\n",
      "58\n",
      "59\n",
      "FizzBuzz\n",
      "61\n",
      "62\n",
      "Fizz\n",
      "64\n",
      "Buzz\n",
      "Fizz\n",
      "67\n",
      "68\n",
      "Fizz\n",
      "Buzz\n",
      "71\n",
      "Fizz\n",
      "73\n",
      "74\n",
      "FizzBuzz\n",
      "76\n",
      "77\n",
      "Fizz\n",
      "79\n",
      "Buzz\n",
      "Fizz\n",
      "82\n",
      "83\n",
      "Fizz\n",
      "Buzz\n",
      "86\n",
      "Fizz\n",
      "88\n",
      "89\n",
      "FizzBuzz\n",
      "91\n",
      "92\n",
      "Fizz\n",
      "94\n",
      "Buzz\n",
      "Fizz\n",
      "97\n",
      "98\n",
      "Fizz\n",
      "Buzz\n"
     ]
    }
   ],
   "source": [
    "for i in range(1,101) :\n",
    "    if i % 3 == 0 and i % 5 == 0 :\n",
    "        print(\"FizzBuzz\")\n",
    "    elif i % 3 == 0 :\n",
    "        print(\"Fizz\")\n",
    "    elif i % 5 == 0 :\n",
    "        print(\"Buzz\")\n",
    "    else :\n",
    "        print(i)"
   ]
  },
  {
   "cell_type": "markdown",
   "id": "e5e5d554",
   "metadata": {},
   "source": [
    "---\n",
    "# 리스트 응용하기\n",
    "---\n",
    "- 리스트를 주머니를 응용하는 문법들\n",
    "---\n",
    "- append : 요소를 하나씩 추가하는 기능\n",
    "- extend : 리스트를 연결 확장하는 기능\n",
    "- insert : 특정 인덱스에 요소를 추가하는 기능\n",
    "---\n",
    "- pop : 마지막 요소 값 또는 특정 인덱스 요소 삭제\n",
    "- remove : 특정 값 삭제\n",
    "- del : 전체 삭제\n",
    "---"
   ]
  },
  {
   "cell_type": "markdown",
   "id": "90731e6d",
   "metadata": {},
   "source": []
  },
  {
   "cell_type": "markdown",
   "id": "db034fe4",
   "metadata": {},
   "source": [
    "---\n",
    "### append() : 요소를 하나씩 추가하는 기능"
   ]
  },
  {
   "cell_type": "code",
   "execution_count": 5,
   "id": "060d2856",
   "metadata": {},
   "outputs": [
    {
     "data": {
      "text/plain": [
       "['치킨', '햄버거', '피자']"
      ]
     },
     "execution_count": 5,
     "metadata": {},
     "output_type": "execute_result"
    }
   ],
   "source": [
    "a = ['치킨', '햄버거', '피자']\n",
    "a"
   ]
  },
  {
   "cell_type": "code",
   "execution_count": 7,
   "id": "4df6290f",
   "metadata": {},
   "outputs": [
    {
     "data": {
      "text/plain": [
       "['치킨', '햄버거', '피자', '파스타']"
      ]
     },
     "execution_count": 7,
     "metadata": {},
     "output_type": "execute_result"
    }
   ],
   "source": [
    "a.append('파스타')\n",
    "a"
   ]
  },
  {
   "cell_type": "markdown",
   "id": "b7bb52f9",
   "metadata": {},
   "source": [
    "- [리스트]가 하나의 요소로 들어갈 수 있다."
   ]
  },
  {
   "cell_type": "code",
   "execution_count": 8,
   "id": "52add5b2",
   "metadata": {},
   "outputs": [
    {
     "data": {
      "text/plain": [
       "['치킨', '햄버거', '피자', '파스타', ['된장찌개', '김치찌개']]"
      ]
     },
     "execution_count": 8,
     "metadata": {},
     "output_type": "execute_result"
    }
   ],
   "source": [
    "a.append(['된장찌개', '김치찌개'])\n",
    "a"
   ]
  },
  {
   "cell_type": "code",
   "execution_count": 9,
   "id": "8844adbd",
   "metadata": {},
   "outputs": [
    {
     "data": {
      "text/plain": [
       "['치킨', '햄버거', '피자', '파스타', ['된장찌개', '김치찌개'], [['스시', '초밥']]]"
      ]
     },
     "execution_count": 9,
     "metadata": {},
     "output_type": "execute_result"
    }
   ],
   "source": [
    "a.append([['스시', '초밥']])\n",
    "a"
   ]
  },
  {
   "cell_type": "markdown",
   "id": "e2408b46",
   "metadata": {},
   "source": [
    "---\n",
    "### extend() : 리스트를 연결/확장하는 기능\n",
    "- 리스트를 하난 벗겨냄!"
   ]
  },
  {
   "cell_type": "code",
   "execution_count": 33,
   "id": "ea587fa2",
   "metadata": {},
   "outputs": [
    {
     "data": {
      "text/plain": [
       "['치킨',\n",
       " '햄버거',\n",
       " '피자',\n",
       " '파스타',\n",
       " ['된장찌개', '김치찌개'],\n",
       " [['스시', '초밥']],\n",
       " '김치1',\n",
       " '김치2',\n",
       " '김치3']"
      ]
     },
     "execution_count": 33,
     "metadata": {},
     "output_type": "execute_result"
    }
   ],
   "source": [
    "a.extend(['김치1', '김치2', '김치3'])\n",
    "a"
   ]
  },
  {
   "cell_type": "code",
   "execution_count": 34,
   "id": "aecc6029",
   "metadata": {},
   "outputs": [
    {
     "data": {
      "text/plain": [
       "['치킨',\n",
       " '햄버거',\n",
       " '피자',\n",
       " '파스타',\n",
       " ['된장찌개', '김치찌개'],\n",
       " [['스시', '초밥']],\n",
       " '김치1',\n",
       " '김치2',\n",
       " '김치3',\n",
       " ['간장1', '간장2']]"
      ]
     },
     "execution_count": 34,
     "metadata": {},
     "output_type": "execute_result"
    }
   ],
   "source": [
    "a.extend([['간장1', '간장2']])\n",
    "a"
   ]
  },
  {
   "cell_type": "markdown",
   "id": "73c6c832",
   "metadata": {},
   "source": [
    "---\n",
    "### insert() : 특정 인덱스에 요소 추가하는 기능"
   ]
  },
  {
   "cell_type": "code",
   "execution_count": 22,
   "id": "3435704e",
   "metadata": {},
   "outputs": [
    {
     "data": {
      "text/plain": [
       "[11, 22, 33, 44, 55]"
      ]
     },
     "execution_count": 22,
     "metadata": {},
     "output_type": "execute_result"
    }
   ],
   "source": [
    "b = [11, 22, 33, 44, 55]\n",
    "b"
   ]
  },
  {
   "cell_type": "code",
   "execution_count": 23,
   "id": "b53c8c29",
   "metadata": {},
   "outputs": [
    {
     "data": {
      "text/plain": [
       "5"
      ]
     },
     "execution_count": 23,
     "metadata": {},
     "output_type": "execute_result"
    }
   ],
   "source": [
    "len(b)"
   ]
  },
  {
   "cell_type": "code",
   "execution_count": 24,
   "id": "eb733c92",
   "metadata": {},
   "outputs": [
    {
     "data": {
      "text/plain": [
       "(11, 22, 33)"
      ]
     },
     "execution_count": 24,
     "metadata": {},
     "output_type": "execute_result"
    }
   ],
   "source": [
    "b[0], b[1], b[2]"
   ]
  },
  {
   "cell_type": "code",
   "execution_count": 25,
   "id": "789fcb3c",
   "metadata": {},
   "outputs": [
    {
     "data": {
      "text/plain": [
       "[11, 22, 33, 44, 55, 66]"
      ]
     },
     "execution_count": 25,
     "metadata": {},
     "output_type": "execute_result"
    }
   ],
   "source": [
    "b.insert(5, 66)\n",
    "b"
   ]
  },
  {
   "cell_type": "code",
   "execution_count": 26,
   "id": "db84bdc6",
   "metadata": {},
   "outputs": [
    {
     "data": {
      "text/plain": [
       "[0.01, 11, 22, 33, 44, 55, 66]"
      ]
     },
     "execution_count": 26,
     "metadata": {},
     "output_type": "execute_result"
    }
   ],
   "source": [
    "b.insert(0, 0.01)\n",
    "b"
   ]
  },
  {
   "cell_type": "markdown",
   "id": "aa973d3c",
   "metadata": {},
   "source": [
    "- 대입하려는 인덱스 위치에 이미 값이 있으면 그 값은 +1 위치로 밀려낸다."
   ]
  },
  {
   "cell_type": "code",
   "execution_count": 27,
   "id": "5272863f",
   "metadata": {},
   "outputs": [
    {
     "data": {
      "text/plain": [
       "[0.01, 11, 22, 33, 44, 55, 66]"
      ]
     },
     "execution_count": 27,
     "metadata": {},
     "output_type": "execute_result"
    }
   ],
   "source": [
    "b[:]"
   ]
  },
  {
   "cell_type": "code",
   "execution_count": 32,
   "id": "4742b38a",
   "metadata": {},
   "outputs": [
    {
     "data": {
      "text/plain": [
       "([], [0.01], [0.01, 11, 22, 33, 44], 55)"
      ]
     },
     "execution_count": 32,
     "metadata": {},
     "output_type": "execute_result"
    }
   ],
   "source": [
    "b[:0], b[:1], b[:5], b[5]"
   ]
  },
  {
   "cell_type": "markdown",
   "id": "a494be8f",
   "metadata": {},
   "source": [
    "---\n",
    "### pop() : 마지막 요소 값 또는 특정 인덱스 요소 삭제"
   ]
  },
  {
   "cell_type": "code",
   "execution_count": 35,
   "id": "c7f433fa",
   "metadata": {},
   "outputs": [
    {
     "data": {
      "text/plain": [
       "[0.01, 11, 22, 33, 44, 55, 66]"
      ]
     },
     "execution_count": 35,
     "metadata": {},
     "output_type": "execute_result"
    }
   ],
   "source": [
    "b"
   ]
  },
  {
   "cell_type": "code",
   "execution_count": 36,
   "id": "4fbe78d7",
   "metadata": {},
   "outputs": [
    {
     "data": {
      "text/plain": [
       "[0.01, 11, 22, 33, 44, 55]"
      ]
     },
     "execution_count": 36,
     "metadata": {},
     "output_type": "execute_result"
    }
   ],
   "source": [
    "b.pop()\n",
    "b"
   ]
  },
  {
   "cell_type": "code",
   "execution_count": 37,
   "id": "67eb1033",
   "metadata": {},
   "outputs": [
    {
     "data": {
      "text/plain": [
       "[11, 22, 33, 44, 55]"
      ]
     },
     "execution_count": 37,
     "metadata": {},
     "output_type": "execute_result"
    }
   ],
   "source": [
    "b.pop(0)\n",
    "b"
   ]
  },
  {
   "cell_type": "markdown",
   "id": "8b2f1b45",
   "metadata": {},
   "source": [
    "---\n",
    "### remove() : 특정 값 삭제"
   ]
  },
  {
   "cell_type": "code",
   "execution_count": 38,
   "id": "fcc9bc32",
   "metadata": {},
   "outputs": [
    {
     "data": {
      "text/plain": [
       "[11, 22, 33, 44, 55]"
      ]
     },
     "execution_count": 38,
     "metadata": {},
     "output_type": "execute_result"
    }
   ],
   "source": [
    "b"
   ]
  },
  {
   "cell_type": "code",
   "execution_count": 39,
   "id": "6c321086",
   "metadata": {},
   "outputs": [
    {
     "data": {
      "text/plain": [
       "[11, 22, 33, 55]"
      ]
     },
     "execution_count": 39,
     "metadata": {},
     "output_type": "execute_result"
    }
   ],
   "source": [
    "b.remove(44)\n",
    "b"
   ]
  },
  {
   "cell_type": "markdown",
   "id": "e14177cb",
   "metadata": {},
   "source": [
    "---\n",
    "### del : 전체 삭제\n",
    "- ' del b[1] ' 이런 식으로 특정 인덱스 요소 삭제도 가능"
   ]
  },
  {
   "cell_type": "code",
   "execution_count": 40,
   "id": "6ecfb691",
   "metadata": {},
   "outputs": [
    {
     "data": {
      "text/plain": [
       "[11, 22, 33, 55]"
      ]
     },
     "execution_count": 40,
     "metadata": {},
     "output_type": "execute_result"
    }
   ],
   "source": [
    "b"
   ]
  },
  {
   "cell_type": "code",
   "execution_count": 41,
   "id": "96ba0927",
   "metadata": {},
   "outputs": [],
   "source": [
    "del b"
   ]
  },
  {
   "cell_type": "code",
   "execution_count": 42,
   "id": "f98847f7",
   "metadata": {},
   "outputs": [
    {
     "ename": "NameError",
     "evalue": "name 'b' is not defined",
     "output_type": "error",
     "traceback": [
      "\u001b[1;31m---------------------------------------------------------------------------\u001b[0m",
      "\u001b[1;31mNameError\u001b[0m                                 Traceback (most recent call last)",
      "Cell \u001b[1;32mIn[42], line 1\u001b[0m\n\u001b[1;32m----> 1\u001b[0m b\n",
      "\u001b[1;31mNameError\u001b[0m: name 'b' is not defined"
     ]
    }
   ],
   "source": [
    "b"
   ]
  },
  {
   "cell_type": "code",
   "execution_count": 43,
   "id": "bf3f4d62",
   "metadata": {},
   "outputs": [
    {
     "data": {
      "text/plain": [
       "[1, 2, 3, 4]"
      ]
     },
     "execution_count": 43,
     "metadata": {},
     "output_type": "execute_result"
    }
   ],
   "source": [
    "b = [1, 2, 3, 4]\n",
    "b"
   ]
  },
  {
   "cell_type": "code",
   "execution_count": 44,
   "id": "a0817ae6",
   "metadata": {},
   "outputs": [
    {
     "data": {
      "text/plain": [
       "[2, 3, 4]"
      ]
     },
     "execution_count": 44,
     "metadata": {},
     "output_type": "execute_result"
    }
   ],
   "source": [
    "del b[0]\n",
    "b"
   ]
  },
  {
   "cell_type": "markdown",
   "id": "c6dcbc0f",
   "metadata": {},
   "source": [
    "---\n",
    "# 리스트에서 특정 값의 인덱스 구하기\n",
    "- 값과 인덱스는 다르다\n",
    "- 값은 어떤 리스트의 특정 요소를 뜻함\n",
    "- 인덱스는 순서를 말하는 개념"
   ]
  },
  {
   "cell_type": "code",
   "execution_count": 52,
   "id": "f6aceb07",
   "metadata": {},
   "outputs": [
    {
     "data": {
      "text/plain": [
       "['치킨', '햄버거', '피자']"
      ]
     },
     "execution_count": 52,
     "metadata": {},
     "output_type": "execute_result"
    }
   ],
   "source": [
    "a = ['치킨', '햄버거', '피자']\n",
    "a"
   ]
  },
  {
   "cell_type": "code",
   "execution_count": 53,
   "id": "bab557fd",
   "metadata": {},
   "outputs": [
    {
     "data": {
      "text/plain": [
       "0"
      ]
     },
     "execution_count": 53,
     "metadata": {},
     "output_type": "execute_result"
    }
   ],
   "source": [
    "a.index('치킨')"
   ]
  },
  {
   "cell_type": "code",
   "execution_count": 54,
   "id": "660974a2",
   "metadata": {},
   "outputs": [
    {
     "data": {
      "text/plain": [
       "1"
      ]
     },
     "execution_count": 54,
     "metadata": {},
     "output_type": "execute_result"
    }
   ],
   "source": [
    "a.index('햄버거')"
   ]
  },
  {
   "cell_type": "code",
   "execution_count": 55,
   "id": "15f1a4ed",
   "metadata": {},
   "outputs": [
    {
     "data": {
      "text/plain": [
       "['치킨', '햄버거', '피자', '치킨']"
      ]
     },
     "execution_count": 55,
     "metadata": {},
     "output_type": "execute_result"
    }
   ],
   "source": [
    "a.append('치킨')\n",
    "a"
   ]
  },
  {
   "cell_type": "code",
   "execution_count": 56,
   "id": "5cdec2b8",
   "metadata": {},
   "outputs": [
    {
     "data": {
      "text/plain": [
       "2"
      ]
     },
     "execution_count": 56,
     "metadata": {},
     "output_type": "execute_result"
    }
   ],
   "source": [
    "a.count('치킨')"
   ]
  },
  {
   "cell_type": "code",
   "execution_count": 57,
   "id": "a722a770",
   "metadata": {},
   "outputs": [
    {
     "data": {
      "text/plain": [
       "1"
      ]
     },
     "execution_count": 57,
     "metadata": {},
     "output_type": "execute_result"
    }
   ],
   "source": [
    "a.count('피자')"
   ]
  },
  {
   "cell_type": "markdown",
   "id": "cea4c9dc",
   "metadata": {},
   "source": [
    "---\n",
    "# 정렬의 개념으로 순서 정리 가능\n",
    "- order by, sort\n",
    "- sort() 정렬\n",
    "- sort(reverse=False) : 오름차순\n",
    "- sort(reverse=True) : 내림차순"
   ]
  },
  {
   "cell_type": "code",
   "execution_count": 60,
   "id": "d503016e",
   "metadata": {},
   "outputs": [
    {
     "data": {
      "text/plain": [
       "[101, 40, 35, 6, 99, 1]"
      ]
     },
     "execution_count": 60,
     "metadata": {},
     "output_type": "execute_result"
    }
   ],
   "source": [
    "a = [101, 40, 35, 6, 99, 1]\n",
    "a"
   ]
  },
  {
   "cell_type": "code",
   "execution_count": 61,
   "id": "3445166a",
   "metadata": {},
   "outputs": [
    {
     "data": {
      "text/plain": [
       "[1, 6, 35, 40, 99, 101]"
      ]
     },
     "execution_count": 61,
     "metadata": {},
     "output_type": "execute_result"
    }
   ],
   "source": [
    "a.sort()\n",
    "a"
   ]
  },
  {
   "cell_type": "markdown",
   "id": "4b74ac97",
   "metadata": {},
   "source": [
    "- sort() reverse를 생략하면 자동으로 오름차순"
   ]
  },
  {
   "cell_type": "code",
   "execution_count": 62,
   "id": "b8d32bdc",
   "metadata": {},
   "outputs": [
    {
     "data": {
      "text/plain": [
       "[101, 99, 40, 35, 6, 1]"
      ]
     },
     "execution_count": 62,
     "metadata": {},
     "output_type": "execute_result"
    }
   ],
   "source": [
    "a.sort(reverse=True)\n",
    "a"
   ]
  },
  {
   "cell_type": "markdown",
   "id": "4803a798",
   "metadata": {},
   "source": [
    "---\n",
    "### reverse() : 정렬이 아닌 기존 리스트를 역으로 바꾸는 개념"
   ]
  },
  {
   "cell_type": "code",
   "execution_count": 66,
   "id": "0e33bfed",
   "metadata": {},
   "outputs": [
    {
     "data": {
      "text/plain": [
       "[10, 1, 5, 3, 9]"
      ]
     },
     "execution_count": 66,
     "metadata": {},
     "output_type": "execute_result"
    }
   ],
   "source": [
    "b = [10, 1, 5, 3, 9]\n",
    "b"
   ]
  },
  {
   "cell_type": "code",
   "execution_count": 67,
   "id": "98680e81",
   "metadata": {},
   "outputs": [
    {
     "data": {
      "text/plain": [
       "[9, 3, 5, 1, 10]"
      ]
     },
     "execution_count": 67,
     "metadata": {},
     "output_type": "execute_result"
    }
   ],
   "source": [
    "b.reverse()\n",
    "b"
   ]
  },
  {
   "cell_type": "markdown",
   "id": "17605147",
   "metadata": {},
   "source": [
    "---\n",
    "# 리스트 할당, 복사 개념"
   ]
  },
  {
   "cell_type": "code",
   "execution_count": 68,
   "id": "d9e31c11",
   "metadata": {},
   "outputs": [
    {
     "data": {
      "text/plain": [
       "[1, 2, 3, 4, 5]"
      ]
     },
     "execution_count": 68,
     "metadata": {},
     "output_type": "execute_result"
    }
   ],
   "source": [
    "a = [1, 2, 3, 4, 5]\n",
    "a"
   ]
  },
  {
   "cell_type": "code",
   "execution_count": 69,
   "id": "34ce6524",
   "metadata": {},
   "outputs": [],
   "source": [
    "b = a"
   ]
  },
  {
   "cell_type": "code",
   "execution_count": 70,
   "id": "88564304",
   "metadata": {},
   "outputs": [
    {
     "data": {
      "text/plain": [
       "[1, 2, 3, 4, 5]"
      ]
     },
     "execution_count": 70,
     "metadata": {},
     "output_type": "execute_result"
    }
   ],
   "source": [
    "b"
   ]
  },
  {
   "cell_type": "markdown",
   "id": "9c8db312",
   "metadata": {},
   "source": [
    "- 이는 a를 b에 복사한 것처럼 보이지만 아님. '할당'한 것임"
   ]
  },
  {
   "cell_type": "code",
   "execution_count": 71,
   "id": "1dff3a51",
   "metadata": {},
   "outputs": [],
   "source": [
    "b[0] = 999"
   ]
  },
  {
   "cell_type": "code",
   "execution_count": 72,
   "id": "2e3b69cb",
   "metadata": {},
   "outputs": [
    {
     "data": {
      "text/plain": [
       "[999, 2, 3, 4, 5]"
      ]
     },
     "execution_count": 72,
     "metadata": {},
     "output_type": "execute_result"
    }
   ],
   "source": [
    "b"
   ]
  },
  {
   "cell_type": "code",
   "execution_count": 73,
   "id": "350491eb",
   "metadata": {},
   "outputs": [
    {
     "data": {
      "text/plain": [
       "[999, 2, 3, 4, 5]"
      ]
     },
     "execution_count": 73,
     "metadata": {},
     "output_type": "execute_result"
    }
   ],
   "source": [
    "a"
   ]
  },
  {
   "cell_type": "markdown",
   "id": "6ea0db99",
   "metadata": {},
   "source": [
    "- 이처럼 '할당'한 것이기에 b를 바꾸면 a의 값도 바뀜\n",
    "- 같은 메모리를 사용하기 때문"
   ]
  },
  {
   "cell_type": "markdown",
   "id": "42b11c17",
   "metadata": {},
   "source": [
    "### 이를 방지하기 위해서 '복사'해야 함\n",
    "- copy()"
   ]
  },
  {
   "cell_type": "code",
   "execution_count": 78,
   "id": "5e497f62",
   "metadata": {},
   "outputs": [
    {
     "data": {
      "text/plain": [
       "[1, 2, 3, 4, 5]"
      ]
     },
     "execution_count": 78,
     "metadata": {},
     "output_type": "execute_result"
    }
   ],
   "source": [
    "a = [1, 2, 3, 4, 5]\n",
    "a"
   ]
  },
  {
   "cell_type": "code",
   "execution_count": 79,
   "id": "89819cca",
   "metadata": {},
   "outputs": [
    {
     "data": {
      "text/plain": [
       "[1, 2, 3, 4, 5]"
      ]
     },
     "execution_count": 79,
     "metadata": {},
     "output_type": "execute_result"
    }
   ],
   "source": [
    "b = a.copy()\n",
    "b"
   ]
  },
  {
   "cell_type": "code",
   "execution_count": 80,
   "id": "2cc3d490",
   "metadata": {},
   "outputs": [
    {
     "data": {
      "text/plain": [
       "[9999, 2, 3, 4, 5]"
      ]
     },
     "execution_count": 80,
     "metadata": {},
     "output_type": "execute_result"
    }
   ],
   "source": [
    "b[0] = 9999\n",
    "b"
   ]
  },
  {
   "cell_type": "code",
   "execution_count": 81,
   "id": "1849f845",
   "metadata": {},
   "outputs": [
    {
     "data": {
      "text/plain": [
       "[1, 2, 3, 4, 5]"
      ]
     },
     "execution_count": 81,
     "metadata": {},
     "output_type": "execute_result"
    }
   ],
   "source": [
    "a"
   ]
  },
  {
   "cell_type": "markdown",
   "id": "f69a9c8c",
   "metadata": {},
   "source": [
    "---\n",
    "# 반복문 사용하여 리스트 접근하기"
   ]
  },
  {
   "cell_type": "code",
   "execution_count": 1,
   "id": "3a3a6add",
   "metadata": {},
   "outputs": [
    {
     "data": {
      "text/plain": [
       "['사과', '배', '바나나', '딸기']"
      ]
     },
     "execution_count": 1,
     "metadata": {},
     "output_type": "execute_result"
    }
   ],
   "source": [
    "a = ['사과', '배', '바나나', '딸기']\n",
    "a"
   ]
  },
  {
   "cell_type": "code",
   "execution_count": 2,
   "id": "273c309f",
   "metadata": {},
   "outputs": [
    {
     "name": "stdout",
     "output_type": "stream",
     "text": [
      "사과\n",
      "배\n",
      "바나나\n",
      "딸기\n"
     ]
    }
   ],
   "source": [
    "for i in a :\n",
    "    print(i)"
   ]
  },
  {
   "cell_type": "markdown",
   "id": "ccf69985",
   "metadata": {},
   "source": [
    "### for 인덱스, 요소 in enunerate(리스트) :\n",
    "    출력할 출력문"
   ]
  },
  {
   "cell_type": "code",
   "execution_count": 3,
   "id": "deeae16f",
   "metadata": {},
   "outputs": [
    {
     "name": "stdout",
     "output_type": "stream",
     "text": [
      "0 사과\n",
      "1 배\n",
      "2 바나나\n",
      "3 딸기\n"
     ]
    }
   ],
   "source": [
    "for idx, value in enumerate(a) :\n",
    "    print(idx, value)"
   ]
  },
  {
   "cell_type": "code",
   "execution_count": 4,
   "id": "43dca5aa",
   "metadata": {},
   "outputs": [
    {
     "name": "stdout",
     "output_type": "stream",
     "text": [
      "1 사과\n",
      "2 배\n",
      "3 바나나\n",
      "4 딸기\n"
     ]
    }
   ],
   "source": [
    "for idx, value in enumerate(a, start=1) : #인덱스 시작 +1\n",
    "    print(idx, value)"
   ]
  },
  {
   "cell_type": "code",
   "execution_count": null,
   "id": "77975a91",
   "metadata": {},
   "outputs": [],
   "source": []
  },
  {
   "cell_type": "code",
   "execution_count": null,
   "id": "ccd69971",
   "metadata": {},
   "outputs": [],
   "source": []
  },
  {
   "cell_type": "code",
   "execution_count": null,
   "id": "a03c0ba4",
   "metadata": {},
   "outputs": [],
   "source": []
  },
  {
   "cell_type": "code",
   "execution_count": null,
   "id": "f735542d",
   "metadata": {},
   "outputs": [],
   "source": []
  },
  {
   "cell_type": "code",
   "execution_count": null,
   "id": "493441cc",
   "metadata": {},
   "outputs": [],
   "source": []
  },
  {
   "cell_type": "code",
   "execution_count": null,
   "id": "bffd6c8e",
   "metadata": {},
   "outputs": [],
   "source": []
  },
  {
   "cell_type": "code",
   "execution_count": null,
   "id": "5df5814b",
   "metadata": {},
   "outputs": [],
   "source": []
  }
 ],
 "metadata": {
  "kernelspec": {
   "display_name": "Python 3 (ipykernel)",
   "language": "python",
   "name": "python3"
  },
  "language_info": {
   "codemirror_mode": {
    "name": "ipython",
    "version": 3
   },
   "file_extension": ".py",
   "mimetype": "text/x-python",
   "name": "python",
   "nbconvert_exporter": "python",
   "pygments_lexer": "ipython3",
   "version": "3.11.4"
  }
 },
 "nbformat": 4,
 "nbformat_minor": 5
}
