{
 "cells": [
  {
   "cell_type": "markdown",
   "id": "702eeabb",
   "metadata": {},
   "source": [
    "# lambda\n",
    "- def 기존에 배운 함수를 람다 표현식으로 바꿔 쓸 수 있음\n",
    "- 람다 표현식 함수를 간단하게 쉽게 코드로 표현할 수 있음\n",
    "- 데이터 분석하는 경우 빠르게 전처리나 어떤 함수를 적용시킬 때 많이 사용"
   ]
  },
  {
   "cell_type": "code",
   "execution_count": 1,
   "id": "9746cfe3",
   "metadata": {},
   "outputs": [],
   "source": [
    "def add_cnt(x) :\n",
    "    return x * 100"
   ]
  },
  {
   "cell_type": "code",
   "execution_count": 2,
   "id": "4c710486",
   "metadata": {},
   "outputs": [
    {
     "data": {
      "text/plain": [
       "200"
      ]
     },
     "execution_count": 2,
     "metadata": {},
     "output_type": "execute_result"
    }
   ],
   "source": [
    "add_cnt(2)"
   ]
  },
  {
   "cell_type": "markdown",
   "id": "c861528a",
   "metadata": {},
   "source": [
    "- lambda는 같은 함수를 만드는데\n",
    "- lambda 매개변수들 : 식"
   ]
  },
  {
   "cell_type": "code",
   "execution_count": 3,
   "id": "febace4e",
   "metadata": {},
   "outputs": [
    {
     "data": {
      "text/plain": [
       "<function __main__.<lambda>(x)>"
      ]
     },
     "execution_count": 3,
     "metadata": {},
     "output_type": "execute_result"
    }
   ],
   "source": [
    "lambda x : x * 100"
   ]
  },
  {
   "cell_type": "code",
   "execution_count": 4,
   "id": "094a4673",
   "metadata": {},
   "outputs": [],
   "source": [
    "lm_cnt = lambda x : x * 100"
   ]
  },
  {
   "cell_type": "code",
   "execution_count": 5,
   "id": "8b97e0ec",
   "metadata": {},
   "outputs": [
    {
     "data": {
      "text/plain": [
       "400"
      ]
     },
     "execution_count": 5,
     "metadata": {},
     "output_type": "execute_result"
    }
   ],
   "source": [
    "lm_cnt(4)"
   ]
  },
  {
   "cell_type": "markdown",
   "id": "b2e6b754",
   "metadata": {},
   "source": [
    "### lambda는 간결하게 함수식을 만들 수 있는 장점."
   ]
  },
  {
   "cell_type": "code",
   "execution_count": 8,
   "id": "974d1d39",
   "metadata": {},
   "outputs": [
    {
     "data": {
      "text/plain": [
       "200"
      ]
     },
     "execution_count": 8,
     "metadata": {},
     "output_type": "execute_result"
    }
   ],
   "source": [
    "(lambda x : x * 100)(2)"
   ]
  },
  {
   "cell_type": "code",
   "execution_count": 10,
   "id": "bf27bfc1",
   "metadata": {},
   "outputs": [
    {
     "data": {
      "text/plain": [
       "700"
      ]
     },
     "execution_count": 10,
     "metadata": {},
     "output_type": "execute_result"
    }
   ],
   "source": [
    "(lambda x : x * 100)(7)"
   ]
  },
  {
   "cell_type": "markdown",
   "id": "b9279895",
   "metadata": {},
   "source": [
    "### lambd 특징"
   ]
  },
  {
   "cell_type": "code",
   "execution_count": 12,
   "id": "2945cab5",
   "metadata": {},
   "outputs": [
    {
     "data": {
      "text/plain": [
       "502"
      ]
     },
     "execution_count": 12,
     "metadata": {},
     "output_type": "execute_result"
    }
   ],
   "source": [
    "y = 5\n",
    "(lambda x : x + y*100)(2)"
   ]
  },
  {
   "cell_type": "markdown",
   "id": "d549f30b",
   "metadata": {},
   "source": [
    "---\n",
    "list와 map을 이용하면 여러 값을 만들 수 있다."
   ]
  },
  {
   "cell_type": "code",
   "execution_count": 13,
   "id": "2766a8ed",
   "metadata": {},
   "outputs": [
    {
     "data": {
      "text/plain": [
       "<map at 0x1f2438c6ad0>"
      ]
     },
     "execution_count": 13,
     "metadata": {},
     "output_type": "execute_result"
    }
   ],
   "source": [
    "map(lambda x : x + 100, [10, 20, 30])"
   ]
  },
  {
   "cell_type": "code",
   "execution_count": 14,
   "id": "65e25c13",
   "metadata": {},
   "outputs": [
    {
     "data": {
      "text/plain": [
       "[110, 120, 130]"
      ]
     },
     "execution_count": 14,
     "metadata": {},
     "output_type": "execute_result"
    }
   ],
   "source": [
    "list(map(lambda x : x + 100, [10, 20, 30]))"
   ]
  },
  {
   "cell_type": "markdown",
   "id": "25e38ae4",
   "metadata": {},
   "source": [
    "### lambda 표현식 응용"
   ]
  },
  {
   "cell_type": "markdown",
   "id": "762e4402",
   "metadata": {},
   "source": [
    "### a리스트에 있는 값들을 람다 표현식을 이용해 다양하게 바꾸기\n",
    "- 바꿔보려는 것들이 조건문을 이용해서 진행할 것임\n",
    "- lambda 사용할 때 조건문을 어떤 식으로 사용하는지\n",
    "- lambda 매개변수들 : 식1 if 조건식 else 식2\n",
    "- lambda 매개변수들 ; 식1 if 조건식1 else 식2 if 조건식2 else 식3 ... n차로 확장해나감"
   ]
  },
  {
   "cell_type": "code",
   "execution_count": 16,
   "id": "47439d37",
   "metadata": {},
   "outputs": [
    {
     "data": {
      "text/plain": [
       "[1, 2, 3, 4, 5, 6]"
      ]
     },
     "execution_count": 16,
     "metadata": {},
     "output_type": "execute_result"
    }
   ],
   "source": [
    "a = [1,2,3,4,5,6]\n",
    "a"
   ]
  },
  {
   "cell_type": "markdown",
   "id": "a0c163cf",
   "metadata": {},
   "source": [
    "- 짝수의 값은 float로, str 바꾸기"
   ]
  },
  {
   "cell_type": "code",
   "execution_count": 17,
   "id": "9cc23ed0",
   "metadata": {},
   "outputs": [
    {
     "data": {
      "text/plain": [
       "3.0"
      ]
     },
     "execution_count": 17,
     "metadata": {},
     "output_type": "execute_result"
    }
   ],
   "source": [
    "(lambda x : float(x))(3)"
   ]
  },
  {
   "cell_type": "code",
   "execution_count": 18,
   "id": "455489b4",
   "metadata": {},
   "outputs": [
    {
     "data": {
      "text/plain": [
       "<map at 0x1f2439e4130>"
      ]
     },
     "execution_count": 18,
     "metadata": {},
     "output_type": "execute_result"
    }
   ],
   "source": [
    "map(lambda x : float(x) if x % 2 == 0 else x, a)"
   ]
  },
  {
   "cell_type": "code",
   "execution_count": 19,
   "id": "985c5c79",
   "metadata": {},
   "outputs": [
    {
     "data": {
      "text/plain": [
       "[1, 2.0, 3, 4.0, 5, 6.0]"
      ]
     },
     "execution_count": 19,
     "metadata": {},
     "output_type": "execute_result"
    }
   ],
   "source": [
    "list(map(lambda x : float(x) if x % 2 == 0 else x, a))"
   ]
  },
  {
   "cell_type": "markdown",
   "id": "83c507b7",
   "metadata": {},
   "source": [
    "- lambda 2개의 조건문을 넣어보자"
   ]
  },
  {
   "cell_type": "code",
   "execution_count": 20,
   "id": "6bab7898",
   "metadata": {},
   "outputs": [
    {
     "data": {
      "text/plain": [
       "[100, 2.0, 300, 4.0, '5', 6.0]"
      ]
     },
     "execution_count": 20,
     "metadata": {},
     "output_type": "execute_result"
    }
   ],
   "source": [
    "list(map(lambda x : str(x) if x == 5 else float(x) if x % 2 == 0 else x*100, a))"
   ]
  },
  {
   "cell_type": "markdown",
   "id": "929dfdec",
   "metadata": {},
   "source": [
    "- 위 여러 조건식을 함수로 표현하면?"
   ]
  },
  {
   "cell_type": "code",
   "execution_count": 21,
   "id": "a276f57e",
   "metadata": {},
   "outputs": [],
   "source": [
    "def abc(x) :\n",
    "    if x == 5 :\n",
    "        return str(x)\n",
    "    elif x % 2 == 0 :\n",
    "        return float(x)\n",
    "    else :\n",
    "        return x*100"
   ]
  },
  {
   "cell_type": "code",
   "execution_count": 22,
   "id": "ef2acfd2",
   "metadata": {},
   "outputs": [
    {
     "data": {
      "text/plain": [
       "[100, 2.0, 300, 4.0, '5', 6.0]"
      ]
     },
     "execution_count": 22,
     "metadata": {},
     "output_type": "execute_result"
    }
   ],
   "source": [
    "list(map(abc, a))"
   ]
  },
  {
   "cell_type": "code",
   "execution_count": 23,
   "id": "60fe9546",
   "metadata": {},
   "outputs": [],
   "source": [
    "a = [1,2,3,4,5]\n",
    "b = [7,8,9,10,11]\n",
    "c = [0,0,0,0,0]"
   ]
  },
  {
   "cell_type": "code",
   "execution_count": 24,
   "id": "d9e4f82d",
   "metadata": {},
   "outputs": [
    {
     "ename": "TypeError",
     "evalue": "<lambda>() takes 2 positional arguments but 3 were given",
     "output_type": "error",
     "traceback": [
      "\u001b[1;31m---------------------------------------------------------------------------\u001b[0m",
      "\u001b[1;31mTypeError\u001b[0m                                 Traceback (most recent call last)",
      "Cell \u001b[1;32mIn[24], line 1\u001b[0m\n\u001b[1;32m----> 1\u001b[0m \u001b[38;5;28mlist\u001b[39m(\u001b[38;5;28mmap\u001b[39m(\u001b[38;5;28;01mlambda\u001b[39;00m x, y : x\u001b[38;5;241m+\u001b[39my, a,b,c))\n",
      "\u001b[1;31mTypeError\u001b[0m: <lambda>() takes 2 positional arguments but 3 were given"
     ]
    }
   ],
   "source": [
    "list(map(lambda x, y : x+y, a,b,c))"
   ]
  },
  {
   "cell_type": "code",
   "execution_count": 25,
   "id": "211c70ce",
   "metadata": {},
   "outputs": [
    {
     "data": {
      "text/plain": [
       "[8, 10, 12, 14, 16]"
      ]
     },
     "execution_count": 25,
     "metadata": {},
     "output_type": "execute_result"
    }
   ],
   "source": [
    "list(map(lambda x, y, z : x+y, a,b,c))"
   ]
  },
  {
   "cell_type": "markdown",
   "id": "afafd455",
   "metadata": {},
   "source": [
    "---\n",
    "---"
   ]
  },
  {
   "cell_type": "markdown",
   "id": "142f2991",
   "metadata": {},
   "source": [
    "# class\n",
    "- 객체를 표현하기 위한 문법\n",
    "- 객체지향 프로그래밍\n",
    "- 객체지향이라는 게 결국 현실에서 존재하는 개념을 -> 프로그래밍을 통해 개념들을 class로 표현하는 것\n",
    "\n",
    "- 게임 캐릭터를 예시로 class를 이해하기\n",
    "- 하나의 게임에 '곰'이라는 캐릭터\n",
    "- 이 캐릭터는 체력, 공격력, 방어력, 나이 등등..\n",
    "- 스킬들 : 소리지르기, 할퀴기\n",
    "\n",
    "- 해당 캐릭터의 체력, 방어력 -> 속성이라고 부른다. (attribute)\n",
    "- 해당 캐릭터의 소리지르기, 할퀴기 등 -> 메서드라고 부른다. (method)\n",
    "---\n",
    "- 객체지향 프로그래밍으로 가기 위한 개념적인 부분\n",
    "- 객체지향으로 가기 위해서는 현실의 개념이나 문제 등을 -> 세분화시켜서 나누는 것\n",
    "\n",
    "- def 함수 -> 결국 이 함수들이 메서드를 나타낼 수 있는 것들\n",
    "---\n",
    "\n",
    "- class를 이용해서 은행 프로그래밍을 한다.\n",
    "- 입금\n",
    "- 입금하기 위해서는 계좌, 비밀번호 등 정보들이 필요하다 -> '속성'에 해당\n",
    "- 계좌번호를 입력하세요. -> 계좌번호가 틀렸습니다. -> 반복을 해서 예외조건이나 에러를 해결하는..-> 매서드\n",
    "- 비밀번호를 입력하세요 -> 매서드\n",
    "- 금액을 계산하는 기능 -> 메서드\n",
    "- 실제 계좌에 입금되는 기능 -> 메서드"
   ]
  },
  {
   "cell_type": "code",
   "execution_count": null,
   "id": "8a267f25",
   "metadata": {},
   "outputs": [],
   "source": []
  },
  {
   "cell_type": "code",
   "execution_count": null,
   "id": "d4c4d663",
   "metadata": {},
   "outputs": [],
   "source": []
  }
 ],
 "metadata": {
  "kernelspec": {
   "display_name": "Python 3 (ipykernel)",
   "language": "python",
   "name": "python3"
  },
  "language_info": {
   "codemirror_mode": {
    "name": "ipython",
    "version": 3
   },
   "file_extension": ".py",
   "mimetype": "text/x-python",
   "name": "python",
   "nbconvert_exporter": "python",
   "pygments_lexer": "ipython3",
   "version": "3.11.4"
  }
 },
 "nbformat": 4,
 "nbformat_minor": 5
}
