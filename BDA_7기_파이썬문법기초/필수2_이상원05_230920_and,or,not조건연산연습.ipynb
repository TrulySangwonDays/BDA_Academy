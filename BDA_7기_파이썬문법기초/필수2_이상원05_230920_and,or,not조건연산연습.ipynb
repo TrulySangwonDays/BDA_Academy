{
 "cells": [
  {
   "cell_type": "markdown",
   "id": "9abd588c",
   "metadata": {},
   "source": [
    "# 필수과제 2.\n",
    "### 대소비교, 변수비교 등을 and, or, not 조건으로 논리비교하기\n",
    "- and, or, not 조건 5개 이상 사용\n",
    "- 3개의 식 만들기"
   ]
  },
  {
   "cell_type": "markdown",
   "id": "32935859",
   "metadata": {},
   "source": [
    "###### 첫번째 식"
   ]
  },
  {
   "cell_type": "code",
   "execution_count": 11,
   "id": "17d43246",
   "metadata": {},
   "outputs": [
    {
     "data": {
      "text/plain": [
       "True"
      ]
     },
     "execution_count": 11,
     "metadata": {},
     "output_type": "execute_result"
    }
   ],
   "source": [
    "10 > 5 and not 3 > 8 and '중앙대' and 10 == 3+7 and not 9 == 3+1\n",
    "# (True)   and   (not False)   and   (True)   and   (True)   and   (not False) 이므로 True 출력"
   ]
  },
  {
   "cell_type": "markdown",
   "id": "4defa97d",
   "metadata": {},
   "source": [
    "###### 두번째 식"
   ]
  },
  {
   "cell_type": "code",
   "execution_count": 12,
   "id": "f96610c3",
   "metadata": {},
   "outputs": [
    {
     "data": {
      "text/plain": [
       "False"
      ]
     },
     "execution_count": 12,
     "metadata": {},
     "output_type": "execute_result"
    }
   ],
   "source": [
    "# 변수 지정\n",
    "a = 10\n",
    "b = 5\n",
    "c = 8\n",
    "d = '중앙대'\n",
    "\n",
    "# 논리비교\n",
    "a > b and b > c and not d == '서울대' and a+c == 18 and not c-b == -3\n",
    "# (True)   and   (False)   and   (not False)   and   (True)   and   (not False) 이므로 False 출력"
   ]
  },
  {
   "cell_type": "markdown",
   "id": "cefbd816",
   "metadata": {},
   "source": [
    "###### 세번째 식"
   ]
  },
  {
   "cell_type": "code",
   "execution_count": 20,
   "id": "2f078c64",
   "metadata": {},
   "outputs": [
    {
     "data": {
      "text/plain": [
       "False"
      ]
     },
     "execution_count": 20,
     "metadata": {},
     "output_type": "execute_result"
    }
   ],
   "source": [
    "# 변수 지정\n",
    "aa = '중'\n",
    "bb = '앙'\n",
    "cc = '대'\n",
    "dd = 100\n",
    "ee = 10\n",
    "ff = 1\n",
    "gg = '1'\n",
    "\n",
    "# 논리비교\n",
    "aa + bb + cc == '중앙대' and dd + ee + ff == 111 and not gg + gg + gg == '111' and dd + 11 == 111 and not 2*dd == 20\n",
    "# (True)   and   (True)   and   (not True)   and   (True)   and   (not False) 이므로 False 출력"
   ]
  }
 ],
 "metadata": {
  "kernelspec": {
   "display_name": "Python 3",
   "language": "python",
   "name": "python3"
  },
  "language_info": {
   "codemirror_mode": {
    "name": "ipython",
    "version": 3
   },
   "file_extension": ".py",
   "mimetype": "text/x-python",
   "name": "python",
   "nbconvert_exporter": "python",
   "pygments_lexer": "ipython3",
   "version": "3.8.8"
  }
 },
 "nbformat": 4,
 "nbformat_minor": 5
}
