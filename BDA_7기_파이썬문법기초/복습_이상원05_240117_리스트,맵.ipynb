{
 "cells": [
  {
   "cell_type": "markdown",
   "id": "673ceb80",
   "metadata": {},
   "source": [
    "# 리스트 복습"
   ]
  },
  {
   "cell_type": "code",
   "execution_count": 2,
   "id": "72a6e503",
   "metadata": {},
   "outputs": [
    {
     "data": {
      "text/plain": [
       "[30, 50, 70, 54, 23, 57, 52]"
      ]
     },
     "execution_count": 2,
     "metadata": {},
     "output_type": "execute_result"
    }
   ],
   "source": [
    "a= [30,50,70,54,23,57,52]\n",
    "a"
   ]
  },
  {
   "cell_type": "code",
   "execution_count": 5,
   "id": "e14a36f6",
   "metadata": {},
   "outputs": [
    {
     "data": {
      "text/plain": [
       "(23, 70, 336)"
      ]
     },
     "execution_count": 5,
     "metadata": {},
     "output_type": "execute_result"
    }
   ],
   "source": [
    "min(a), max(a), sum(a)"
   ]
  },
  {
   "cell_type": "code",
   "execution_count": 6,
   "id": "ed370961",
   "metadata": {},
   "outputs": [
    {
     "name": "stdout",
     "output_type": "stream",
     "text": [
      "30\n",
      "80\n",
      "150\n",
      "204\n",
      "227\n",
      "284\n",
      "336\n"
     ]
    }
   ],
   "source": [
    "x = 0\n",
    "for i in a:\n",
    "    x += i\n",
    "    print(x)"
   ]
  },
  {
   "cell_type": "markdown",
   "id": "eddb3607",
   "metadata": {},
   "source": [
    "# 리스트 표현식\n",
    "- 반복문이나 조건문 등을 리스트 안에 간단하게 적어서 작성하는 것\n",
    "- 리스트 컴프리헨션 (list comprehension), == 리스트 표현식\n",
    "- 기존 반복문\n",
    "- for i in range(10):\n",
    "    - print(i)\n",
    "    \n",
    "    \n",
    "- 위의 반복문을 리스트 안에 넣어서 진행 하는 것\n",
    "- [ i for i in range(10)]\n",
    "\n",
    "### 리스트 표현식\n",
    "- [ 식 for 루프인덱스 in 리스트, range 등등 ]\n",
    "- list(식 for 루프인덱스 in 리스트,range 등등 )\n",
    "- 식이라는 것이 결국 내가 나타낼 print 문이라 생각하면 됨"
   ]
  },
  {
   "cell_type": "code",
   "execution_count": 7,
   "id": "76ae3ea5",
   "metadata": {},
   "outputs": [
    {
     "name": "stdout",
     "output_type": "stream",
     "text": [
      "100\n",
      "101\n",
      "102\n",
      "103\n",
      "104\n",
      "105\n",
      "106\n",
      "107\n",
      "108\n",
      "109\n"
     ]
    }
   ],
   "source": [
    "for i in range(10):\n",
    "    print(i+100)"
   ]
  },
  {
   "cell_type": "code",
   "execution_count": 8,
   "id": "16c92a4f",
   "metadata": {},
   "outputs": [
    {
     "data": {
      "text/plain": [
       "[0, 1, 2, 3, 4, 5, 6, 7, 8, 9]"
      ]
     },
     "execution_count": 8,
     "metadata": {},
     "output_type": "execute_result"
    }
   ],
   "source": [
    "[i for i in range(10)] # 리스트 안에 자동으로"
   ]
  },
  {
   "cell_type": "code",
   "execution_count": 10,
   "id": "4113cfe5",
   "metadata": {},
   "outputs": [
    {
     "data": {
      "text/plain": [
       "[0, 1, 2, 3, 4, 5, 6, 7, 8, 9]"
      ]
     },
     "execution_count": 10,
     "metadata": {},
     "output_type": "execute_result"
    }
   ],
   "source": [
    "b = [i for i in range(10)]\n",
    "b"
   ]
  },
  {
   "cell_type": "code",
   "execution_count": 11,
   "id": "f7540b75",
   "metadata": {},
   "outputs": [
    {
     "data": {
      "text/plain": [
       "[100, 101, 102, 103, 104, 105, 106, 107, 108, 109]"
      ]
     },
     "execution_count": 11,
     "metadata": {},
     "output_type": "execute_result"
    }
   ],
   "source": [
    "[i+100 for i in range(10)]"
   ]
  },
  {
   "cell_type": "markdown",
   "id": "a04a0271",
   "metadata": {},
   "source": [
    "### 리스트 표현식 안에 조건문을 사용하자!\n",
    "\n",
    "- [식 for 루프인덱스 in 리스트 if 조건식 ]\n",
    "- list(식 for 루프인덱스 in 리스트 if 조건식)"
   ]
  },
  {
   "cell_type": "code",
   "execution_count": 12,
   "id": "049473c3",
   "metadata": {},
   "outputs": [
    {
     "name": "stdout",
     "output_type": "stream",
     "text": [
      "0\n",
      "2\n",
      "4\n",
      "6\n",
      "8\n"
     ]
    }
   ],
   "source": [
    "for i in range(10):\n",
    "    if i % 2==0:\n",
    "        print(i)"
   ]
  },
  {
   "cell_type": "code",
   "execution_count": 13,
   "id": "5f2bcabe",
   "metadata": {},
   "outputs": [
    {
     "data": {
      "text/plain": [
       "[0, 1, 2, 1, 2, 3, 2, 3, 4, 3, 4, 5]"
      ]
     },
     "execution_count": 13,
     "metadata": {},
     "output_type": "execute_result"
    }
   ],
   "source": [
    "[i+j for i in range(4) for j in range(3)]"
   ]
  },
  {
   "cell_type": "code",
   "execution_count": 14,
   "id": "ab9caf05",
   "metadata": {},
   "outputs": [
    {
     "data": {
      "text/plain": [
       "[(0, 0),\n",
       " (1, 0),\n",
       " (2, 0),\n",
       " (0, 1),\n",
       " (1, 1),\n",
       " (2, 1),\n",
       " (0, 2),\n",
       " (1, 2),\n",
       " (2, 2),\n",
       " (0, 3),\n",
       " (1, 3),\n",
       " (2, 3)]"
      ]
     },
     "execution_count": 14,
     "metadata": {},
     "output_type": "execute_result"
    }
   ],
   "source": [
    "[(j,i) for i in range(4) for j in range(3)]"
   ]
  },
  {
   "cell_type": "code",
   "execution_count": 15,
   "id": "390a0baf",
   "metadata": {},
   "outputs": [
    {
     "data": {
      "text/plain": [
       "[0, 0, 0, 0, 1, 2, 0, 2, 4, 0, 3, 6]"
      ]
     },
     "execution_count": 15,
     "metadata": {},
     "output_type": "execute_result"
    }
   ],
   "source": [
    "[i*j for i in range(4) for j in range(3)]"
   ]
  },
  {
   "cell_type": "markdown",
   "id": "45e8b35f",
   "metadata": {},
   "source": [
    "---"
   ]
  },
  {
   "cell_type": "markdown",
   "id": "7d8079b1",
   "metadata": {},
   "source": [
    "# map함수\n",
    "- list(map(함수,리스트))\n",
    "- tuple(map(함수,튜플))\n",
    "- 리스트안에 있는 값을 함수로 적용시켜서 출력하여 다시 리스트안에 넣기"
   ]
  },
  {
   "cell_type": "code",
   "execution_count": 17,
   "id": "90c8789c",
   "metadata": {},
   "outputs": [
    {
     "data": {
      "text/plain": [
       "[1, 2, 3, 4, 5]"
      ]
     },
     "execution_count": 17,
     "metadata": {},
     "output_type": "execute_result"
    }
   ],
   "source": [
    "a = [1,2,3,4,5]\n",
    "a"
   ]
  },
  {
   "cell_type": "code",
   "execution_count": 18,
   "id": "9695d16e",
   "metadata": {},
   "outputs": [
    {
     "data": {
      "text/plain": [
       "['1', '2', '3', '4', '5']"
      ]
     },
     "execution_count": 18,
     "metadata": {},
     "output_type": "execute_result"
    }
   ],
   "source": [
    "b = ['1','2','3','4','5']\n",
    "b"
   ]
  },
  {
   "cell_type": "code",
   "execution_count": 19,
   "id": "8ff26332",
   "metadata": {},
   "outputs": [
    {
     "name": "stdout",
     "output_type": "stream",
     "text": [
      "1\n",
      "2\n",
      "3\n",
      "4\n",
      "5\n"
     ]
    }
   ],
   "source": [
    "for i in a:\n",
    "    print(str(i))"
   ]
  },
  {
   "cell_type": "markdown",
   "id": "60da8ebc",
   "metadata": {},
   "source": [
    "- 기존 리스트 값에 문자값으로 변환해서 넣어주기\n",
    "- 기존 리스트 값을 바꾸는 건 인덱스기준으로 이미 배움\n",
    "- a[0] = 1  값이 바뀐다"
   ]
  },
  {
   "cell_type": "code",
   "execution_count": 20,
   "id": "6125754b",
   "metadata": {},
   "outputs": [
    {
     "name": "stdout",
     "output_type": "stream",
     "text": [
      "0\n",
      "1\n",
      "2\n",
      "3\n",
      "4\n"
     ]
    }
   ],
   "source": [
    "for i in range(len(a)):\n",
    "    print(i)\n",
    "    a[i] = str(a[i])"
   ]
  },
  {
   "cell_type": "code",
   "execution_count": 21,
   "id": "c73acbe6",
   "metadata": {},
   "outputs": [
    {
     "data": {
      "text/plain": [
       "['1', '2', '3', '4', '5']"
      ]
     },
     "execution_count": 21,
     "metadata": {},
     "output_type": "execute_result"
    }
   ],
   "source": [
    "a"
   ]
  },
  {
   "cell_type": "code",
   "execution_count": 23,
   "id": "377042e4",
   "metadata": {},
   "outputs": [
    {
     "data": {
      "text/plain": [
       "['1', '2', '3', '4', '5']"
      ]
     },
     "execution_count": 23,
     "metadata": {},
     "output_type": "execute_result"
    }
   ],
   "source": [
    "a[0] = '1'\n",
    "a"
   ]
  },
  {
   "cell_type": "code",
   "execution_count": 25,
   "id": "68f522dc",
   "metadata": {},
   "outputs": [
    {
     "data": {
      "text/plain": [
       "[1, 2, 3, 4, 5]"
      ]
     },
     "execution_count": 25,
     "metadata": {},
     "output_type": "execute_result"
    }
   ],
   "source": [
    "# a리스트를 int로 바꾸기\n",
    "a = list(map(int,a))\n",
    "a"
   ]
  },
  {
   "cell_type": "markdown",
   "id": "1af6f837",
   "metadata": {},
   "source": [
    "---\n",
    "# 2차원 리스트\n",
    "- 스칼라, 벡터, 행렬, 텐서 기하학적으로 나타내는 의미들이\n",
    "- 리스트의 개념으로 생각하면\n",
    "- 리스트 안의 요소가 스칼라 의 개념이고\n",
    "- 리스트 값이 벡터\n",
    "- 리스트가 두 개 이상으로 2차원 이뤄지면 행렬의 개념으로 이어진다.\n",
    "\n",
    "---\n",
    "- 2차원은 가로와 세로 이뤄진다.\n",
    "- a= [1,2,3,4] 1차원의 개념\n",
    "- 2차원은 ?\n",
    "    - 행렬의 개념, 행과 열이 존재한다.\n",
    "    - 2차원 좌표 만들어진다.\n",
    "    - 행과 열\n",
    "    - [0,0] [0,1]\n",
    "    - [1,0] [1,1]\n",
    "    \n",
    "## 2차원을 리스트로 표현하면\n",
    "- 리스트가 두 개가 들어간다.[[]]\n",
    "- 기존 1차원은 [] 1개가 들어감\n",
    "- 3차원은 [[[ ]]] 3개가 들어간다\n",
    "\n",
    "- 리스트 [[값, 값, 값]]\n",
    "- 리스트 [[값,값],[값,값],[값,값]]"
   ]
  },
  {
   "cell_type": "code",
   "execution_count": 27,
   "id": "2cae866a",
   "metadata": {},
   "outputs": [
    {
     "data": {
      "text/plain": [
       "[[1, 2, 3, 4, 5, 6]]"
      ]
     },
     "execution_count": 27,
     "metadata": {},
     "output_type": "execute_result"
    }
   ],
   "source": [
    "a= [[1,2,3,4,5,6]]\n",
    "a"
   ]
  },
  {
   "cell_type": "code",
   "execution_count": 28,
   "id": "1f02a449",
   "metadata": {},
   "outputs": [
    {
     "data": {
      "text/plain": [
       "[[1, 2], [3, 4], [5, 6]]"
      ]
     },
     "execution_count": 28,
     "metadata": {},
     "output_type": "execute_result"
    }
   ],
   "source": [
    "b = [[1,2],[3,4],[5,6]]\n",
    "b"
   ]
  },
  {
   "cell_type": "markdown",
   "id": "f3414bf3",
   "metadata": {},
   "source": [
    "## 2차원 리스트는 2개의 인덱스를 이용해서 접근 가능"
   ]
  },
  {
   "cell_type": "code",
   "execution_count": 32,
   "id": "53bc9bb8",
   "metadata": {},
   "outputs": [
    {
     "data": {
      "text/plain": [
       "(1, 2, 3)"
      ]
     },
     "execution_count": 32,
     "metadata": {},
     "output_type": "execute_result"
    }
   ],
   "source": [
    "a[0][0], a[0][1], a[0][2]"
   ]
  },
  {
   "cell_type": "code",
   "execution_count": 34,
   "id": "26055919",
   "metadata": {},
   "outputs": [
    {
     "data": {
      "text/plain": [
       "(1, 2, 3)"
      ]
     },
     "execution_count": 34,
     "metadata": {},
     "output_type": "execute_result"
    }
   ],
   "source": [
    "b[0][0], b[0][1], b[1][0]"
   ]
  },
  {
   "cell_type": "markdown",
   "id": "ea3e93d8",
   "metadata": {},
   "source": [
    "### 반복문으로 접근하기"
   ]
  },
  {
   "cell_type": "code",
   "execution_count": 35,
   "id": "45310ded",
   "metadata": {},
   "outputs": [
    {
     "data": {
      "text/plain": [
       "[[1, 2], [3, 4], [5, 6]]"
      ]
     },
     "execution_count": 35,
     "metadata": {},
     "output_type": "execute_result"
    }
   ],
   "source": [
    "b"
   ]
  },
  {
   "cell_type": "code",
   "execution_count": 36,
   "id": "b6b4e4a9",
   "metadata": {},
   "outputs": [
    {
     "name": "stdout",
     "output_type": "stream",
     "text": [
      "[1, 2]\n",
      "[3, 4]\n",
      "[5, 6]\n"
     ]
    }
   ],
   "source": [
    "for i in b:\n",
    "    print(i)"
   ]
  },
  {
   "cell_type": "code",
   "execution_count": 37,
   "id": "42fb71ce",
   "metadata": {},
   "outputs": [
    {
     "name": "stdout",
     "output_type": "stream",
     "text": [
      "1 2\n",
      "3 4\n",
      "5 6\n"
     ]
    }
   ],
   "source": [
    "for i,j in b:\n",
    "    print(i,j)"
   ]
  },
  {
   "cell_type": "code",
   "execution_count": 38,
   "id": "ad83f04b",
   "metadata": {},
   "outputs": [
    {
     "name": "stdout",
     "output_type": "stream",
     "text": [
      "1 2 3 4 5 6 "
     ]
    }
   ],
   "source": [
    "for i in range(len(b)): # 바깥쪽의 0,1,2를 좌표를 출력 하는 것 b를 1차원의 리스트로 생각하면 b안에는 [1,2], [3,4], [5,6] 3개 값\n",
    "    for j in range(len(b[i])): # b 에 있는 두 개의 리스트 총 3개를 출력해야 하니깐 하나의 개념으로 보면 [1,2] 인덱스가 0,1 2개 밖에 없다.\n",
    "        print(b[i][j],end=' ')"
   ]
  },
  {
   "cell_type": "code",
   "execution_count": 39,
   "id": "fa42091a",
   "metadata": {},
   "outputs": [
    {
     "data": {
      "text/plain": [
       "2"
      ]
     },
     "execution_count": 39,
     "metadata": {},
     "output_type": "execute_result"
    }
   ],
   "source": [
    "len(b[0])"
   ]
  },
  {
   "cell_type": "code",
   "execution_count": 40,
   "id": "7ad07ff5",
   "metadata": {},
   "outputs": [],
   "source": [
    "import numpy as np"
   ]
  },
  {
   "cell_type": "code",
   "execution_count": 41,
   "id": "ac4f08ea",
   "metadata": {},
   "outputs": [
    {
     "data": {
      "text/plain": [
       "array([[1, 2, 3],\n",
       "       [4, 5, 6]])"
      ]
     },
     "execution_count": 41,
     "metadata": {},
     "output_type": "execute_result"
    }
   ],
   "source": [
    "np.array([[1,2,3],[4,5,6]])"
   ]
  },
  {
   "cell_type": "code",
   "execution_count": null,
   "id": "c07e1ff2",
   "metadata": {},
   "outputs": [],
   "source": []
  }
 ],
 "metadata": {
  "kernelspec": {
   "display_name": "Python 3 (ipykernel)",
   "language": "python",
   "name": "python3"
  },
  "language_info": {
   "codemirror_mode": {
    "name": "ipython",
    "version": 3
   },
   "file_extension": ".py",
   "mimetype": "text/x-python",
   "name": "python",
   "nbconvert_exporter": "python",
   "pygments_lexer": "ipython3",
   "version": "3.11.4"
  }
 },
 "nbformat": 4,
 "nbformat_minor": 5
}
