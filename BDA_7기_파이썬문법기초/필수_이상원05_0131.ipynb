{
 "cells": [
  {
   "cell_type": "markdown",
   "id": "e1005657",
   "metadata": {},
   "source": [
    "### 필수과제\n",
    "- set 함수에 다양한 집합들을 예시 값과 함께 만들어서 문법을 적용시킨 후 어떤 값이 나오는지와\n",
    "- 왜 그 값이 나오는지 주석으로 설명해 주세요!\n",
    "\n",
    "- 위의 합집합을 만든 것과 동일하게 해주시면 됩니다!\n",
    "\n",
    "- 최소 5개 이상 집합 예시 코드를 만들어 주세요!"
   ]
  },
  {
   "cell_type": "markdown",
   "id": "25914743",
   "metadata": {},
   "source": [
    "---\n",
    "### 1. 합집합"
   ]
  },
  {
   "cell_type": "code",
   "execution_count": 4,
   "id": "73888990",
   "metadata": {},
   "outputs": [
    {
     "data": {
      "text/plain": [
       "({'apple', 'banana', 'grape', 'melon', 'watermelon'},\n",
       " {'apple', 'cake', 'milk', 'strawberry'})"
      ]
     },
     "execution_count": 4,
     "metadata": {},
     "output_type": "execute_result"
    }
   ],
   "source": [
    "a = {'apple', 'grape', 'banana', 'watermelon', 'melon'}\n",
    "b = {'apple', 'strawberry', 'cake', 'milk'}\n",
    "a, b"
   ]
  },
  {
   "cell_type": "code",
   "execution_count": 7,
   "id": "76b6fd28",
   "metadata": {},
   "outputs": [
    {
     "data": {
      "text/plain": [
       "{'apple',\n",
       " 'banana',\n",
       " 'cake',\n",
       " 'grape',\n",
       " 'melon',\n",
       " 'milk',\n",
       " 'strawberry',\n",
       " 'watermelon'}"
      ]
     },
     "execution_count": 7,
     "metadata": {},
     "output_type": "execute_result"
    }
   ],
   "source": [
    "a_or_b = set.union(a, b)\n",
    "a_or_b # a와 b에 공통으로 'apple'이 포함되어있고, 합집합이므로 다음과 같이 출력됨"
   ]
  },
  {
   "cell_type": "markdown",
   "id": "27023cf4",
   "metadata": {},
   "source": [
    "---\n",
    "### 2. 교집합"
   ]
  },
  {
   "cell_type": "code",
   "execution_count": 11,
   "id": "5b3b1832",
   "metadata": {},
   "outputs": [
    {
     "data": {
      "text/plain": [
       "({1, 2, 3, 4, 5}, {3, 4, 5, 6, 7})"
      ]
     },
     "execution_count": 11,
     "metadata": {},
     "output_type": "execute_result"
    }
   ],
   "source": [
    "a = {1,2,3,4,5}\n",
    "b = {3,4,5,6,7}\n",
    "a, b"
   ]
  },
  {
   "cell_type": "code",
   "execution_count": 13,
   "id": "ca4b8897",
   "metadata": {},
   "outputs": [
    {
     "data": {
      "text/plain": [
       "{3, 4, 5}"
      ]
     },
     "execution_count": 13,
     "metadata": {},
     "output_type": "execute_result"
    }
   ],
   "source": [
    "a_and_b = set.intersection(a, b)\n",
    "a_and_b # a와 b에 공통으로 '3, 4, 5'가 포함되어있고, 교집합이므로 다음과 같이 출력됨"
   ]
  },
  {
   "cell_type": "markdown",
   "id": "eabbf702",
   "metadata": {},
   "source": [
    "---\n",
    "### 3. 차집합"
   ]
  },
  {
   "cell_type": "code",
   "execution_count": 18,
   "id": "a1bff453",
   "metadata": {},
   "outputs": [
    {
     "data": {
      "text/plain": [
       "({1, 2, 3, 4, 5, 6}, {3, 4, 5, 6, 8, 9})"
      ]
     },
     "execution_count": 18,
     "metadata": {},
     "output_type": "execute_result"
    }
   ],
   "source": [
    "a = {1,2,3,4,5,6}\n",
    "b = {3,4,5,6,8,9}\n",
    "a, b"
   ]
  },
  {
   "cell_type": "code",
   "execution_count": 22,
   "id": "042a4500",
   "metadata": {},
   "outputs": [
    {
     "data": {
      "text/plain": [
       "{1, 2}"
      ]
     },
     "execution_count": 22,
     "metadata": {},
     "output_type": "execute_result"
    }
   ],
   "source": [
    "a_minus_b = set.difference(a, b)\n",
    "a_minus_b # 차집합이므로, a와 b의 교집합 3,4,5,6이 a에서 빠지게 됨"
   ]
  },
  {
   "cell_type": "markdown",
   "id": "7b29e79c",
   "metadata": {},
   "source": [
    "---\n",
    "### 4. 교집합"
   ]
  },
  {
   "cell_type": "code",
   "execution_count": 25,
   "id": "318636f1",
   "metadata": {},
   "outputs": [
    {
     "data": {
      "text/plain": [
       "({'스테이크', '치킨', '피자', '햄버거'}, {'감자튀김', '콜라', '햄버거'})"
      ]
     },
     "execution_count": 25,
     "metadata": {},
     "output_type": "execute_result"
    }
   ],
   "source": [
    "a = {'치킨', '피자', '햄버거', '스테이크'}\n",
    "b = {'햄버거', '콜라', '감자튀김'}\n",
    "a, b"
   ]
  },
  {
   "cell_type": "code",
   "execution_count": 27,
   "id": "8a3f28fc",
   "metadata": {},
   "outputs": [
    {
     "data": {
      "text/plain": [
       "{'햄버거'}"
      ]
     },
     "execution_count": 27,
     "metadata": {},
     "output_type": "execute_result"
    }
   ],
   "source": [
    "a_and_b = set.intersection(a, b)\n",
    "a_and_b # a와 b에 공통으로 '햄버거'가 포함되어있고, 교집합이므로 다음과 같이 출력됨"
   ]
  },
  {
   "cell_type": "markdown",
   "id": "dd50adf6",
   "metadata": {},
   "source": [
    "---\n",
    "### 5. 합집합"
   ]
  },
  {
   "cell_type": "code",
   "execution_count": 28,
   "id": "ac0fe759",
   "metadata": {},
   "outputs": [
    {
     "data": {
      "text/plain": [
       "({'레슬링', '수영', '스키', '양궁', '축구'}, {'스키점프', '양궁', '축구', '컬링'})"
      ]
     },
     "execution_count": 28,
     "metadata": {},
     "output_type": "execute_result"
    }
   ],
   "source": [
    "a = {'수영', '축구', '양궁', '레슬링', '스키'}\n",
    "b = {'양궁', '축구', '스키점프', '컬링'}\n",
    "a, b"
   ]
  },
  {
   "cell_type": "code",
   "execution_count": 30,
   "id": "20c97623",
   "metadata": {},
   "outputs": [
    {
     "data": {
      "text/plain": [
       "{'레슬링', '수영', '스키', '스키점프', '양궁', '축구', '컬링'}"
      ]
     },
     "execution_count": 30,
     "metadata": {},
     "output_type": "execute_result"
    }
   ],
   "source": [
    "a_or_b = set.union(a, b)\n",
    "a_or_b # a와 b에 공통으로 '축구, 양궁'이 포함되어있고, 합집합이므로 다음과 같이 출력됨"
   ]
  },
  {
   "cell_type": "code",
   "execution_count": null,
   "id": "eacf98f0",
   "metadata": {},
   "outputs": [],
   "source": []
  }
 ],
 "metadata": {
  "kernelspec": {
   "display_name": "Python 3 (ipykernel)",
   "language": "python",
   "name": "python3"
  },
  "language_info": {
   "codemirror_mode": {
    "name": "ipython",
    "version": 3
   },
   "file_extension": ".py",
   "mimetype": "text/x-python",
   "name": "python",
   "nbconvert_exporter": "python",
   "pygments_lexer": "ipython3",
   "version": "3.11.4"
  }
 },
 "nbformat": 4,
 "nbformat_minor": 5
}
