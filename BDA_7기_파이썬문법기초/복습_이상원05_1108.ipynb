{
 "cells": [
  {
   "cell_type": "markdown",
   "id": "c210c79a",
   "metadata": {},
   "source": [
    "# IF조건문 확장 : if, elif, else\n",
    "--- \n",
    "모든 문제는 2개 이상으로 조건이 만들어질 수 있다.\n",
    "조건에는 문자형, 숫자형, 불린값 올 수 있다.\n",
    "___\n",
    "- if\n",
    "- elif -> another조건\n",
    "- else -> the other(여집합) 따라서 조건식을 쓰지 않음"
   ]
  },
  {
   "cell_type": "code",
   "execution_count": 14,
   "id": "74e577c7",
   "metadata": {},
   "outputs": [
    {
     "name": "stdout",
     "output_type": "stream",
     "text": [
      "20입니다.\n"
     ]
    }
   ],
   "source": [
    "x = 20\n",
    "\n",
    "if x == 20 :\n",
    "    print(\"20입니다.\")"
   ]
  },
  {
   "cell_type": "markdown",
   "id": "a6c909e3",
   "metadata": {},
   "source": [
    "### 조건식의 불린값 개념으로 True이면 작동함"
   ]
  },
  {
   "cell_type": "code",
   "execution_count": 15,
   "id": "daaa61e6",
   "metadata": {},
   "outputs": [
    {
     "name": "stdout",
     "output_type": "stream",
     "text": [
      "참입니다.\n"
     ]
    }
   ],
   "source": [
    "if True :\n",
    "    print(\"참입니다.\")"
   ]
  },
  {
   "cell_type": "code",
   "execution_count": 16,
   "id": "2693fc83",
   "metadata": {},
   "outputs": [
    {
     "data": {
      "text/plain": [
       "True"
      ]
     },
     "execution_count": 16,
     "metadata": {},
     "output_type": "execute_result"
    }
   ],
   "source": [
    "x = 10\n",
    "x == 10"
   ]
  },
  {
   "cell_type": "code",
   "execution_count": 17,
   "id": "d2436665",
   "metadata": {},
   "outputs": [
    {
     "name": "stdout",
     "output_type": "stream",
     "text": [
      "참\n"
     ]
    }
   ],
   "source": [
    "if x == 10 :\n",
    "    print('참')"
   ]
  },
  {
   "cell_type": "code",
   "execution_count": 18,
   "id": "17adb871",
   "metadata": {},
   "outputs": [],
   "source": [
    "x == 'user_key'\n",
    "\n",
    "if x == 'user-key' :\n",
    "    print('user_key입니다.')"
   ]
  },
  {
   "cell_type": "code",
   "execution_count": 19,
   "id": "cd41236c",
   "metadata": {},
   "outputs": [
    {
     "name": "stdout",
     "output_type": "stream",
     "text": [
      "user_key가 아닙니다.\n"
     ]
    }
   ],
   "source": [
    "x = 'user_key'\n",
    "\n",
    "if x == 'monkey' :\n",
    "    print('monkey입니다.')\n",
    "    \n",
    "    if x == 'user_key' :\n",
    "        print('user_key 이다')\n",
    "    else :\n",
    "        print('user_key 아니다.')\n",
    "\n",
    "else :\n",
    "    print('user_key가 아닙니다.')"
   ]
  },
  {
   "cell_type": "markdown",
   "id": "05e576b7",
   "metadata": {},
   "source": [
    "# elif를 활용하면 if문의 최종 완성\n",
    "---\n",
    "### 최종 if문에 대한 완성본\n",
    "- if 조건식 :\n",
    "    - 원하는 것\n",
    "- elif 조건식 :\n",
    "    - 원하는 것2\n",
    "- else :\n",
    "    - 그외"
   ]
  },
  {
   "cell_type": "code",
   "execution_count": 20,
   "id": "5a2a6df7",
   "metadata": {},
   "outputs": [
    {
     "name": "stdout",
     "output_type": "stream",
     "text": [
      "Hold_off\n"
     ]
    }
   ],
   "source": [
    "a = 'user'\n",
    "b = '_key'\n",
    "c = 'mon'\n",
    "\n",
    "if a + b == \"u$er_key\" :\n",
    "    print(\"Ok\")\n",
    "elif a + b == \"user_key\" or c + b == 'mon_key':\n",
    "    print(\"Hold_off\")\n",
    "else:\n",
    "    print(\"refused\")"
   ]
  },
  {
   "cell_type": "code",
   "execution_count": 21,
   "id": "d3d9ff40",
   "metadata": {},
   "outputs": [
    {
     "name": "stdout",
     "output_type": "stream",
     "text": [
      "40보다 큼\n"
     ]
    }
   ],
   "source": [
    "x = 50\n",
    "\n",
    "if x > 30 :\n",
    "    if x < 40 :\n",
    "        print('40보다 작음')\n",
    "    else :\n",
    "        print('40보다 큼')\n",
    "elif x == 40 :\n",
    "    print('40 맞아')\n",
    "else :\n",
    "    print('30보다 작음')"
   ]
  },
  {
   "cell_type": "markdown",
   "id": "105ce689",
   "metadata": {},
   "source": [
    "### 문제 만들기 활용해보기\n",
    "---\n",
    "자판기.\n",
    "- 해당 돈을 입력하고, 해당 버튼을 누르면, 낸돈, 거스름돈, 메뉴명을 안내창에 띄워줌\n",
    "- 1. 물 700원 / 2. 코카콜라 1700원 / 3. 스프라이트 1650원 / 4. 파워에이드 2100원 / 5. 초코에몽 1250원\n",
    "- 천원권, 오백원, 백원 가능"
   ]
  },
  {
   "cell_type": "code",
   "execution_count": 22,
   "id": "e4d82c26",
   "metadata": {},
   "outputs": [
    {
     "data": {
      "text/plain": [
       "{1: '물', 2: '코카콜라', 3: '스프라이트', 4: '파워에이드', 5: '초코에몽'}"
      ]
     },
     "execution_count": 22,
     "metadata": {},
     "output_type": "execute_result"
    }
   ],
   "source": [
    "menu = {1:\"물\", 2:\"코카콜라\", 3:\"스프라이트\", 4:\"파워에이드\", 5:\"초코에몽\"}\n",
    "menu"
   ]
  },
  {
   "cell_type": "code",
   "execution_count": 24,
   "id": "55105249",
   "metadata": {},
   "outputs": [
    {
     "name": "stdout",
     "output_type": "stream",
     "text": [
      "1. 메뉴 번호를 입력하세요 : 1\n",
      "2. 천원 몇장? : 1\n",
      "3. 오백원 몇 개? : 3\n",
      "4. 백원 몇 개? : 4\n",
      "\n",
      "+++++++++++++++++++++++++++++++++++++\n",
      "주문하신 메뉴는 \"물\"입니다.\n",
      "가격 : 700원\n",
      "- - - - - - - - - - - - - - - - - - -\n",
      "- 내신 돈 : 2900원\n",
      "- 거스름돈 : 2200원\n",
      "+++++++++++++++++++++++++++++++++++++\n"
     ]
    }
   ],
   "source": [
    "a = input(\"1. 메뉴 번호를 입력하세요 : \")\n",
    "b = input(\"2. 천원 몇장? : \")\n",
    "c = input(\"3. 오백원 몇 개? : \")\n",
    "d = input(\"4. 백원 몇 개? : \")\n",
    "\n",
    "b_sum = int(b) * 1000\n",
    "c_sum = int(c) * 500\n",
    "d_sum = int(d) * 100\n",
    "all_sum = b_sum + c_sum + d_sum\n",
    "\n",
    "change = all_sum - a_price\n",
    "\n",
    "if int(a) == 1 :\n",
    "    print(\"\")\n",
    "    print(\"+++++++++++++++++++++++++++++++++++++\")\n",
    "    print(f'주문하신 메뉴는 \"{menu[1]}\"입니다.')\n",
    "    print('가격 : 700원')\n",
    "    a_price = 700\n",
    "    print(\"- - - - - - - - - - - - - - - - - - -\")\n",
    "    print(f\"- 내신 돈 : {all_sum}원\")\n",
    "    change = all_sum - a_price\n",
    "    print(f'- 거스름돈 : {change}원')\n",
    "    print(\"+++++++++++++++++++++++++++++++++++++\")\n",
    "\n",
    "    \n",
    "elif int(a) == 2 :\n",
    "    print(\"\")\n",
    "    print(\"+++++++++++++++++++++++++++++++++++++\")\n",
    "    print(f'주문하신 메뉴는 \"{menu[2]}\"입니다.')\n",
    "    print('가격 : 1700원')\n",
    "    a_price = 1700\n",
    "    print(\"- - - - - - - - - - - - - - - - - - -\")\n",
    "    print(f\"- 내신 돈 : {all_sum}원\")\n",
    "    change = all_sum - a_price\n",
    "    print(f'- 거스름돈 : {change}원')\n",
    "    print(\"+++++++++++++++++++++++++++++++++++++\")\n",
    "\n",
    "elif int(a) == 3 :\n",
    "    print(\"\")\n",
    "    print(\"+++++++++++++++++++++++++++++++++++++\")\n",
    "    print(f'주문하신 메뉴는 \"{menu[3]}\"입니다.')\n",
    "    print('가격 : 1650원')\n",
    "    a_price = 1650\n",
    "    print(\"- - - - - - - - - - - - - - - - - - -\")\n",
    "    print(f\"- 내신 돈 : {all_sum}원\")\n",
    "    change = all_sum - a_price\n",
    "    print(f'- 거스름돈 : {change}원')\n",
    "    print(\"+++++++++++++++++++++++++++++++++++++\")\n",
    "\n",
    "elif int(a) == 4 :\n",
    "    print(\"\")\n",
    "    print(\"+++++++++++++++++++++++++++++++++++++\")\n",
    "    print(f'주문하신 메뉴는 \"{menu[4]}\"입니다.')\n",
    "    print('가격 : 2100원')\n",
    "    a_price = 2100\n",
    "    print(\"- - - - - - - - - - - - - - - - - - -\")\n",
    "    print(f\"- 내신 돈 : {all_sum}원\")\n",
    "    change = all_sum - a_price\n",
    "    print(f'- 거스름돈 : {change}원')\n",
    "    print(\"+++++++++++++++++++++++++++++++++++++\")\n",
    "\n",
    "elif int(a) == 5 :\n",
    "    print(\"\")\n",
    "    print(\"+++++++++++++++++++++++++++++++++++++\")\n",
    "    print(f'주문하신 메뉴는 \"{menu[5]}\"입니다.')\n",
    "    print('가격 : 1250원')\n",
    "    a_price = 1250\n",
    "    print(\"- - - - - - - - - - - - - - - - - - -\")\n",
    "    print(f\"- 내신 돈 : {all_sum}원\")\n",
    "    change = all_sum - a_price\n",
    "    print(f'- 거스름돈 : {change}원')\n",
    "    print(\"+++++++++++++++++++++++++++++++++++++\")\n",
    "\n",
    "else :\n",
    "    print(\"[종 료] 없는 숫자(메뉴)입니다.\")"
   ]
  },
  {
   "cell_type": "code",
   "execution_count": null,
   "id": "f88dd37a",
   "metadata": {},
   "outputs": [],
   "source": []
  }
 ],
 "metadata": {
  "kernelspec": {
   "display_name": "Python 3 (ipykernel)",
   "language": "python",
   "name": "python3"
  },
  "language_info": {
   "codemirror_mode": {
    "name": "ipython",
    "version": 3
   },
   "file_extension": ".py",
   "mimetype": "text/x-python",
   "name": "python",
   "nbconvert_exporter": "python",
   "pygments_lexer": "ipython3",
   "version": "3.11.4"
  }
 },
 "nbformat": 4,
 "nbformat_minor": 5
}
