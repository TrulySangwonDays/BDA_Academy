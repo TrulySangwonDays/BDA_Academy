{
 "cells": [
  {
   "cell_type": "markdown",
   "id": "5c2dc336",
   "metadata": {},
   "source": [
    "# 복습과제\n",
    "---"
   ]
  },
  {
   "cell_type": "markdown",
   "id": "75530411",
   "metadata": {},
   "source": [
    "# 변수\n",
    "- 데이터를 담아두는 곳\n",
    "- 주머니\n",
    "- 이름이 있다\n",
    "- 여러개 만들 수 있다\n",
    "- 변수를 만들 수 있는 규칙이 있다 (영문과 숫자로 조합, 대소문자 구분, 문자부터 시작하는 이름 under bar 사용가능, 특수문자 사용불가)"
   ]
  },
  {
   "cell_type": "code",
   "execution_count": 1,
   "id": "25e20cff",
   "metadata": {},
   "outputs": [
    {
     "data": {
      "text/plain": [
       "100"
      ]
     },
     "execution_count": 1,
     "metadata": {},
     "output_type": "execute_result"
    }
   ],
   "source": [
    "abc123 = 100\n",
    "abc123"
   ]
  },
  {
   "cell_type": "code",
   "execution_count": 2,
   "id": "8fee5e60",
   "metadata": {},
   "outputs": [
    {
     "data": {
      "text/plain": [
       "150"
      ]
     },
     "execution_count": 2,
     "metadata": {},
     "output_type": "execute_result"
    }
   ],
   "source": [
    "new_data = abc123 + 50\n",
    "new_data"
   ]
  },
  {
   "cell_type": "code",
   "execution_count": 3,
   "id": "d7a2e880",
   "metadata": {},
   "outputs": [
    {
     "name": "stdout",
     "output_type": "stream",
     "text": [
      "100\n",
      "abc123\n"
     ]
    }
   ],
   "source": [
    "print(abc123)\n",
    "print('abc123')"
   ]
  },
  {
   "cell_type": "code",
   "execution_count": 4,
   "id": "9545d849",
   "metadata": {},
   "outputs": [
    {
     "data": {
      "text/plain": [
       "'안녕하세요'"
      ]
     },
     "execution_count": 4,
     "metadata": {},
     "output_type": "execute_result"
    }
   ],
   "source": [
    "new_data2 = ('안녕하세요')\n",
    "new_data2"
   ]
  },
  {
   "cell_type": "code",
   "execution_count": 5,
   "id": "1e162ee6",
   "metadata": {},
   "outputs": [
    {
     "name": "stdout",
     "output_type": "stream",
     "text": [
      "안녕하세요\n"
     ]
    }
   ],
   "source": [
    "print(new_data2)"
   ]
  },
  {
   "cell_type": "code",
   "execution_count": 6,
   "id": "06c82bfd",
   "metadata": {},
   "outputs": [
    {
     "ename": "SyntaxError",
     "evalue": "cannot assign to literal (<ipython-input-6-ecdac3dcabfd>, line 1)",
     "output_type": "error",
     "traceback": [
      "\u001b[1;36m  File \u001b[1;32m\"<ipython-input-6-ecdac3dcabfd>\"\u001b[1;36m, line \u001b[1;32m1\u001b[0m\n\u001b[1;33m    1 = 1\u001b[0m\n\u001b[1;37m    ^\u001b[0m\n\u001b[1;31mSyntaxError\u001b[0m\u001b[1;31m:\u001b[0m cannot assign to literal\n"
     ]
    }
   ],
   "source": [
    "1 = 1"
   ]
  },
  {
   "cell_type": "code",
   "execution_count": 7,
   "id": "b9e741df",
   "metadata": {},
   "outputs": [
    {
     "data": {
      "text/plain": [
       "True"
      ]
     },
     "execution_count": 7,
     "metadata": {},
     "output_type": "execute_result"
    }
   ],
   "source": [
    "1 == 1"
   ]
  },
  {
   "cell_type": "markdown",
   "id": "d023f158",
   "metadata": {},
   "source": [
    "### type() 함수로 변수의 자료형 확인 가능"
   ]
  },
  {
   "cell_type": "code",
   "execution_count": 12,
   "id": "7f11b791",
   "metadata": {},
   "outputs": [
    {
     "data": {
      "text/plain": [
       "int"
      ]
     },
     "execution_count": 12,
     "metadata": {},
     "output_type": "execute_result"
    }
   ],
   "source": [
    "type(abc123) # abc123 = 100"
   ]
  },
  {
   "cell_type": "code",
   "execution_count": 13,
   "id": "4a446385",
   "metadata": {},
   "outputs": [
    {
     "data": {
      "text/plain": [
       "str"
      ]
     },
     "execution_count": 13,
     "metadata": {},
     "output_type": "execute_result"
    }
   ],
   "source": [
    "type(new_data2) # new_data2 = '안녕하세요'"
   ]
  },
  {
   "cell_type": "markdown",
   "id": "b31d576a",
   "metadata": {},
   "source": [
    "### 1:1 대응시켜 값을 대입하면 여러개의 변수를 만들 수 있다"
   ]
  },
  {
   "cell_type": "code",
   "execution_count": 14,
   "id": "39acf84c",
   "metadata": {},
   "outputs": [
    {
     "name": "stdout",
     "output_type": "stream",
     "text": [
      "1\n",
      "2\n",
      "3\n"
     ]
    }
   ],
   "source": [
    "a, b, c = 1, 2, 3\n",
    "print(a)\n",
    "print(b)\n",
    "print(c)"
   ]
  },
  {
   "cell_type": "code",
   "execution_count": 15,
   "id": "f928faad",
   "metadata": {},
   "outputs": [
    {
     "name": "stdout",
     "output_type": "stream",
     "text": [
      "999\n",
      "999\n",
      "999\n",
      "999\n"
     ]
    }
   ],
   "source": [
    "A = B = C = D = 999\n",
    "print(A)\n",
    "print(B)\n",
    "print(C)\n",
    "print(D)"
   ]
  },
  {
   "cell_type": "markdown",
   "id": "98f0c104",
   "metadata": {},
   "source": [
    "### 변수 안에 변수를 넣을 수 있다"
   ]
  },
  {
   "cell_type": "code",
   "execution_count": 16,
   "id": "ff363864",
   "metadata": {},
   "outputs": [],
   "source": [
    "AM = 30"
   ]
  },
  {
   "cell_type": "code",
   "execution_count": 17,
   "id": "70a54850",
   "metadata": {},
   "outputs": [],
   "source": [
    "PM = AM"
   ]
  },
  {
   "cell_type": "code",
   "execution_count": 18,
   "id": "f58a30a5",
   "metadata": {},
   "outputs": [
    {
     "data": {
      "text/plain": [
       "30"
      ]
     },
     "execution_count": 18,
     "metadata": {},
     "output_type": "execute_result"
    }
   ],
   "source": [
    "PM"
   ]
  },
  {
   "cell_type": "markdown",
   "id": "aa793eb6",
   "metadata": {},
   "source": [
    "### 변수끼리 값을 더할 수 있다"
   ]
  },
  {
   "cell_type": "code",
   "execution_count": 19,
   "id": "2f5a0f65",
   "metadata": {},
   "outputs": [
    {
     "data": {
      "text/plain": [
       "60"
      ]
     },
     "execution_count": 19,
     "metadata": {},
     "output_type": "execute_result"
    }
   ],
   "source": [
    "AM + PM"
   ]
  },
  {
   "cell_type": "markdown",
   "id": "3bdaf117",
   "metadata": {},
   "source": [
    "### 산술 연산 후, 할당 연산자 사용하기"
   ]
  },
  {
   "cell_type": "code",
   "execution_count": 27,
   "id": "320fb009",
   "metadata": {},
   "outputs": [],
   "source": [
    "GG = 10"
   ]
  },
  {
   "cell_type": "code",
   "execution_count": 28,
   "id": "cc84434e",
   "metadata": {},
   "outputs": [
    {
     "data": {
      "text/plain": [
       "20"
      ]
     },
     "execution_count": 28,
     "metadata": {},
     "output_type": "execute_result"
    }
   ],
   "source": [
    "GG + 10"
   ]
  },
  {
   "cell_type": "code",
   "execution_count": 32,
   "id": "a4b46bc0",
   "metadata": {},
   "outputs": [],
   "source": [
    "GG = GG + 10"
   ]
  },
  {
   "cell_type": "code",
   "execution_count": 33,
   "id": "7c253d6d",
   "metadata": {},
   "outputs": [],
   "source": [
    "GG += 10"
   ]
  },
  {
   "cell_type": "code",
   "execution_count": 34,
   "id": "bf3a104e",
   "metadata": {},
   "outputs": [
    {
     "data": {
      "text/plain": [
       "40"
      ]
     },
     "execution_count": 34,
     "metadata": {},
     "output_type": "execute_result"
    }
   ],
   "source": [
    "GG"
   ]
  },
  {
   "cell_type": "markdown",
   "id": "287b7ab5",
   "metadata": {},
   "source": [
    "### input() 함수 사용해보기"
   ]
  },
  {
   "cell_type": "code",
   "execution_count": 35,
   "id": "5f232c49",
   "metadata": {},
   "outputs": [
    {
     "name": "stdout",
     "output_type": "stream",
     "text": [
      "파문기\n"
     ]
    },
    {
     "data": {
      "text/plain": [
       "'파문기'"
      ]
     },
     "execution_count": 35,
     "metadata": {},
     "output_type": "execute_result"
    }
   ],
   "source": [
    "input()"
   ]
  },
  {
   "cell_type": "code",
   "execution_count": 36,
   "id": "f18d2e8f",
   "metadata": {},
   "outputs": [
    {
     "name": "stdout",
     "output_type": "stream",
     "text": [
      "안녕하세요\n"
     ]
    }
   ],
   "source": [
    "ans = input()"
   ]
  },
  {
   "cell_type": "code",
   "execution_count": 37,
   "id": "7eec9374",
   "metadata": {},
   "outputs": [
    {
     "data": {
      "text/plain": [
       "'안녕하세요'"
      ]
     },
     "execution_count": 37,
     "metadata": {},
     "output_type": "execute_result"
    }
   ],
   "source": [
    "ans"
   ]
  },
  {
   "cell_type": "code",
   "execution_count": 38,
   "id": "c8a7306b",
   "metadata": {},
   "outputs": [
    {
     "name": "stdout",
     "output_type": "stream",
     "text": [
      "안녕하세요\n"
     ]
    }
   ],
   "source": [
    "ans = input()"
   ]
  },
  {
   "cell_type": "code",
   "execution_count": 39,
   "id": "d7dbd51d",
   "metadata": {},
   "outputs": [
    {
     "data": {
      "text/plain": [
       "'안녕하세요'"
      ]
     },
     "execution_count": 39,
     "metadata": {},
     "output_type": "execute_result"
    }
   ],
   "source": [
    "ans"
   ]
  },
  {
   "cell_type": "code",
   "execution_count": 40,
   "id": "16001959",
   "metadata": {},
   "outputs": [],
   "source": [
    "ans = 'Hi'"
   ]
  },
  {
   "cell_type": "code",
   "execution_count": 41,
   "id": "33e81e11",
   "metadata": {},
   "outputs": [
    {
     "data": {
      "text/plain": [
       "'Hi'"
      ]
     },
     "execution_count": 41,
     "metadata": {},
     "output_type": "execute_result"
    }
   ],
   "source": [
    "ans"
   ]
  },
  {
   "cell_type": "code",
   "execution_count": 43,
   "id": "93ddac28",
   "metadata": {},
   "outputs": [
    {
     "name": "stdout",
     "output_type": "stream",
     "text": [
      "5\n"
     ]
    },
    {
     "data": {
      "text/plain": [
       "'5'"
      ]
     },
     "execution_count": 43,
     "metadata": {},
     "output_type": "execute_result"
    }
   ],
   "source": [
    "ans1 = input()\n",
    "ans1"
   ]
  },
  {
   "cell_type": "code",
   "execution_count": 44,
   "id": "3bde3ef8",
   "metadata": {},
   "outputs": [
    {
     "name": "stdout",
     "output_type": "stream",
     "text": [
      "10\n"
     ]
    },
    {
     "data": {
      "text/plain": [
       "'10'"
      ]
     },
     "execution_count": 44,
     "metadata": {},
     "output_type": "execute_result"
    }
   ],
   "source": [
    "ans2 = input()\n",
    "ans2"
   ]
  },
  {
   "cell_type": "code",
   "execution_count": 45,
   "id": "eb4b15fa",
   "metadata": {},
   "outputs": [
    {
     "data": {
      "text/plain": [
       "'510'"
      ]
     },
     "execution_count": 45,
     "metadata": {},
     "output_type": "execute_result"
    }
   ],
   "source": [
    "ans1 + ans2"
   ]
  },
  {
   "cell_type": "markdown",
   "id": "c539d38d",
   "metadata": {},
   "source": [
    "### input()으로 숫자를 입력하면 '문자열' 자료형으로 받아들인다!\n",
    "- 이를 숫자로 자료형을 바꿔주려면 int()에 넣으면 된다"
   ]
  },
  {
   "cell_type": "code",
   "execution_count": 47,
   "id": "972ea3a8",
   "metadata": {},
   "outputs": [
    {
     "name": "stdout",
     "output_type": "stream",
     "text": [
      "5\n"
     ]
    },
    {
     "data": {
      "text/plain": [
       "5"
      ]
     },
     "execution_count": 47,
     "metadata": {},
     "output_type": "execute_result"
    }
   ],
   "source": [
    "ans1 = int(input())\n",
    "ans1"
   ]
  },
  {
   "cell_type": "code",
   "execution_count": 48,
   "id": "ce977ca9",
   "metadata": {},
   "outputs": [
    {
     "name": "stdout",
     "output_type": "stream",
     "text": [
      "10\n"
     ]
    },
    {
     "data": {
      "text/plain": [
       "10"
      ]
     },
     "execution_count": 48,
     "metadata": {},
     "output_type": "execute_result"
    }
   ],
   "source": [
    "ans2 = int(input())\n",
    "ans2"
   ]
  },
  {
   "cell_type": "code",
   "execution_count": 49,
   "id": "b4193cea",
   "metadata": {},
   "outputs": [
    {
     "data": {
      "text/plain": [
       "15"
      ]
     },
     "execution_count": 49,
     "metadata": {},
     "output_type": "execute_result"
    }
   ],
   "source": [
    "ans1 + ans2"
   ]
  },
  {
   "cell_type": "markdown",
   "id": "0e894859",
   "metadata": {},
   "source": [
    "### input().split()으로 값을 띄어쓰기로 두 개의 변수에 값을 넣을 수 있다"
   ]
  },
  {
   "cell_type": "code",
   "execution_count": 54,
   "id": "e12ff94a",
   "metadata": {},
   "outputs": [
    {
     "name": "stdout",
     "output_type": "stream",
     "text": [
      "두 개의 값을 띄어쓰기로 구분해서 쓰시오.  5 10\n"
     ]
    }
   ],
   "source": [
    "ans3, ans4 = input('두 개의 값을 띄어쓰기로 구분해서 쓰시오.  ').split()"
   ]
  },
  {
   "cell_type": "code",
   "execution_count": 52,
   "id": "394aee47",
   "metadata": {},
   "outputs": [
    {
     "data": {
      "text/plain": [
       "'5'"
      ]
     },
     "execution_count": 52,
     "metadata": {},
     "output_type": "execute_result"
    }
   ],
   "source": [
    "ans3"
   ]
  },
  {
   "cell_type": "code",
   "execution_count": 53,
   "id": "657adfbf",
   "metadata": {},
   "outputs": [
    {
     "data": {
      "text/plain": [
       "'10'"
      ]
     },
     "execution_count": 53,
     "metadata": {},
     "output_type": "execute_result"
    }
   ],
   "source": [
    "ans4"
   ]
  },
  {
   "cell_type": "markdown",
   "id": "ff3a754c",
   "metadata": {},
   "source": [
    "# 출력문 이해하기"
   ]
  },
  {
   "cell_type": "code",
   "execution_count": 55,
   "id": "79bc7e76",
   "metadata": {},
   "outputs": [
    {
     "name": "stdout",
     "output_type": "stream",
     "text": [
      "Hi Hello World!\n"
     ]
    }
   ],
   "source": [
    "# , 넣어서 쓰면 값을 순서대로 다 출력한다.\n",
    "print('Hi', 'Hello', 'World!')"
   ]
  },
  {
   "cell_type": "markdown",
   "id": "3165e331",
   "metadata": {},
   "source": [
    "### sep : 구분자"
   ]
  },
  {
   "cell_type": "code",
   "execution_count": 58,
   "id": "a80212fb",
   "metadata": {},
   "outputs": [
    {
     "name": "stdout",
     "output_type": "stream",
     "text": [
      "1 2 3\n"
     ]
    }
   ],
   "source": [
    "print(1,2,3)"
   ]
  },
  {
   "cell_type": "code",
   "execution_count": 56,
   "id": "1b52b616",
   "metadata": {},
   "outputs": [
    {
     "name": "stdout",
     "output_type": "stream",
     "text": [
      "1,2,3\n"
     ]
    }
   ],
   "source": [
    "print(1,2,3, sep=',')"
   ]
  },
  {
   "cell_type": "code",
   "execution_count": 57,
   "id": "35e2aa45",
   "metadata": {},
   "outputs": [
    {
     "name": "stdout",
     "output_type": "stream",
     "text": [
      "1, 2, 3\n"
     ]
    }
   ],
   "source": [
    "print(1,2,3, sep=', ')"
   ]
  },
  {
   "cell_type": "code",
   "execution_count": 59,
   "id": "c990d91d",
   "metadata": {},
   "outputs": [
    {
     "name": "stdout",
     "output_type": "stream",
     "text": [
      "123\n"
     ]
    }
   ],
   "source": [
    "print(1,2,3, sep='')"
   ]
  },
  {
   "cell_type": "code",
   "execution_count": 60,
   "id": "be447eb2",
   "metadata": {},
   "outputs": [
    {
     "name": "stdout",
     "output_type": "stream",
     "text": [
      "1\n",
      "2\n",
      "3\n"
     ]
    }
   ],
   "source": [
    "print(1,2,3, sep='\\n')"
   ]
  },
  {
   "cell_type": "code",
   "execution_count": 63,
   "id": "7a3ffb24",
   "metadata": {},
   "outputs": [
    {
     "name": "stdout",
     "output_type": "stream",
     "text": [
      "Hi\n",
      "Hi\n",
      "Hi\n"
     ]
    }
   ],
   "source": [
    "print('Hi', 'Hi', 'Hi', sep='\\n')"
   ]
  },
  {
   "cell_type": "code",
   "execution_count": 64,
   "id": "67b11505",
   "metadata": {},
   "outputs": [
    {
     "name": "stdout",
     "output_type": "stream",
     "text": [
      "Hi\n",
      "Hi\n",
      "Hi\n",
      "Hi\n"
     ]
    }
   ],
   "source": [
    "print('Hi\\nHi\\nHi\\nHi')"
   ]
  },
  {
   "cell_type": "markdown",
   "id": "31ce8264",
   "metadata": {},
   "source": [
    "### end : 바로 뒤에 붙여버리는 것"
   ]
  },
  {
   "cell_type": "code",
   "execution_count": 67,
   "id": "b5ae85c9",
   "metadata": {},
   "outputs": [
    {
     "name": "stdout",
     "output_type": "stream",
     "text": [
      "1\n",
      "2\n",
      "3\n"
     ]
    }
   ],
   "source": [
    "print(1)\n",
    "print(2)\n",
    "print(3)"
   ]
  },
  {
   "cell_type": "code",
   "execution_count": 70,
   "id": "1f470e2f",
   "metadata": {},
   "outputs": [
    {
     "name": "stdout",
     "output_type": "stream",
     "text": [
      "123"
     ]
    }
   ],
   "source": [
    "print(1, end='')\n",
    "print(2, end='')\n",
    "print(3, end='')"
   ]
  },
  {
   "cell_type": "markdown",
   "id": "ff4b86d2",
   "metadata": {},
   "source": [
    "# 불린값\n",
    "- 참, 거짓\n",
    "- int, str 등과 같이 boolean값이 있다\n",
    "- True, False"
   ]
  },
  {
   "cell_type": "code",
   "execution_count": 71,
   "id": "2170040b",
   "metadata": {},
   "outputs": [
    {
     "data": {
      "text/plain": [
       "True"
      ]
     },
     "execution_count": 71,
     "metadata": {},
     "output_type": "execute_result"
    }
   ],
   "source": [
    "True"
   ]
  },
  {
   "cell_type": "code",
   "execution_count": 72,
   "id": "faeddf37",
   "metadata": {},
   "outputs": [
    {
     "data": {
      "text/plain": [
       "False"
      ]
     },
     "execution_count": 72,
     "metadata": {},
     "output_type": "execute_result"
    }
   ],
   "source": [
    "False"
   ]
  },
  {
   "cell_type": "code",
   "execution_count": 75,
   "id": "1a01276c",
   "metadata": {},
   "outputs": [
    {
     "name": "stdout",
     "output_type": "stream",
     "text": [
      "True\n"
     ]
    }
   ],
   "source": [
    "print(10 > 5)"
   ]
  },
  {
   "cell_type": "code",
   "execution_count": 76,
   "id": "b6c42623",
   "metadata": {},
   "outputs": [
    {
     "name": "stdout",
     "output_type": "stream",
     "text": [
      "False\n"
     ]
    }
   ],
   "source": [
    "print(4 > 10)"
   ]
  },
  {
   "cell_type": "code",
   "execution_count": 77,
   "id": "7cf82b41",
   "metadata": {},
   "outputs": [
    {
     "name": "stdout",
     "output_type": "stream",
     "text": [
      "False\n"
     ]
    }
   ],
   "source": [
    "print(1 == 4)"
   ]
  },
  {
   "cell_type": "code",
   "execution_count": 78,
   "id": "240da9a3",
   "metadata": {},
   "outputs": [
    {
     "name": "stdout",
     "output_type": "stream",
     "text": [
      "True\n"
     ]
    }
   ],
   "source": [
    "print('상원' == '상원')"
   ]
  },
  {
   "cell_type": "code",
   "execution_count": 79,
   "id": "29b0fe23",
   "metadata": {},
   "outputs": [
    {
     "name": "stdout",
     "output_type": "stream",
     "text": [
      "False\n"
     ]
    }
   ],
   "source": [
    "print('상원' == '성원')"
   ]
  },
  {
   "cell_type": "code",
   "execution_count": 80,
   "id": "bfd04e6f",
   "metadata": {},
   "outputs": [
    {
     "name": "stdout",
     "output_type": "stream",
     "text": [
      "True\n",
      "True\n",
      "False\n"
     ]
    },
    {
     "name": "stderr",
     "output_type": "stream",
     "text": [
      "<>:2: SyntaxWarning: \"is\" with a literal. Did you mean \"==\"?\n",
      "<>:3: SyntaxWarning: \"is\" with a literal. Did you mean \"==\"?\n",
      "<>:2: SyntaxWarning: \"is\" with a literal. Did you mean \"==\"?\n",
      "<>:3: SyntaxWarning: \"is\" with a literal. Did you mean \"==\"?\n",
      "<ipython-input-80-1808ce687846>:2: SyntaxWarning: \"is\" with a literal. Did you mean \"==\"?\n",
      "  print(1 is 1)\n",
      "<ipython-input-80-1808ce687846>:3: SyntaxWarning: \"is\" with a literal. Did you mean \"==\"?\n",
      "  print(1 is 1.0)\n"
     ]
    }
   ],
   "source": [
    "print(1 == 1.0)\n",
    "print(1 is 1)\n",
    "print(1 is 1.0)"
   ]
  },
  {
   "cell_type": "markdown",
   "id": "61486c83",
   "metadata": {},
   "source": [
    "# 논리연산자\n",
    "- and\n",
    "- or\n",
    "- not"
   ]
  }
 ],
 "metadata": {
  "kernelspec": {
   "display_name": "Python 3",
   "language": "python",
   "name": "python3"
  },
  "language_info": {
   "codemirror_mode": {
    "name": "ipython",
    "version": 3
   },
   "file_extension": ".py",
   "mimetype": "text/x-python",
   "name": "python",
   "nbconvert_exporter": "python",
   "pygments_lexer": "ipython3",
   "version": "3.8.8"
  }
 },
 "nbformat": 4,
 "nbformat_minor": 5
}
