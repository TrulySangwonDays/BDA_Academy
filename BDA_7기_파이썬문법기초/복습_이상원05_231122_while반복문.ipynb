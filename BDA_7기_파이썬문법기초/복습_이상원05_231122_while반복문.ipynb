{
 "cells": [
  {
   "cell_type": "markdown",
   "id": "a62ee0a9",
   "metadata": {},
   "source": [
    "# while 반복문\n",
    "- 반복문 배우고 난 후에는 반복문 응용해보는 시간을 가질 예정"
   ]
  },
  {
   "cell_type": "markdown",
   "id": "66053b44",
   "metadata": {},
   "source": [
    "### 기존 for문과 다르다\n",
    "- while i < 10 :\n",
    "    - 원하는 코드\n",
    "    - i += 1 #초기식 변화하는 식(증가식)\n",
    "---\n",
    "i를 초기에 선언해주어야 한다."
   ]
  },
  {
   "cell_type": "code",
   "execution_count": 1,
   "id": "1bea0c02",
   "metadata": {},
   "outputs": [
    {
     "ename": "NameError",
     "evalue": "name 'k' is not defined",
     "output_type": "error",
     "traceback": [
      "\u001b[1;31m---------------------------------------------------------------------------\u001b[0m",
      "\u001b[1;31mNameError\u001b[0m                                 Traceback (most recent call last)",
      "Cell \u001b[1;32mIn[1], line 1\u001b[0m\n\u001b[1;32m----> 1\u001b[0m \u001b[38;5;28;01mwhile\u001b[39;00m k \u001b[38;5;241m<\u001b[39m \u001b[38;5;241m10\u001b[39m :\n\u001b[0;32m      2\u001b[0m     \u001b[38;5;28mprint\u001b[39m(\u001b[38;5;124m\"\u001b[39m\u001b[38;5;124m어렵지 않아요\u001b[39m\u001b[38;5;124m\"\u001b[39m, i)\n\u001b[0;32m      3\u001b[0m     k \u001b[38;5;241m+\u001b[39m\u001b[38;5;241m=\u001b[39m \u001b[38;5;241m1\u001b[39m\n",
      "\u001b[1;31mNameError\u001b[0m: name 'k' is not defined"
     ]
    }
   ],
   "source": [
    "while k < 10 :\n",
    "    print(\"어렵지 않아요\", i)\n",
    "    k += 1"
   ]
  },
  {
   "cell_type": "code",
   "execution_count": 2,
   "id": "4202a043",
   "metadata": {},
   "outputs": [
    {
     "name": "stdout",
     "output_type": "stream",
     "text": [
      "어렵지 않아요 0\n",
      "어렵지 않아요 1\n",
      "어렵지 않아요 2\n",
      "어렵지 않아요 3\n",
      "어렵지 않아요 4\n",
      "어렵지 않아요 5\n",
      "어렵지 않아요 6\n",
      "어렵지 않아요 7\n",
      "어렵지 않아요 8\n",
      "어렵지 않아요 9\n"
     ]
    }
   ],
   "source": [
    "i = 0\n",
    "\n",
    "while i < 10 : #. i가 10보다 작을 때까지 반복해!\n",
    "    print(\"어렵지 않아요\", i)\n",
    "    i += 1"
   ]
  },
  {
   "cell_type": "markdown",
   "id": "eba6256c",
   "metadata": {},
   "source": [
    "### i += 1 등의 설정을 해주지 않으면(조건식이 True가 지속되면) 무한루프에 빠진다...\n",
    "\n",
    "- for문은 대부분 range나 시퀀스객체랑 사용하기에 이미 대부분 끝이 있다.\n",
    "- while문은 조건식과 함께 사용하기에 무한루프에 빠질 수 있다.\n",
    "- 조건식이라는 것이 대소비교 논리 비교 연산자 등을 말하는 것\n",
    "- 조건식만큼 반복하기 위해서는 i를 증가시켜야 한다."
   ]
  },
  {
   "cell_type": "code",
   "execution_count": 2,
   "id": "e13be570",
   "metadata": {},
   "outputs": [],
   "source": [
    "i = 10\n",
    "\n",
    "while i < 5 :\n",
    "    print(\"어렵지 않아요\", i)\n",
    "    i += 1"
   ]
  },
  {
   "cell_type": "markdown",
   "id": "3b1abe53",
   "metadata": {},
   "source": [
    "##### 조건이 거짓이므로 출력하지 않음\n",
    "---"
   ]
  },
  {
   "cell_type": "code",
   "execution_count": 4,
   "id": "081b6ee6",
   "metadata": {
    "scrolled": true
   },
   "outputs": [
    {
     "name": "stdout",
     "output_type": "stream",
     "text": [
      "어렵지 않아요 10\n",
      "9\n",
      "어렵지 않아요 9\n",
      "8\n",
      "어렵지 않아요 8\n",
      "7\n",
      "어렵지 않아요 7\n",
      "6\n",
      "어렵지 않아요 6\n",
      "5\n"
     ]
    }
   ],
   "source": [
    "i = 10\n",
    "\n",
    "while i > 5 :\n",
    "    print(\"어렵지 않아요\", i)\n",
    "    i -= 1\n",
    "    print(i)"
   ]
  },
  {
   "cell_type": "code",
   "execution_count": 6,
   "id": "0cde4def",
   "metadata": {},
   "outputs": [
    {
     "name": "stdout",
     "output_type": "stream",
     "text": [
      "반복할 횟수10\n",
      "10 만큼 반복합니다.\n",
      "1\n",
      "10 만큼 반복합니다.\n",
      "2\n",
      "10 만큼 반복합니다.\n",
      "3\n",
      "10 만큼 반복합니다.\n",
      "4\n",
      "10 만큼 반복합니다.\n",
      "5\n",
      "10 만큼 반복합니다.\n",
      "6\n",
      "10 만큼 반복합니다.\n",
      "7\n",
      "10 만큼 반복합니다.\n",
      "8\n",
      "10 만큼 반복합니다.\n",
      "9\n",
      "10 만큼 반복합니다.\n",
      "10\n"
     ]
    }
   ],
   "source": [
    "cnt = int(input(\"반복할 횟수\"))\n",
    "\n",
    "i = 0\n",
    "while i < cnt :\n",
    "    print(cnt,\"만큼 반복합니다.\")\n",
    "    i += 1\n",
    "    print(i)"
   ]
  },
  {
   "cell_type": "markdown",
   "id": "cd784f70",
   "metadata": {},
   "source": [
    "---\n",
    "### 주사위게임 예제"
   ]
  },
  {
   "cell_type": "code",
   "execution_count": 101,
   "id": "8fa654a9",
   "metadata": {},
   "outputs": [],
   "source": [
    "import random\n",
    "# 랜덤한 숫자를 뽑아주는 module임"
   ]
  },
  {
   "cell_type": "code",
   "execution_count": 71,
   "id": "3438512a",
   "metadata": {},
   "outputs": [
    {
     "data": {
      "text/plain": [
       "0.5163928807167563"
      ]
     },
     "execution_count": 71,
     "metadata": {},
     "output_type": "execute_result"
    }
   ],
   "source": [
    "random.random()"
   ]
  },
  {
   "cell_type": "markdown",
   "id": "611cc227",
   "metadata": {},
   "source": [
    "##### random.randint(a, b)\n",
    "- a부터 b까지의 랜덤한 값을 출력해달라"
   ]
  },
  {
   "cell_type": "code",
   "execution_count": 88,
   "id": "64e8e87f",
   "metadata": {},
   "outputs": [
    {
     "data": {
      "text/plain": [
       "5"
      ]
     },
     "execution_count": 88,
     "metadata": {},
     "output_type": "execute_result"
    }
   ],
   "source": [
    "random.randint(1,6)"
   ]
  },
  {
   "cell_type": "markdown",
   "id": "88fdb0ef",
   "metadata": {},
   "source": [
    "##### 주사위의 눈이 5가 나오면 while을 멈춰라"
   ]
  },
  {
   "cell_type": "code",
   "execution_count": 194,
   "id": "5a90e5d2",
   "metadata": {},
   "outputs": [
    {
     "name": "stdout",
     "output_type": "stream",
     "text": [
      "멈춰라 2\n",
      "멈춰라 4\n",
      "멈춰라 6\n",
      "멈춰라 1\n",
      "멈춰라 3\n",
      "멈춰라 4\n",
      "멈춰라 1\n",
      "멈춰라 4\n",
      "멈춰라 2\n",
      "멈춰라 3\n",
      "멈춰라 5\n"
     ]
    }
   ],
   "source": [
    "i = 0\n",
    "\n",
    "while i != 5 :\n",
    "    i = random.randint(1, 6)\n",
    "    print('멈춰라', i)\n"
   ]
  },
  {
   "cell_type": "markdown",
   "id": "26c6b269",
   "metadata": {},
   "source": [
    "### while문을 제어할 수 있는 문법을 배우자\n",
    "- break : 반복문 제어를 멈춘다.\n",
    "- continue : 반복문 제어 중단하지 않고 진행하지만, 해당 코드는 실행하지 않고 건너뛴다."
   ]
  },
  {
   "cell_type": "markdown",
   "id": "bf84822e",
   "metadata": {},
   "source": [
    "##### break를 이용해서 무한루프를 멈추자"
   ]
  },
  {
   "cell_type": "code",
   "execution_count": 195,
   "id": "bb8aa6c0",
   "metadata": {},
   "outputs": [
    {
     "name": "stdout",
     "output_type": "stream",
     "text": [
      "0\n",
      "1\n",
      "2\n",
      "3\n",
      "4\n"
     ]
    }
   ],
   "source": [
    "i = 0\n",
    "while True:\n",
    "    print(i)\n",
    "    i += 1\n",
    "    if i == 5 :\n",
    "        break\n",
    "    "
   ]
  },
  {
   "cell_type": "markdown",
   "id": "9208f603",
   "metadata": {},
   "source": [
    "##### continue문을 이용해서 실행을 건너뛰자\n",
    "- 멈추는 건 아니고 해당조건일 때, continue를 사용하면 원하는 것을 출력하지 않고 넘어간다."
   ]
  },
  {
   "cell_type": "code",
   "execution_count": 197,
   "id": "df4d0ad5",
   "metadata": {},
   "outputs": [
    {
     "name": "stdout",
     "output_type": "stream",
     "text": [
      "1\n",
      "3\n",
      "5\n",
      "7\n",
      "9\n"
     ]
    }
   ],
   "source": [
    "i = 0\n",
    "while i < 10 :\n",
    "    i += 1\n",
    "    if i % 2 ==0:\n",
    "        continue\n",
    "    print(i)"
   ]
  },
  {
   "cell_type": "code",
   "execution_count": 205,
   "id": "d6387c27",
   "metadata": {
    "scrolled": false
   },
   "outputs": [
    {
     "name": "stdout",
     "output_type": "stream",
     "text": [
      "1\n",
      "계속 반복되는 i 1\n",
      "2 continue안에 i\n",
      "3\n",
      "계속 반복되는 i 3\n",
      "4 continue안에 i\n",
      "5\n",
      "계속 반복되는 i 5\n",
      "6 continue안에 i\n",
      "7\n",
      "계속 반복되는 i 7\n",
      "8 continue안에 i\n",
      "9\n",
      "계속 반복되는 i 9\n",
      "10 continue안에 i\n"
     ]
    }
   ],
   "source": [
    "i = 0\n",
    "while i < 10 :\n",
    "    i += 1\n",
    "    if i % 2 ==0:\n",
    "        print(i, 'continue안에 i')\n",
    "        continue\n",
    "    print(i)\n",
    "    print(\"계속 반복되는 i\", i)"
   ]
  },
  {
   "cell_type": "markdown",
   "id": "62aeecef",
   "metadata": {},
   "source": [
    "#### continue문을 만나면 바로 while로 돌아간다\n",
    "---"
   ]
  },
  {
   "cell_type": "code",
   "execution_count": 210,
   "id": "800ff887",
   "metadata": {},
   "outputs": [
    {
     "name": "stdout",
     "output_type": "stream",
     "text": [
      "1\n",
      "3\n",
      "5\n",
      "7\n",
      "9\n"
     ]
    }
   ],
   "source": [
    "for i in range(10) :\n",
    "    if i % 2 == 0 :\n",
    "        continue\n",
    "    print(i)"
   ]
  },
  {
   "cell_type": "code",
   "execution_count": null,
   "id": "34775b4c",
   "metadata": {},
   "outputs": [],
   "source": []
  },
  {
   "cell_type": "code",
   "execution_count": null,
   "id": "abcffff6",
   "metadata": {},
   "outputs": [],
   "source": []
  },
  {
   "cell_type": "code",
   "execution_count": null,
   "id": "e3d24f2c",
   "metadata": {},
   "outputs": [],
   "source": []
  }
 ],
 "metadata": {
  "kernelspec": {
   "display_name": "Python 3 (ipykernel)",
   "language": "python",
   "name": "python3"
  },
  "language_info": {
   "codemirror_mode": {
    "name": "ipython",
    "version": 3
   },
   "file_extension": ".py",
   "mimetype": "text/x-python",
   "name": "python",
   "nbconvert_exporter": "python",
   "pygments_lexer": "ipython3",
   "version": "3.11.4"
  },
  "widgets": {
   "application/vnd.jupyter.widget-state+json": {
    "state": {},
    "version_major": 2,
    "version_minor": 0
   }
  }
 },
 "nbformat": 4,
 "nbformat_minor": 5
}
