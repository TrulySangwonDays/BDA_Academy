{
 "cells": [
  {
   "cell_type": "markdown",
   "id": "2c3619cc",
   "metadata": {},
   "source": [
    "# formating 마무리, 정리"
   ]
  },
  {
   "cell_type": "code",
   "execution_count": 1,
   "id": "b82d8065",
   "metadata": {},
   "outputs": [
    {
     "data": {
      "text/plain": [
       "('python', 120.0)"
      ]
     },
     "execution_count": 1,
     "metadata": {},
     "output_type": "execute_result"
    }
   ],
   "source": [
    "class_1 = 'python'\n",
    "class_num = ((50 + 40 + 30) / 2)*2\n",
    "\n",
    "class_1, class_num"
   ]
  },
  {
   "cell_type": "code",
   "execution_count": 3,
   "id": "65ad7cef",
   "metadata": {},
   "outputs": [
    {
     "data": {
      "text/plain": [
       "'안녕하세요. 파문기는 python을 배우고, 120명의 수강생이 있습니다.'"
      ]
     },
     "execution_count": 3,
     "metadata": {},
     "output_type": "execute_result"
    }
   ],
   "source": [
    "f'안녕하세요. 파문기는 {class_1}을 배우고, {int(class_num)}명의 수강생이 있습니다.'"
   ]
  },
  {
   "cell_type": "markdown",
   "id": "cdf65672",
   "metadata": {},
   "source": [
    "### Python에 대해 확장적 사고를 가져야 함\n",
    "class_num = 3600, class_num = ((50+40+30)/2)**2 계산하는 식으로 바꾸고  class_num = 함수형태로 숫자를 계산\n",
    "\n",
    "- 단순하게 변수를 값으로 계산하는 게 아니라 -> 계산이 식으로도 표현이가능하고 -> 이 식을 만드는 함수로도 표현이 가능하다->\n",
    "- 그 함수를 만드는 자동화된 코드를 집어넣게 되면-> 내가 원하는 변수 값이 바뀔 때\n",
    "- ((50+40+30)/2)**2  \n",
    "- ((x+y+z)/2)**2  # 변수로 값을 받게 되면 -> 같은 식이지만 내가 원하는 변수에 따라 다른 값을 만들 수 있다."
   ]
  },
  {
   "cell_type": "markdown",
   "id": "da764750",
   "metadata": {},
   "source": [
    "## 딕셔너리 조작\n",
    "####\n",
    "- 키와 값으로 구성됨\n",
    "####\n",
    "- 딕셔너리를 값을 조정하거나 수정, 삭제 등 할 때 하는 문법\n",
    "- setdefault 키-값 쌍을 추가하는 것\n",
    "- update 키의 값을 수정하는 것, ( 키가 없으면 키-값 쌍으로 추가 )"
   ]
  },
  {
   "cell_type": "code",
   "execution_count": 25,
   "id": "0f5c9e07",
   "metadata": {},
   "outputs": [],
   "source": [
    "x = {'a':5, 'b':10, 'c':15}"
   ]
  },
  {
   "cell_type": "code",
   "execution_count": 15,
   "id": "7e541f5c",
   "metadata": {},
   "outputs": [
    {
     "data": {
      "text/plain": [
       "{'a': 5, 'b': 10, 'c': 15, 'd': None}"
      ]
     },
     "execution_count": 15,
     "metadata": {},
     "output_type": "execute_result"
    }
   ],
   "source": [
    "x.setdefault('d') #키만 추가한 내용\n",
    "x"
   ]
  },
  {
   "cell_type": "code",
   "execution_count": 16,
   "id": "558a05a8",
   "metadata": {},
   "outputs": [
    {
     "data": {
      "text/plain": [
       "{'a': 5, 'b': 10, 'c': 15, 'd': None, 'e': 30}"
      ]
     },
     "execution_count": 16,
     "metadata": {},
     "output_type": "execute_result"
    }
   ],
   "source": [
    "x.setdefault('e',30)\n",
    "x"
   ]
  },
  {
   "cell_type": "code",
   "execution_count": 17,
   "id": "42f43a9f",
   "metadata": {},
   "outputs": [
    {
     "data": {
      "text/plain": [
       "{'a': 5, 'b': 10, 'c': 15, 'd': 20, 'e': 30}"
      ]
     },
     "execution_count": 17,
     "metadata": {},
     "output_type": "execute_result"
    }
   ],
   "source": [
    "# d의 값을 넣으려면?\n",
    "x.update(d=20)\n",
    "x"
   ]
  },
  {
   "cell_type": "markdown",
   "id": "54ddf8d3",
   "metadata": {},
   "source": [
    "## 딕셔너리 값 삭제 기능\n",
    "- 키와 값을 쌍으로 삭제 가능\n",
    "- pop 함수 사용"
   ]
  },
  {
   "cell_type": "code",
   "execution_count": 18,
   "id": "70de432b",
   "metadata": {},
   "outputs": [
    {
     "data": {
      "text/plain": [
       "{'a': 5, 'b': 10, 'c': 15, 'd': 20}"
      ]
     },
     "execution_count": 18,
     "metadata": {},
     "output_type": "execute_result"
    }
   ],
   "source": [
    "x.pop('e')\n",
    "x"
   ]
  },
  {
   "cell_type": "code",
   "execution_count": 19,
   "id": "ccba4686",
   "metadata": {},
   "outputs": [
    {
     "data": {
      "text/plain": [
       "{'b': 10, 'c': 15, 'd': 20}"
      ]
     },
     "execution_count": 19,
     "metadata": {},
     "output_type": "execute_result"
    }
   ],
   "source": [
    "x.pop('a')\n",
    "x"
   ]
  },
  {
   "cell_type": "code",
   "execution_count": 20,
   "id": "5324b93e",
   "metadata": {},
   "outputs": [],
   "source": [
    "del x['c'] # 딕셔너리는 키를 기준으로 값을 접근하는 형태"
   ]
  },
  {
   "cell_type": "markdown",
   "id": "a290493b",
   "metadata": {},
   "source": [
    "- pop 사용하는 게아니라 popitem을 사용하면 리스트의 pop처럼 작동한다."
   ]
  },
  {
   "cell_type": "code",
   "execution_count": 21,
   "id": "123d4fd6",
   "metadata": {},
   "outputs": [
    {
     "data": {
      "text/plain": [
       "{'b': 10}"
      ]
     },
     "execution_count": 21,
     "metadata": {},
     "output_type": "execute_result"
    }
   ],
   "source": [
    "x.popitem()\n",
    "x"
   ]
  },
  {
   "cell_type": "markdown",
   "id": "a566c4b6",
   "metadata": {},
   "source": [
    "## 키-값 쌍으로 모두 가져오기\n",
    "---\n",
    "- items : 키-값 쌍으로 모두 가져오기\n",
    "- keys : 키 값만 가지고 오기\n",
    "- values : 값만 가지고 오기"
   ]
  },
  {
   "cell_type": "code",
   "execution_count": 26,
   "id": "e60a9774",
   "metadata": {},
   "outputs": [
    {
     "data": {
      "text/plain": [
       "dict_items([('a', 5), ('b', 10), ('c', 15)])"
      ]
     },
     "execution_count": 26,
     "metadata": {},
     "output_type": "execute_result"
    }
   ],
   "source": [
    "x.items()"
   ]
  },
  {
   "cell_type": "code",
   "execution_count": 27,
   "id": "88bab323",
   "metadata": {},
   "outputs": [
    {
     "data": {
      "text/plain": [
       "{'a': 5, 'b': 10, 'c': 15}"
      ]
     },
     "execution_count": 27,
     "metadata": {},
     "output_type": "execute_result"
    }
   ],
   "source": [
    "x"
   ]
  },
  {
   "cell_type": "code",
   "execution_count": 28,
   "id": "83f6ec0d",
   "metadata": {},
   "outputs": [
    {
     "data": {
      "text/plain": [
       "(['a', 'b', 'c'], [5, 10, 15])"
      ]
     },
     "execution_count": 28,
     "metadata": {},
     "output_type": "execute_result"
    }
   ],
   "source": [
    "list(x.keys()), list(x.values())"
   ]
  },
  {
   "cell_type": "markdown",
   "id": "c1904d27",
   "metadata": {},
   "source": [
    "## 반복문으로 딕셔너리 출력하기\n",
    "\n",
    "- for i in range():\n",
    "    - 요구조건\n",
    "    \n",
    "- 이번에는 딕셔너리 기준으로 반복문을 진행하는 것\n",
    "- 1. in 뒤에를 어떤 식으로 써야하나?\n",
    "- 2. 루프인덱스는 어떻게 굴러가는 것인가?"
   ]
  },
  {
   "cell_type": "code",
   "execution_count": 30,
   "id": "9c30b9b4",
   "metadata": {},
   "outputs": [
    {
     "name": "stdout",
     "output_type": "stream",
     "text": [
      "a\n",
      "b\n",
      "c\n"
     ]
    }
   ],
   "source": [
    "for i in x:\n",
    "    print(i) # 기본적으로 루프인덱스는 키를 가지고 옴"
   ]
  },
  {
   "cell_type": "code",
   "execution_count": 32,
   "id": "1b43b08d",
   "metadata": {},
   "outputs": [
    {
     "name": "stdout",
     "output_type": "stream",
     "text": [
      "a\n",
      "b\n",
      "c\n"
     ]
    }
   ],
   "source": [
    "for i in x.keys():\n",
    "    print(i)"
   ]
  },
  {
   "cell_type": "code",
   "execution_count": 31,
   "id": "67c10d42",
   "metadata": {},
   "outputs": [
    {
     "name": "stdout",
     "output_type": "stream",
     "text": [
      "5\n",
      "10\n",
      "15\n"
     ]
    }
   ],
   "source": [
    "# 값만 가지고 오고싶다면\n",
    "for i in x.values():\n",
    "    print(i)"
   ]
  },
  {
   "cell_type": "code",
   "execution_count": 33,
   "id": "436a2856",
   "metadata": {},
   "outputs": [
    {
     "name": "stdout",
     "output_type": "stream",
     "text": [
      "('a', 5)\n",
      "('b', 10)\n",
      "('c', 15)\n"
     ]
    }
   ],
   "source": [
    "for i in x.items():\n",
    "    print(i)"
   ]
  },
  {
   "cell_type": "code",
   "execution_count": 34,
   "id": "f4702f4a",
   "metadata": {},
   "outputs": [
    {
     "name": "stdout",
     "output_type": "stream",
     "text": [
      "a 5\n",
      "b 10\n",
      "c 15\n"
     ]
    }
   ],
   "source": [
    "for i,j in x.items():\n",
    "    print(i,j)"
   ]
  },
  {
   "cell_type": "markdown",
   "id": "7bcf042a",
   "metadata": {},
   "source": [
    "## 리스트 표현식처럼 딕셔너리 표현식도 가능합니다.\n",
    "\n",
    "- {} 딕셔너리만 바뀌고 나머지는 똑같다.\n",
    "- 가장 큰 차이 두 번째가 바로 키와 값 차이\n",
    "\n",
    "- 이 다른점을 어떤식으로 표현하면 되나?\n",
    "- {키:값 for 키,값 in 딕셔너리}\n",
    "- dict({키:값 for 키,값 in 딕셔너리})"
   ]
  },
  {
   "cell_type": "code",
   "execution_count": 35,
   "id": "e0af9927",
   "metadata": {},
   "outputs": [
    {
     "data": {
      "text/plain": [
       "{'파문기': None, '데분기': None, '데분중': None, 'sql': None}"
      ]
     },
     "execution_count": 35,
     "metadata": {},
     "output_type": "execute_result"
    }
   ],
   "source": [
    "class_1 = ['파문기','데분기','데분중','sql']\n",
    "\n",
    "{key: value for key,value in dict.fromkeys(class_1).items()} # fromkeys(가지고올 key값을 넣자!)"
   ]
  },
  {
   "cell_type": "code",
   "execution_count": 36,
   "id": "4a9bdf14",
   "metadata": {},
   "outputs": [
    {
     "ename": "ValueError",
     "evalue": "too many values to unpack (expected 2)",
     "output_type": "error",
     "traceback": [
      "\u001b[1;31m---------------------------------------------------------------------------\u001b[0m",
      "\u001b[1;31mValueError\u001b[0m                                Traceback (most recent call last)",
      "Cell \u001b[1;32mIn[36], line 1\u001b[0m\n\u001b[1;32m----> 1\u001b[0m {key:value \u001b[38;5;28;01mfor\u001b[39;00m key,value \u001b[38;5;129;01min\u001b[39;00m \u001b[38;5;28mdict\u001b[39m\u001b[38;5;241m.\u001b[39mfromkeys(class_1)\u001b[38;5;241m.\u001b[39mkeys()}\n",
      "Cell \u001b[1;32mIn[36], line 1\u001b[0m, in \u001b[0;36m<dictcomp>\u001b[1;34m(.0)\u001b[0m\n\u001b[1;32m----> 1\u001b[0m {key:value \u001b[38;5;28;01mfor\u001b[39;00m key,value \u001b[38;5;129;01min\u001b[39;00m \u001b[38;5;28mdict\u001b[39m\u001b[38;5;241m.\u001b[39mfromkeys(class_1)\u001b[38;5;241m.\u001b[39mkeys()}\n",
      "\u001b[1;31mValueError\u001b[0m: too many values to unpack (expected 2)"
     ]
    }
   ],
   "source": [
    "{key:value for key,value in dict.fromkeys(class_1).keys()}"
   ]
  },
  {
   "cell_type": "code",
   "execution_count": 37,
   "id": "30f18a97",
   "metadata": {},
   "outputs": [
    {
     "ename": "TypeError",
     "evalue": "cannot unpack non-iterable NoneType object",
     "output_type": "error",
     "traceback": [
      "\u001b[1;31m---------------------------------------------------------------------------\u001b[0m",
      "\u001b[1;31mTypeError\u001b[0m                                 Traceback (most recent call last)",
      "Cell \u001b[1;32mIn[37], line 1\u001b[0m\n\u001b[1;32m----> 1\u001b[0m {key:value \u001b[38;5;28;01mfor\u001b[39;00m key,value \u001b[38;5;129;01min\u001b[39;00m \u001b[38;5;28mdict\u001b[39m\u001b[38;5;241m.\u001b[39mfromkeys(class_1)\u001b[38;5;241m.\u001b[39mvalues()}\n",
      "Cell \u001b[1;32mIn[37], line 1\u001b[0m, in \u001b[0;36m<dictcomp>\u001b[1;34m(.0)\u001b[0m\n\u001b[1;32m----> 1\u001b[0m {key:value \u001b[38;5;28;01mfor\u001b[39;00m key,value \u001b[38;5;129;01min\u001b[39;00m \u001b[38;5;28mdict\u001b[39m\u001b[38;5;241m.\u001b[39mfromkeys(class_1)\u001b[38;5;241m.\u001b[39mvalues()}\n",
      "\u001b[1;31mTypeError\u001b[0m: cannot unpack non-iterable NoneType object"
     ]
    }
   ],
   "source": [
    "{key:value for key,value in dict.fromkeys(class_1).values()}"
   ]
  },
  {
   "cell_type": "code",
   "execution_count": 38,
   "id": "b0efeafc",
   "metadata": {},
   "outputs": [],
   "source": [
    "a = 10"
   ]
  },
  {
   "cell_type": "code",
   "execution_count": 40,
   "id": "234b87b2",
   "metadata": {},
   "outputs": [
    {
     "data": {
      "text/plain": [
       "{'파문기': 100, '데분기': 100, '데분중': 100, 'sql': 100}"
      ]
     },
     "execution_count": 40,
     "metadata": {},
     "output_type": "execute_result"
    }
   ],
   "source": [
    "{key: a*10 for key,value in dict.fromkeys(class_1).items()}"
   ]
  },
  {
   "cell_type": "markdown",
   "id": "6d3f832a",
   "metadata": {},
   "source": [
    "---\n",
    "- 리스트와는 다르게\n",
    "- 키와 값 두 가지를 신경써서 잡아야 한다.\n",
    "- 해당 딕셔너리 표현식을 사용할 때도 꼭 key, value 두 가지로 생각해서 넣어야 함!"
   ]
  },
  {
   "cell_type": "code",
   "execution_count": 43,
   "id": "f003546e",
   "metadata": {},
   "outputs": [
    {
     "data": {
      "text/plain": [
       "{'a': 5, 'b': 10, 'c': 15}"
      ]
     },
     "execution_count": 43,
     "metadata": {},
     "output_type": "execute_result"
    }
   ],
   "source": [
    "x"
   ]
  },
  {
   "cell_type": "markdown",
   "id": "b0dcbc7f",
   "metadata": {},
   "source": [
    "#### 이미 만들어진 딕셔너리를 가지고 온다면?"
   ]
  },
  {
   "cell_type": "code",
   "execution_count": 44,
   "id": "a6b6ef51",
   "metadata": {},
   "outputs": [
    {
     "data": {
      "text/plain": [
       "{'a': 5, 'b': 10, 'c': 15}"
      ]
     },
     "execution_count": 44,
     "metadata": {},
     "output_type": "execute_result"
    }
   ],
   "source": [
    "{key: value for key,value in {'a': 5, 'b': 10, 'c': 15}.items()}"
   ]
  },
  {
   "cell_type": "code",
   "execution_count": 45,
   "id": "7547a434",
   "metadata": {},
   "outputs": [
    {
     "data": {
      "text/plain": [
       "{'a': 5, 'b': 10, 'c': 15}"
      ]
     },
     "execution_count": 45,
     "metadata": {},
     "output_type": "execute_result"
    }
   ],
   "source": [
    "{key: value for key,value in x.items()}"
   ]
  },
  {
   "cell_type": "markdown",
   "id": "35cd9cce",
   "metadata": {},
   "source": [
    "#### 조건식도 딕셔너리와 동일"
   ]
  },
  {
   "cell_type": "code",
   "execution_count": 46,
   "id": "2a87d294",
   "metadata": {},
   "outputs": [
    {
     "data": {
      "text/plain": [
       "{'a': 5}"
      ]
     },
     "execution_count": 46,
     "metadata": {},
     "output_type": "execute_result"
    }
   ],
   "source": [
    "{key: value for key,value in x.items() if value == 5} # 5만 출력"
   ]
  },
  {
   "cell_type": "code",
   "execution_count": 47,
   "id": "04d1cd87",
   "metadata": {},
   "outputs": [
    {
     "data": {
      "text/plain": [
       "{'b': 10, 'c': 15}"
      ]
     },
     "execution_count": 47,
     "metadata": {},
     "output_type": "execute_result"
    }
   ],
   "source": [
    "{key: value for key,value in x.items() if value != 5}# 5가 아닌 경우"
   ]
  },
  {
   "cell_type": "code",
   "execution_count": 48,
   "id": "47a2a173",
   "metadata": {},
   "outputs": [
    {
     "data": {
      "text/plain": [
       "{'a': 5}"
      ]
     },
     "execution_count": 48,
     "metadata": {},
     "output_type": "execute_result"
    }
   ],
   "source": [
    "{key: value for key,value in x.items() if key == 'a'}# 키가 a인 경우"
   ]
  },
  {
   "cell_type": "code",
   "execution_count": 49,
   "id": "61961da4",
   "metadata": {},
   "outputs": [
    {
     "data": {
      "text/plain": [
       "{'b': 10, 'c': 15}"
      ]
     },
     "execution_count": 49,
     "metadata": {},
     "output_type": "execute_result"
    }
   ],
   "source": [
    "{key: value for key,value in x.items() if key != 'a'}# 키가 a가 아닌 경우"
   ]
  },
  {
   "cell_type": "markdown",
   "id": "8da8647a",
   "metadata": {},
   "source": [
    "## set 함수\n",
    "- 집합의 개념도 있고, 중복을 제거함\n",
    "####\n",
    "- set = {} 중괄호로 들어간다.\n",
    "- 키랑 값이 있는 게 아니라 그냥 값이다.\n",
    "- set = {값, 값, 값}\n",
    "####\n",
    "- set도 리스트처럼 다른 문법들이 대부분 적용"
   ]
  },
  {
   "cell_type": "code",
   "execution_count": 50,
   "id": "79a4a9af",
   "metadata": {},
   "outputs": [
    {
     "data": {
      "text/plain": [
       "['데분기', '데분중', '데분고', '파문기', '파문응', '개념반', 'sql반', '파문응', '개념반', 'sql반']"
      ]
     },
     "execution_count": 50,
     "metadata": {},
     "output_type": "execute_result"
    }
   ],
   "source": [
    "b=['데분기','데분중','데분고','파문기','파문응','개념반','sql반','파문응','개념반','sql반']\n",
    "b"
   ]
  },
  {
   "cell_type": "code",
   "execution_count": 52,
   "id": "c5268d00",
   "metadata": {},
   "outputs": [
    {
     "data": {
      "text/plain": [
       "{'sql반', '개념반', '데분고', '데분기', '데분중', '파문기', '파문응'}"
      ]
     },
     "execution_count": 52,
     "metadata": {},
     "output_type": "execute_result"
    }
   ],
   "source": [
    "a={'데분기','데분중','데분고','파문기','파문응','개념반','sql반','파문응','개념반','sql반'} #중복 제거\n",
    "a"
   ]
  },
  {
   "cell_type": "code",
   "execution_count": 53,
   "id": "64ddf0ef",
   "metadata": {},
   "outputs": [
    {
     "data": {
      "text/plain": [
       "{'sql반', '개념반', '데분고', '데분기', '데분중', '파문기', '파문응'}"
      ]
     },
     "execution_count": 53,
     "metadata": {},
     "output_type": "execute_result"
    }
   ],
   "source": [
    "set(b)"
   ]
  },
  {
   "cell_type": "code",
   "execution_count": 54,
   "id": "09245ae1",
   "metadata": {},
   "outputs": [
    {
     "data": {
      "text/plain": [
       "True"
      ]
     },
     "execution_count": 54,
     "metadata": {},
     "output_type": "execute_result"
    }
   ],
   "source": [
    "'파문응' in a"
   ]
  },
  {
   "cell_type": "code",
   "execution_count": 55,
   "id": "03f5d683",
   "metadata": {},
   "outputs": [
    {
     "data": {
      "text/plain": [
       "['apple']"
      ]
     },
     "execution_count": 55,
     "metadata": {},
     "output_type": "execute_result"
    }
   ],
   "source": [
    "['apple']"
   ]
  },
  {
   "cell_type": "code",
   "execution_count": 56,
   "id": "8e871283",
   "metadata": {},
   "outputs": [
    {
     "data": {
      "text/plain": [
       "{'a', 'e', 'l', 'p'}"
      ]
     },
     "execution_count": 56,
     "metadata": {},
     "output_type": "execute_result"
    }
   ],
   "source": [
    "set('apple')"
   ]
  },
  {
   "cell_type": "code",
   "execution_count": 57,
   "id": "59b119a9",
   "metadata": {},
   "outputs": [
    {
     "data": {
      "text/plain": [
       "list"
      ]
     },
     "execution_count": 57,
     "metadata": {},
     "output_type": "execute_result"
    }
   ],
   "source": [
    "type(b)"
   ]
  },
  {
   "cell_type": "code",
   "execution_count": 58,
   "id": "174a5914",
   "metadata": {},
   "outputs": [
    {
     "data": {
      "text/plain": [
       "set"
      ]
     },
     "execution_count": 58,
     "metadata": {},
     "output_type": "execute_result"
    }
   ],
   "source": [
    "type(a)"
   ]
  },
  {
   "cell_type": "markdown",
   "id": "8b6e10a7",
   "metadata": {},
   "source": [
    "## 집합 연산\n",
    "- 합집합, 교집합, 차집합, 여집합 다양한 집합들\n",
    "- set으로 표현할 수 있다.\n",
    "\n",
    "- set.union 합집합의 개념!\n",
    "- set.intersection 교집합"
   ]
  },
  {
   "cell_type": "code",
   "execution_count": 61,
   "id": "1bfd212e",
   "metadata": {},
   "outputs": [
    {
     "data": {
      "text/plain": [
       "({1, 2, 3}, {3, 4, 5})"
      ]
     },
     "execution_count": 61,
     "metadata": {},
     "output_type": "execute_result"
    }
   ],
   "source": [
    "a ={1,2,3}\n",
    "b= {3,4,5}\n",
    "a, b"
   ]
  },
  {
   "cell_type": "code",
   "execution_count": 62,
   "id": "90b41579",
   "metadata": {},
   "outputs": [
    {
     "data": {
      "text/plain": [
       "{1, 2, 3, 4, 5}"
      ]
     },
     "execution_count": 62,
     "metadata": {},
     "output_type": "execute_result"
    }
   ],
   "source": [
    "set.union(a,b)"
   ]
  },
  {
   "cell_type": "code",
   "execution_count": 63,
   "id": "1d996f28",
   "metadata": {},
   "outputs": [
    {
     "data": {
      "text/plain": [
       "{3}"
      ]
     },
     "execution_count": 63,
     "metadata": {},
     "output_type": "execute_result"
    }
   ],
   "source": [
    "set.intersection(a,b)"
   ]
  },
  {
   "cell_type": "code",
   "execution_count": 64,
   "id": "75a15bf4",
   "metadata": {},
   "outputs": [],
   "source": [
    "import pandas as pd"
   ]
  },
  {
   "cell_type": "code",
   "execution_count": 67,
   "id": "95289f75",
   "metadata": {},
   "outputs": [
    {
     "data": {
      "text/html": [
       "<div>\n",
       "<style scoped>\n",
       "    .dataframe tbody tr th:only-of-type {\n",
       "        vertical-align: middle;\n",
       "    }\n",
       "\n",
       "    .dataframe tbody tr th {\n",
       "        vertical-align: top;\n",
       "    }\n",
       "\n",
       "    .dataframe thead th {\n",
       "        text-align: right;\n",
       "    }\n",
       "</style>\n",
       "<table border=\"1\" class=\"dataframe\">\n",
       "  <thead>\n",
       "    <tr style=\"text-align: right;\">\n",
       "      <th></th>\n",
       "      <th>manufacturer</th>\n",
       "      <th>model</th>\n",
       "      <th>displ</th>\n",
       "      <th>year</th>\n",
       "      <th>cyl</th>\n",
       "      <th>trans</th>\n",
       "      <th>drv</th>\n",
       "      <th>cty</th>\n",
       "      <th>hwy</th>\n",
       "      <th>fl</th>\n",
       "      <th>category</th>\n",
       "    </tr>\n",
       "  </thead>\n",
       "  <tbody>\n",
       "    <tr>\n",
       "      <th>0</th>\n",
       "      <td>audi</td>\n",
       "      <td>a4</td>\n",
       "      <td>1.8</td>\n",
       "      <td>1999</td>\n",
       "      <td>4</td>\n",
       "      <td>auto(l5)</td>\n",
       "      <td>f</td>\n",
       "      <td>18</td>\n",
       "      <td>29</td>\n",
       "      <td>p</td>\n",
       "      <td>compact</td>\n",
       "    </tr>\n",
       "    <tr>\n",
       "      <th>1</th>\n",
       "      <td>audi</td>\n",
       "      <td>a4</td>\n",
       "      <td>1.8</td>\n",
       "      <td>1999</td>\n",
       "      <td>4</td>\n",
       "      <td>manual(m5)</td>\n",
       "      <td>f</td>\n",
       "      <td>21</td>\n",
       "      <td>29</td>\n",
       "      <td>p</td>\n",
       "      <td>compact</td>\n",
       "    </tr>\n",
       "    <tr>\n",
       "      <th>2</th>\n",
       "      <td>audi</td>\n",
       "      <td>a4</td>\n",
       "      <td>2.0</td>\n",
       "      <td>2008</td>\n",
       "      <td>4</td>\n",
       "      <td>manual(m6)</td>\n",
       "      <td>f</td>\n",
       "      <td>20</td>\n",
       "      <td>31</td>\n",
       "      <td>p</td>\n",
       "      <td>compact</td>\n",
       "    </tr>\n",
       "    <tr>\n",
       "      <th>3</th>\n",
       "      <td>audi</td>\n",
       "      <td>a4</td>\n",
       "      <td>2.0</td>\n",
       "      <td>2008</td>\n",
       "      <td>4</td>\n",
       "      <td>auto(av)</td>\n",
       "      <td>f</td>\n",
       "      <td>21</td>\n",
       "      <td>30</td>\n",
       "      <td>p</td>\n",
       "      <td>compact</td>\n",
       "    </tr>\n",
       "    <tr>\n",
       "      <th>4</th>\n",
       "      <td>audi</td>\n",
       "      <td>a4</td>\n",
       "      <td>2.8</td>\n",
       "      <td>1999</td>\n",
       "      <td>6</td>\n",
       "      <td>auto(l5)</td>\n",
       "      <td>f</td>\n",
       "      <td>16</td>\n",
       "      <td>26</td>\n",
       "      <td>p</td>\n",
       "      <td>compact</td>\n",
       "    </tr>\n",
       "    <tr>\n",
       "      <th>...</th>\n",
       "      <td>...</td>\n",
       "      <td>...</td>\n",
       "      <td>...</td>\n",
       "      <td>...</td>\n",
       "      <td>...</td>\n",
       "      <td>...</td>\n",
       "      <td>...</td>\n",
       "      <td>...</td>\n",
       "      <td>...</td>\n",
       "      <td>...</td>\n",
       "      <td>...</td>\n",
       "    </tr>\n",
       "    <tr>\n",
       "      <th>229</th>\n",
       "      <td>volkswagen</td>\n",
       "      <td>passat</td>\n",
       "      <td>2.0</td>\n",
       "      <td>2008</td>\n",
       "      <td>4</td>\n",
       "      <td>auto(s6)</td>\n",
       "      <td>f</td>\n",
       "      <td>19</td>\n",
       "      <td>28</td>\n",
       "      <td>p</td>\n",
       "      <td>midsize</td>\n",
       "    </tr>\n",
       "    <tr>\n",
       "      <th>230</th>\n",
       "      <td>volkswagen</td>\n",
       "      <td>passat</td>\n",
       "      <td>2.0</td>\n",
       "      <td>2008</td>\n",
       "      <td>4</td>\n",
       "      <td>manual(m6)</td>\n",
       "      <td>f</td>\n",
       "      <td>21</td>\n",
       "      <td>29</td>\n",
       "      <td>p</td>\n",
       "      <td>midsize</td>\n",
       "    </tr>\n",
       "    <tr>\n",
       "      <th>231</th>\n",
       "      <td>volkswagen</td>\n",
       "      <td>passat</td>\n",
       "      <td>2.8</td>\n",
       "      <td>1999</td>\n",
       "      <td>6</td>\n",
       "      <td>auto(l5)</td>\n",
       "      <td>f</td>\n",
       "      <td>16</td>\n",
       "      <td>26</td>\n",
       "      <td>p</td>\n",
       "      <td>midsize</td>\n",
       "    </tr>\n",
       "    <tr>\n",
       "      <th>232</th>\n",
       "      <td>volkswagen</td>\n",
       "      <td>passat</td>\n",
       "      <td>2.8</td>\n",
       "      <td>1999</td>\n",
       "      <td>6</td>\n",
       "      <td>manual(m5)</td>\n",
       "      <td>f</td>\n",
       "      <td>18</td>\n",
       "      <td>26</td>\n",
       "      <td>p</td>\n",
       "      <td>midsize</td>\n",
       "    </tr>\n",
       "    <tr>\n",
       "      <th>233</th>\n",
       "      <td>volkswagen</td>\n",
       "      <td>passat</td>\n",
       "      <td>3.6</td>\n",
       "      <td>2008</td>\n",
       "      <td>6</td>\n",
       "      <td>auto(s6)</td>\n",
       "      <td>f</td>\n",
       "      <td>17</td>\n",
       "      <td>26</td>\n",
       "      <td>p</td>\n",
       "      <td>midsize</td>\n",
       "    </tr>\n",
       "  </tbody>\n",
       "</table>\n",
       "<p>234 rows × 11 columns</p>\n",
       "</div>"
      ],
      "text/plain": [
       "    manufacturer   model  displ  year  cyl       trans drv  cty  hwy fl  \\\n",
       "0           audi      a4    1.8  1999    4    auto(l5)   f   18   29  p   \n",
       "1           audi      a4    1.8  1999    4  manual(m5)   f   21   29  p   \n",
       "2           audi      a4    2.0  2008    4  manual(m6)   f   20   31  p   \n",
       "3           audi      a4    2.0  2008    4    auto(av)   f   21   30  p   \n",
       "4           audi      a4    2.8  1999    6    auto(l5)   f   16   26  p   \n",
       "..           ...     ...    ...   ...  ...         ...  ..  ...  ... ..   \n",
       "229   volkswagen  passat    2.0  2008    4    auto(s6)   f   19   28  p   \n",
       "230   volkswagen  passat    2.0  2008    4  manual(m6)   f   21   29  p   \n",
       "231   volkswagen  passat    2.8  1999    6    auto(l5)   f   16   26  p   \n",
       "232   volkswagen  passat    2.8  1999    6  manual(m5)   f   18   26  p   \n",
       "233   volkswagen  passat    3.6  2008    6    auto(s6)   f   17   26  p   \n",
       "\n",
       "    category  \n",
       "0    compact  \n",
       "1    compact  \n",
       "2    compact  \n",
       "3    compact  \n",
       "4    compact  \n",
       "..       ...  \n",
       "229  midsize  \n",
       "230  midsize  \n",
       "231  midsize  \n",
       "232  midsize  \n",
       "233  midsize  \n",
       "\n",
       "[234 rows x 11 columns]"
      ]
     },
     "execution_count": 67,
     "metadata": {},
     "output_type": "execute_result"
    }
   ],
   "source": [
    "df = pd.read_csv('mpg.csv')\n",
    "df"
   ]
  },
  {
   "cell_type": "code",
   "execution_count": 68,
   "id": "1127dc97",
   "metadata": {},
   "outputs": [
    {
     "data": {
      "text/plain": [
       "0          a4\n",
       "1          a4\n",
       "2          a4\n",
       "3          a4\n",
       "4          a4\n",
       "        ...  \n",
       "229    passat\n",
       "230    passat\n",
       "231    passat\n",
       "232    passat\n",
       "233    passat\n",
       "Name: model, Length: 234, dtype: object"
      ]
     },
     "execution_count": 68,
     "metadata": {},
     "output_type": "execute_result"
    }
   ],
   "source": [
    "df['model']"
   ]
  },
  {
   "cell_type": "code",
   "execution_count": 69,
   "id": "0da0eb6b",
   "metadata": {},
   "outputs": [],
   "source": [
    "list_model= list(df['model'])"
   ]
  },
  {
   "cell_type": "code",
   "execution_count": 70,
   "id": "0fc5718a",
   "metadata": {},
   "outputs": [
    {
     "data": {
      "text/plain": [
       "234"
      ]
     },
     "execution_count": 70,
     "metadata": {},
     "output_type": "execute_result"
    }
   ],
   "source": [
    "len(list_model)"
   ]
  },
  {
   "cell_type": "code",
   "execution_count": 71,
   "id": "f408409e",
   "metadata": {},
   "outputs": [
    {
     "data": {
      "text/plain": [
       "38"
      ]
     },
     "execution_count": 71,
     "metadata": {},
     "output_type": "execute_result"
    }
   ],
   "source": [
    "len(set(list_model))"
   ]
  },
  {
   "cell_type": "code",
   "execution_count": 72,
   "id": "3bc533ff",
   "metadata": {},
   "outputs": [
    {
     "data": {
      "text/plain": [
       "{'4runner 4wd',\n",
       " 'a4',\n",
       " 'a4 quattro',\n",
       " 'a6 quattro',\n",
       " 'altima',\n",
       " 'c1500 suburban 2wd',\n",
       " 'camry',\n",
       " 'camry solara',\n",
       " 'caravan 2wd',\n",
       " 'civic',\n",
       " 'corolla',\n",
       " 'corvette',\n",
       " 'dakota pickup 4wd',\n",
       " 'durango 4wd',\n",
       " 'expedition 2wd',\n",
       " 'explorer 4wd',\n",
       " 'f150 pickup 4wd',\n",
       " 'forester awd',\n",
       " 'grand cherokee 4wd',\n",
       " 'grand prix',\n",
       " 'gti',\n",
       " 'impreza awd',\n",
       " 'jetta',\n",
       " 'k1500 tahoe 4wd',\n",
       " 'land cruiser wagon 4wd',\n",
       " 'malibu',\n",
       " 'maxima',\n",
       " 'mountaineer 4wd',\n",
       " 'mustang',\n",
       " 'navigator 2wd',\n",
       " 'new beetle',\n",
       " 'passat',\n",
       " 'pathfinder 4wd',\n",
       " 'ram 1500 pickup 4wd',\n",
       " 'range rover',\n",
       " 'sonata',\n",
       " 'tiburon',\n",
       " 'toyota tacoma 4wd'}"
      ]
     },
     "execution_count": 72,
     "metadata": {},
     "output_type": "execute_result"
    }
   ],
   "source": [
    "set(list_model)"
   ]
  },
  {
   "cell_type": "code",
   "execution_count": 73,
   "id": "918a4c2d",
   "metadata": {},
   "outputs": [
    {
     "data": {
      "text/plain": [
       "234"
      ]
     },
     "execution_count": 73,
     "metadata": {},
     "output_type": "execute_result"
    }
   ],
   "source": [
    "len(df['category'])"
   ]
  },
  {
   "cell_type": "code",
   "execution_count": 74,
   "id": "08a60316",
   "metadata": {},
   "outputs": [],
   "source": [
    "list_cate=list(df['category'])"
   ]
  },
  {
   "cell_type": "code",
   "execution_count": 75,
   "id": "44528c42",
   "metadata": {},
   "outputs": [
    {
     "data": {
      "text/plain": [
       "7"
      ]
     },
     "execution_count": 75,
     "metadata": {},
     "output_type": "execute_result"
    }
   ],
   "source": [
    "len(set(list_cate))"
   ]
  },
  {
   "cell_type": "code",
   "execution_count": null,
   "id": "dd9b3b53",
   "metadata": {},
   "outputs": [],
   "source": []
  }
 ],
 "metadata": {
  "kernelspec": {
   "display_name": "Python 3 (ipykernel)",
   "language": "python",
   "name": "python3"
  },
  "language_info": {
   "codemirror_mode": {
    "name": "ipython",
    "version": 3
   },
   "file_extension": ".py",
   "mimetype": "text/x-python",
   "name": "python",
   "nbconvert_exporter": "python",
   "pygments_lexer": "ipython3",
   "version": "3.11.4"
  }
 },
 "nbformat": 4,
 "nbformat_minor": 5
}
