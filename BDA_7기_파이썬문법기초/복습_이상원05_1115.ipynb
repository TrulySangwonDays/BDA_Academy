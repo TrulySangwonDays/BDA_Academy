{
 "cells": [
  {
   "cell_type": "markdown",
   "id": "e4bed581",
   "metadata": {},
   "source": [
    "# for 반복문\n",
    "range와 함께 응용 가능\n",
    "- 반복적인 단순한 업무를 자동으로 쉽게 처리할 수 있게 해줌\n",
    "---\n",
    "- 주로 range함수와 함께 사용\n",
    "- 얼마나 반복할 것인지에 대한 기준\n",
    "---\n",
    "- if와 동일하게 들여쓰기\n",
    "- for 변수 in range(횟수) :\n",
    "    - 반복할 코드"
   ]
  },
  {
   "cell_type": "code",
   "execution_count": 3,
   "id": "ff0f46d9",
   "metadata": {
    "scrolled": false
   },
   "outputs": [
    {
     "name": "stdout",
     "output_type": "stream",
     "text": [
      "0 배고파요.\n",
      "1 배고파요.\n",
      "2 배고파요.\n",
      "3 배고파요.\n",
      "4 배고파요.\n",
      "5 배고파요.\n",
      "6 배고파요.\n",
      "7 배고파요.\n",
      "8 배고파요.\n",
      "9 배고파요.\n",
      "10 배고파요.\n",
      "11 배고파요.\n",
      "12 배고파요.\n",
      "13 배고파요.\n",
      "14 배고파요.\n",
      "15 배고파요.\n",
      "16 배고파요.\n",
      "17 배고파요.\n",
      "18 배고파요.\n",
      "19 배고파요.\n",
      "20 배고파요.\n",
      "21 배고파요.\n",
      "22 배고파요.\n",
      "23 배고파요.\n",
      "24 배고파요.\n",
      "25 배고파요.\n",
      "26 배고파요.\n",
      "27 배고파요.\n",
      "28 배고파요.\n",
      "29 배고파요.\n",
      "30 배고파요.\n",
      "31 배고파요.\n",
      "32 배고파요.\n",
      "33 배고파요.\n",
      "34 배고파요.\n",
      "35 배고파요.\n",
      "36 배고파요.\n",
      "37 배고파요.\n",
      "38 배고파요.\n",
      "39 배고파요.\n",
      "40 배고파요.\n",
      "41 배고파요.\n",
      "42 배고파요.\n",
      "43 배고파요.\n",
      "44 배고파요.\n",
      "45 배고파요.\n",
      "46 배고파요.\n",
      "47 배고파요.\n",
      "48 배고파요.\n",
      "49 배고파요.\n"
     ]
    }
   ],
   "source": [
    "for i in range(50) :\n",
    "    print(f\"{i} 배고파요.\")"
   ]
  },
  {
   "cell_type": "code",
   "execution_count": 4,
   "id": "938ec009",
   "metadata": {},
   "outputs": [
    {
     "name": "stdout",
     "output_type": "stream",
     "text": [
      "답이 없다\n",
      "답이 없다\n",
      "답이 없다\n",
      "답이 없다\n",
      "답이 없다\n",
      "답이 없다\n",
      "답이 없다\n",
      "답이 없다\n",
      "답이 없다\n",
      "답이 없다\n"
     ]
    }
   ],
   "source": [
    "for k in range(10) :\n",
    "    print(\"답이 없다\")"
   ]
  },
  {
   "cell_type": "markdown",
   "id": "064c3398",
   "metadata": {},
   "source": [
    "- 위에서 쓴 i 또는 k 자리에는 아무 단어나 알파벳을 쓸 수 있다."
   ]
  },
  {
   "cell_type": "code",
   "execution_count": 7,
   "id": "aff53215",
   "metadata": {},
   "outputs": [
    {
     "name": "stdout",
     "output_type": "stream",
     "text": [
      "i의 값은? 0\n",
      "Hello World! 0\n",
      "-------------------- 0\n",
      "i의 값은? 1\n",
      "Hello World! 1\n",
      "-------------------- 1\n",
      "i의 값은? 2\n",
      "Hello World! 2\n",
      "-------------------- 2\n",
      "i의 값은? 3\n",
      "Hello World! 3\n",
      "-------------------- 3\n",
      "i의 값은? 4\n",
      "Hello World! 4\n",
      "-------------------- 4\n"
     ]
    }
   ],
   "source": [
    "for car in range(5) :\n",
    "    print(\"i의 값은?\", car)\n",
    "    print(\"Hello World!\", car)\n",
    "    print(\"--------------------\", car)"
   ]
  },
  {
   "cell_type": "markdown",
   "id": "7e3525a6",
   "metadata": {},
   "source": [
    "- i 루프인덱스는 인덱스와 연결되어서 다양한 데이터를 값을 출력할 수 있고 접근할 수 있게 연결해줌"
   ]
  },
  {
   "cell_type": "code",
   "execution_count": 8,
   "id": "a9f24ceb",
   "metadata": {},
   "outputs": [
    {
     "data": {
      "text/plain": [
       "['채원', '카즈하', '사쿠라', '윈터', '민지']"
      ]
     },
     "execution_count": 8,
     "metadata": {},
     "output_type": "execute_result"
    }
   ],
   "source": [
    "a = ['채원', '카즈하', '사쿠라', '윈터', '민지']\n",
    "a"
   ]
  },
  {
   "cell_type": "code",
   "execution_count": 9,
   "id": "44f71006",
   "metadata": {},
   "outputs": [
    {
     "data": {
      "text/plain": [
       "('채원', '카즈하', '사쿠라', '윈터', '민지')"
      ]
     },
     "execution_count": 9,
     "metadata": {},
     "output_type": "execute_result"
    }
   ],
   "source": [
    "a[0], a[1], a[2], a[3], a[4]"
   ]
  },
  {
   "cell_type": "code",
   "execution_count": 10,
   "id": "20bb4691",
   "metadata": {},
   "outputs": [
    {
     "name": "stdout",
     "output_type": "stream",
     "text": [
      "채원\n",
      "카즈하\n",
      "사쿠라\n",
      "윈터\n",
      "민지\n"
     ]
    }
   ],
   "source": [
    "for r in a :\n",
    "    print(r)"
   ]
  },
  {
   "cell_type": "code",
   "execution_count": 18,
   "id": "796964b2",
   "metadata": {},
   "outputs": [
    {
     "name": "stdout",
     "output_type": "stream",
     "text": [
      "채원\n",
      "카즈하\n",
      "사쿠라\n",
      "윈터\n",
      "민지\n"
     ]
    }
   ],
   "source": [
    "for i in range(len(a)) :\n",
    "    print(a[i])"
   ]
  },
  {
   "cell_type": "code",
   "execution_count": 17,
   "id": "4f50dac1",
   "metadata": {},
   "outputs": [
    {
     "name": "stdout",
     "output_type": "stream",
     "text": [
      "B u s i n e s s  \n",
      "s s e n i s u B "
     ]
    }
   ],
   "source": [
    "for i in \"Business\" :\n",
    "    print(i, end=\" \")\n",
    "\n",
    "print(' ')\n",
    "\n",
    "for m in reversed(\"Business\") :\n",
    "    print(m, end=\" \")"
   ]
  },
  {
   "cell_type": "markdown",
   "id": "ee24fe6f",
   "metadata": {},
   "source": [
    "### 구구단 2단부터 9단까지 만들어보기"
   ]
  },
  {
   "cell_type": "code",
   "execution_count": 19,
   "id": "f728a799",
   "metadata": {},
   "outputs": [
    {
     "name": "stdout",
     "output_type": "stream",
     "text": [
      "2단\n",
      "2 * 1 = 2\n",
      "2 * 2 = 4\n",
      "2 * 3 = 6\n",
      "2 * 4 = 8\n",
      "2 * 5 = 10\n",
      "2 * 6 = 12\n",
      "2 * 7 = 14\n",
      "2 * 8 = 16\n",
      "2 * 9 = 18\n",
      "-----------\n",
      "3단\n",
      "3 * 1 = 3\n",
      "3 * 2 = 6\n",
      "3 * 3 = 9\n",
      "3 * 4 = 12\n",
      "3 * 5 = 15\n",
      "3 * 6 = 18\n",
      "3 * 7 = 21\n",
      "3 * 8 = 24\n",
      "3 * 9 = 27\n",
      "-----------\n",
      "4단\n",
      "4 * 1 = 4\n",
      "4 * 2 = 8\n",
      "4 * 3 = 12\n",
      "4 * 4 = 16\n",
      "4 * 5 = 20\n",
      "4 * 6 = 24\n",
      "4 * 7 = 28\n",
      "4 * 8 = 32\n",
      "4 * 9 = 36\n",
      "-----------\n",
      "5단\n",
      "5 * 1 = 5\n",
      "5 * 2 = 10\n",
      "5 * 3 = 15\n",
      "5 * 4 = 20\n",
      "5 * 5 = 25\n",
      "5 * 6 = 30\n",
      "5 * 7 = 35\n",
      "5 * 8 = 40\n",
      "5 * 9 = 45\n",
      "-----------\n",
      "6단\n",
      "6 * 1 = 6\n",
      "6 * 2 = 12\n",
      "6 * 3 = 18\n",
      "6 * 4 = 24\n",
      "6 * 5 = 30\n",
      "6 * 6 = 36\n",
      "6 * 7 = 42\n",
      "6 * 8 = 48\n",
      "6 * 9 = 54\n",
      "-----------\n",
      "7단\n",
      "7 * 1 = 7\n",
      "7 * 2 = 14\n",
      "7 * 3 = 21\n",
      "7 * 4 = 28\n",
      "7 * 5 = 35\n",
      "7 * 6 = 42\n",
      "7 * 7 = 49\n",
      "7 * 8 = 56\n",
      "7 * 9 = 63\n",
      "-----------\n",
      "8단\n",
      "8 * 1 = 8\n",
      "8 * 2 = 16\n",
      "8 * 3 = 24\n",
      "8 * 4 = 32\n",
      "8 * 5 = 40\n",
      "8 * 6 = 48\n",
      "8 * 7 = 56\n",
      "8 * 8 = 64\n",
      "8 * 9 = 72\n",
      "-----------\n",
      "9단\n",
      "9 * 1 = 9\n",
      "9 * 2 = 18\n",
      "9 * 3 = 27\n",
      "9 * 4 = 36\n",
      "9 * 5 = 45\n",
      "9 * 6 = 54\n",
      "9 * 7 = 63\n",
      "9 * 8 = 72\n",
      "9 * 9 = 81\n",
      "-----------\n"
     ]
    }
   ],
   "source": [
    "# 구구단 2단~9단까지 자동으로 출력하기\n",
    "for k in range(2, 10) :\n",
    "    print(f'{k}단')\n",
    "    for i in range(1, 10) :\n",
    "        print(f\"{k} * {i} =\", k * i)\n",
    "    print(\"-----------\")"
   ]
  },
  {
   "cell_type": "markdown",
   "id": "ec89281e",
   "metadata": {},
   "source": [
    "---\n",
    "### if함수 추가해서 for반복문 만들기"
   ]
  },
  {
   "cell_type": "code",
   "execution_count": 21,
   "id": "e4772acd",
   "metadata": {},
   "outputs": [
    {
     "name": "stdout",
     "output_type": "stream",
     "text": [
      "0\n",
      "4\n",
      "8\n",
      "12\n",
      "16\n",
      "20\n",
      "24\n",
      "28\n",
      "32\n",
      "36\n",
      "40\n",
      "44\n",
      "48\n"
     ]
    }
   ],
   "source": [
    "for i in range(50) :\n",
    "    if i % 4 == 0 :\n",
    "        print(i)"
   ]
  },
  {
   "cell_type": "markdown",
   "id": "b11c0798",
   "metadata": {},
   "source": [
    "---\n",
    "### 심화"
   ]
  },
  {
   "cell_type": "code",
   "execution_count": 22,
   "id": "67ac7a6a",
   "metadata": {},
   "outputs": [],
   "source": [
    "import pandas as pd"
   ]
  },
  {
   "cell_type": "code",
   "execution_count": 23,
   "id": "1a07a369",
   "metadata": {},
   "outputs": [],
   "source": [
    "data = pd.DataFrame( {'id' : [20, 19, 18, 17, 16],\n",
    "                  '이름' : ['이상원','홍길동','안유진','김채원','사쿠라'],\n",
    "                  '성별' : [0, 0, 1, 1, 1] } )"
   ]
  },
  {
   "cell_type": "code",
   "execution_count": 24,
   "id": "2cfba4c7",
   "metadata": {},
   "outputs": [
    {
     "data": {
      "text/html": [
       "<div>\n",
       "<style scoped>\n",
       "    .dataframe tbody tr th:only-of-type {\n",
       "        vertical-align: middle;\n",
       "    }\n",
       "\n",
       "    .dataframe tbody tr th {\n",
       "        vertical-align: top;\n",
       "    }\n",
       "\n",
       "    .dataframe thead th {\n",
       "        text-align: right;\n",
       "    }\n",
       "</style>\n",
       "<table border=\"1\" class=\"dataframe\">\n",
       "  <thead>\n",
       "    <tr style=\"text-align: right;\">\n",
       "      <th></th>\n",
       "      <th>id</th>\n",
       "      <th>이름</th>\n",
       "      <th>성별</th>\n",
       "    </tr>\n",
       "  </thead>\n",
       "  <tbody>\n",
       "    <tr>\n",
       "      <th>0</th>\n",
       "      <td>20</td>\n",
       "      <td>이상원</td>\n",
       "      <td>0</td>\n",
       "    </tr>\n",
       "    <tr>\n",
       "      <th>1</th>\n",
       "      <td>19</td>\n",
       "      <td>홍길동</td>\n",
       "      <td>0</td>\n",
       "    </tr>\n",
       "    <tr>\n",
       "      <th>2</th>\n",
       "      <td>18</td>\n",
       "      <td>안유진</td>\n",
       "      <td>1</td>\n",
       "    </tr>\n",
       "    <tr>\n",
       "      <th>3</th>\n",
       "      <td>17</td>\n",
       "      <td>김채원</td>\n",
       "      <td>1</td>\n",
       "    </tr>\n",
       "    <tr>\n",
       "      <th>4</th>\n",
       "      <td>16</td>\n",
       "      <td>사쿠라</td>\n",
       "      <td>1</td>\n",
       "    </tr>\n",
       "  </tbody>\n",
       "</table>\n",
       "</div>"
      ],
      "text/plain": [
       "   id   이름  성별\n",
       "0  20  이상원   0\n",
       "1  19  홍길동   0\n",
       "2  18  안유진   1\n",
       "3  17  김채원   1\n",
       "4  16  사쿠라   1"
      ]
     },
     "execution_count": 24,
     "metadata": {},
     "output_type": "execute_result"
    }
   ],
   "source": [
    "data"
   ]
  },
  {
   "cell_type": "code",
   "execution_count": 25,
   "id": "c2f525a9",
   "metadata": {},
   "outputs": [
    {
     "data": {
      "text/plain": [
       "5"
      ]
     },
     "execution_count": 25,
     "metadata": {},
     "output_type": "execute_result"
    }
   ],
   "source": [
    "len(data)"
   ]
  },
  {
   "cell_type": "code",
   "execution_count": 26,
   "id": "10fca2c0",
   "metadata": {},
   "outputs": [
    {
     "name": "stdout",
     "output_type": "stream",
     "text": [
      "20 이상원 0\n",
      "19 홍길동 0\n",
      "18 안유진 1\n",
      "17 김채원 1\n",
      "16 사쿠라 1\n"
     ]
    }
   ],
   "source": [
    "for i in range(len(data)) :\n",
    "    print(data.id[i], end=\" \"), print(data.이름[i], end=\" \"), print(data.성별[i])"
   ]
  },
  {
   "cell_type": "code",
   "execution_count": 28,
   "id": "433a6493",
   "metadata": {},
   "outputs": [
    {
     "name": "stdout",
     "output_type": "stream",
     "text": [
      "0 이상원\n",
      "1 홍길동\n",
      "2 안유진\n",
      "3 김채원\n",
      "4 사쿠라\n",
      " \n",
      "0 0\n",
      "1 0\n",
      "2 1\n",
      "3 1\n",
      "4 1\n"
     ]
    }
   ],
   "source": [
    "for i, k in enumerate(data.이름) :\n",
    "    print(i, k)\n",
    "\n",
    "print(\" \")\n",
    "\n",
    "for i, k in enumerate(data.성별) :\n",
    "    print(i, k)"
   ]
  },
  {
   "cell_type": "markdown",
   "id": "8d98f68f",
   "metadata": {},
   "source": [
    "#### enumerate함수 -> 인덱스와 리스트의 값을 출력해주는 함수\n",
    "#### i, k의 용어 선택은 중요하지 않음. 첫째 것이 인덱스, 둘째 것이 요소\n",
    "---"
   ]
  }
 ],
 "metadata": {
  "kernelspec": {
   "display_name": "Python 3 (ipykernel)",
   "language": "python",
   "name": "python3"
  },
  "language_info": {
   "codemirror_mode": {
    "name": "ipython",
    "version": 3
   },
   "file_extension": ".py",
   "mimetype": "text/x-python",
   "name": "python",
   "nbconvert_exporter": "python",
   "pygments_lexer": "ipython3",
   "version": "3.11.4"
  }
 },
 "nbformat": 4,
 "nbformat_minor": 5
}
