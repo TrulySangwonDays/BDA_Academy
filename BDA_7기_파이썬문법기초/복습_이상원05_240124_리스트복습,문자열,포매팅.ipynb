{
 "cells": [
  {
   "cell_type": "markdown",
   "id": "ff1d3e6d",
   "metadata": {},
   "source": [
    "# 2차원 리스트 복습\n",
    "\n",
    "- append 함수 : 리스트에 값을 추가하는 경우 사용\n",
    "- 리스트안에 값을 넣어서 하나의 2차원 리스트를 만들어 보기"
   ]
  },
  {
   "cell_type": "code",
   "execution_count": 2,
   "id": "ea139f5b",
   "metadata": {},
   "outputs": [
    {
     "data": {
      "text/plain": [
       "([[1, 2], [3, 4]], [1, 2, 3, 4])"
      ]
     },
     "execution_count": 2,
     "metadata": {},
     "output_type": "execute_result"
    }
   ],
   "source": [
    "# 2차원 리스트\n",
    "a=[[1,2],[3,4]]\n",
    "\n",
    "# 1차원 리스트\n",
    "b =[1,2,3,4]\n",
    "\n",
    "a, b"
   ]
  },
  {
   "cell_type": "code",
   "execution_count": 5,
   "id": "c72a9c3d",
   "metadata": {},
   "outputs": [
    {
     "name": "stdout",
     "output_type": "stream",
     "text": [
      "1\n",
      "2\n",
      "3\n",
      "4\n"
     ]
    }
   ],
   "source": [
    "#중첩루프를 이용해서 2차원 리스트 풀기\n",
    "for i in a:\n",
    "    for j in i:\n",
    "        print(j)"
   ]
  },
  {
   "cell_type": "markdown",
   "id": "073253fb",
   "metadata": {},
   "source": [
    "#### 반대로 2차원 리스트를 만들려면 2번 반복문을 이용해서 감싸줘야 함"
   ]
  },
  {
   "cell_type": "code",
   "execution_count": 7,
   "id": "de7f33f4",
   "metadata": {},
   "outputs": [],
   "source": [
    "a =[]\n",
    "\n",
    "for i in range(10):\n",
    "    a.append(i)"
   ]
  },
  {
   "cell_type": "code",
   "execution_count": 8,
   "id": "097f8181",
   "metadata": {},
   "outputs": [
    {
     "name": "stdout",
     "output_type": "stream",
     "text": [
      "[0, 1, 2, 3, 4, 5, 6, 7, 8, 9]\n"
     ]
    }
   ],
   "source": [
    "print(a)"
   ]
  },
  {
   "cell_type": "code",
   "execution_count": 9,
   "id": "0a8f5d87",
   "metadata": {},
   "outputs": [
    {
     "data": {
      "text/plain": [
       "[0, 1, 2, 3, 4, 5, 6, 7, 8, 9]"
      ]
     },
     "execution_count": 9,
     "metadata": {},
     "output_type": "execute_result"
    }
   ],
   "source": [
    "[i for i in range(10)]"
   ]
  },
  {
   "cell_type": "code",
   "execution_count": 10,
   "id": "911605f7",
   "metadata": {},
   "outputs": [
    {
     "name": "stdout",
     "output_type": "stream",
     "text": [
      "0\n",
      "1\n",
      "[0, 1]\n",
      "0\n",
      "1\n",
      "[0, 1]\n",
      "[[0, 1], [0, 1]]\n"
     ]
    }
   ],
   "source": [
    "# 2차원 리스트를 만드는 것\n",
    "\n",
    "a =[] #빈 리스트 (2차원에서 가장 바깥쪽 )\n",
    "for i in range(2):\n",
    "    in_list= [] #2차원 리스트의 가장 안쪽 1차원 리스트\n",
    "    for j in range(2): # 해당 1차원 리스트 값을 만드는 것\n",
    "        in_list.append(j) # 1차원 리스트 안에 append\n",
    "        print(j) #1차원 리스트에 담은 값이 나오고\n",
    "    print(in_list) # 1차원 리스트 값이 나온다\n",
    "    a.append(in_list) # 1차원 리스트를 2차원으로 만들기 위해 맨 처음 만든 a라는 리스트에 다시 넣으면\n",
    "print(a) # 2차원으로 [[0,1],[0,1]]"
   ]
  },
  {
   "cell_type": "code",
   "execution_count": 11,
   "id": "16be948e",
   "metadata": {},
   "outputs": [
    {
     "data": {
      "text/plain": [
       "[[0, 1], [0, 1]]"
      ]
     },
     "execution_count": 11,
     "metadata": {},
     "output_type": "execute_result"
    }
   ],
   "source": [
    "# 2차원리스트 리스트표현식으로 만들기\n",
    "[[j for j in range(2)] for i in range(2)]"
   ]
  },
  {
   "cell_type": "markdown",
   "id": "91f2d4f5",
   "metadata": {},
   "source": [
    "# 문자열 응용하기!\n",
    "- 데이터 분석에서도 정말 많이 사용\n",
    "- 실제 python 기초 문법을 정말 많이 응용해서 전처리 작업을 진행한다.\n",
    "- 문자열 문법에 대해 잘 알아두면 나중에 도움이 될 수 있다.\n",
    "\n",
    "- 문자열, 다루는 문법들이 여러 개 있고 이 문법을 다 외우진 말고 이런 식으로 작동원리를 알고 문법이 있다는 것을 알면\n",
    "- 나중에 어떤 요구사항이 있을 때 사용할 수 있는 아이디어라도 떠오르면 된다!"
   ]
  },
  {
   "cell_type": "code",
   "execution_count": 12,
   "id": "2f4be517",
   "metadata": {},
   "outputs": [],
   "source": [
    "a = '아, 힘들다힘들어'"
   ]
  },
  {
   "cell_type": "code",
   "execution_count": 13,
   "id": "bc2bae7d",
   "metadata": {},
   "outputs": [
    {
     "data": {
      "text/plain": [
       "'힘'"
      ]
     },
     "execution_count": 13,
     "metadata": {},
     "output_type": "execute_result"
    }
   ],
   "source": [
    "a[3]"
   ]
  },
  {
   "cell_type": "code",
   "execution_count": 14,
   "id": "e0a4ddd2",
   "metadata": {},
   "outputs": [
    {
     "data": {
      "text/plain": [
       "'아, 행복해'"
      ]
     },
     "execution_count": 14,
     "metadata": {},
     "output_type": "execute_result"
    }
   ],
   "source": [
    "a.replace('힘들다힘들어','행복해')"
   ]
  },
  {
   "cell_type": "code",
   "execution_count": 15,
   "id": "7c177f50",
   "metadata": {},
   "outputs": [
    {
     "data": {
      "text/plain": [
       "['Hello', ' Python!']"
      ]
     },
     "execution_count": 15,
     "metadata": {},
     "output_type": "execute_result"
    }
   ],
   "source": [
    "'Hello, Python!'.split(',')"
   ]
  },
  {
   "cell_type": "code",
   "execution_count": 16,
   "id": "cadb1afb",
   "metadata": {},
   "outputs": [],
   "source": [
    "df='안녕 과제싫어! 과제좋아! 과제하자 과제필수 과제먼저'.split() # 기본 디폴트는 띄어쓰기 되어 있는 값을 기준으로 나눠서 리스트에 반환"
   ]
  },
  {
   "cell_type": "code",
   "execution_count": 17,
   "id": "184e7ccb",
   "metadata": {},
   "outputs": [
    {
     "name": "stdout",
     "output_type": "stream",
     "text": [
      "안녕\n",
      "과제싫어!\n",
      "과제좋아!\n",
      "과제하자\n",
      "과제필수\n",
      "과제먼저\n"
     ]
    }
   ],
   "source": [
    "for i in df:\n",
    "    print(i)"
   ]
  },
  {
   "cell_type": "code",
   "execution_count": 18,
   "id": "a3ce7c42",
   "metadata": {},
   "outputs": [],
   "source": [
    "df2='안녕,과제싫어!,과제좋아!,과제하자,과제필수,과제먼저'.split(',') # 기본 디폴트는 띄어쓰기 되어 있는 값을 기준으로 나눠서 리스트에 반환"
   ]
  },
  {
   "cell_type": "code",
   "execution_count": 19,
   "id": "10a29fc9",
   "metadata": {},
   "outputs": [
    {
     "data": {
      "text/plain": [
       "['안녕', '과제싫어!', '과제좋아!', '과제하자', '과제필수', '과제먼저']"
      ]
     },
     "execution_count": 19,
     "metadata": {},
     "output_type": "execute_result"
    }
   ],
   "source": [
    "df2"
   ]
  },
  {
   "cell_type": "markdown",
   "id": "a2f5aaf5",
   "metadata": {},
   "source": [
    "- 해당 문자열을 다시 붙이고 싶다!\n",
    "- join(리스트) 문자열을 다시 붙인다!\n",
    "- ''.join(리스트) 조인 앞의 구분자를 넣을 수 있다."
   ]
  },
  {
   "cell_type": "code",
   "execution_count": 21,
   "id": "9c39c06a",
   "metadata": {},
   "outputs": [
    {
     "data": {
      "text/plain": [
       "'안녕, 과제싫어!, 과제좋아!, 과제하자, 과제필수, 과제먼저'"
      ]
     },
     "execution_count": 21,
     "metadata": {},
     "output_type": "execute_result"
    }
   ],
   "source": [
    "df_3=''.join(['안녕, 과제싫어!, 과제좋아!, 과제하자, 과제필수, 과제먼저'])\n",
    "df_3"
   ]
  },
  {
   "cell_type": "code",
   "execution_count": 22,
   "id": "03ea1fc1",
   "metadata": {},
   "outputs": [
    {
     "data": {
      "text/plain": [
       "'안녕과제싫어!과제좋아!과제하자과제필수과제먼저'"
      ]
     },
     "execution_count": 22,
     "metadata": {},
     "output_type": "execute_result"
    }
   ],
   "source": [
    "''.join(['안녕', '과제싫어!', '과제좋아!', '과제하자', '과제필수', '과제먼저'])"
   ]
  },
  {
   "cell_type": "markdown",
   "id": "7138812f",
   "metadata": {},
   "source": [
    "---\n",
    "- 대소문자 관련 문법\n",
    "- upper() 대문자\n",
    "- lower() 소문자"
   ]
  },
  {
   "cell_type": "code",
   "execution_count": 27,
   "id": "23b1b1a7",
   "metadata": {},
   "outputs": [
    {
     "data": {
      "text/plain": [
       "'HELLO'"
      ]
     },
     "execution_count": 27,
     "metadata": {},
     "output_type": "execute_result"
    }
   ],
   "source": [
    "'hello'.upper() # 다 대문자로"
   ]
  },
  {
   "cell_type": "code",
   "execution_count": 26,
   "id": "ff2f1120",
   "metadata": {},
   "outputs": [
    {
     "data": {
      "text/plain": [
       "'hello'"
      ]
     },
     "execution_count": 26,
     "metadata": {},
     "output_type": "execute_result"
    }
   ],
   "source": [
    "'HELLO'.lower()#다 소문자로"
   ]
  },
  {
   "cell_type": "code",
   "execution_count": 25,
   "id": "ce4208fd",
   "metadata": {},
   "outputs": [
    {
     "data": {
      "text/plain": [
       "'Hello'"
      ]
     },
     "execution_count": 25,
     "metadata": {},
     "output_type": "execute_result"
    }
   ],
   "source": [
    "'hello'.capitalize() #앞 문자만 대문자로"
   ]
  },
  {
   "cell_type": "markdown",
   "id": "bf31f9b4",
   "metadata": {},
   "source": [
    "---\n",
    "- 공백제거\n",
    "- strip(구분자 넣기 가능)\n",
    "- lstrip() 왼쪽 공백, rstrip() 오른쪽 공백 제거"
   ]
  },
  {
   "cell_type": "code",
   "execution_count": 28,
   "id": "96964771",
   "metadata": {},
   "outputs": [
    {
     "data": {
      "text/plain": [
       "'hello'"
      ]
     },
     "execution_count": 28,
     "metadata": {},
     "output_type": "execute_result"
    }
   ],
   "source": [
    "'hello          '.rstrip()"
   ]
  },
  {
   "cell_type": "code",
   "execution_count": 29,
   "id": "1b9e4666",
   "metadata": {},
   "outputs": [
    {
     "data": {
      "text/plain": [
       "'hello'"
      ]
     },
     "execution_count": 29,
     "metadata": {},
     "output_type": "execute_result"
    }
   ],
   "source": [
    "'   hello          '.strip() #양쪽 공백 제거"
   ]
  },
  {
   "cell_type": "code",
   "execution_count": 30,
   "id": "da040ad3",
   "metadata": {},
   "outputs": [
    {
     "data": {
      "text/plain": [
       "'hello'"
      ]
     },
     "execution_count": 30,
     "metadata": {},
     "output_type": "execute_result"
    }
   ],
   "source": [
    "'hello.......!!!'.strip('.!')"
   ]
  },
  {
   "cell_type": "code",
   "execution_count": 31,
   "id": "f385ee65",
   "metadata": {},
   "outputs": [
    {
     "data": {
      "text/plain": [
       "'HELLO'"
      ]
     },
     "execution_count": 31,
     "metadata": {},
     "output_type": "execute_result"
    }
   ],
   "source": [
    "'hello'.center(15).strip().upper()#.capitalize() #.을 찍으면서 문법이 적용되는 것"
   ]
  },
  {
   "cell_type": "code",
   "execution_count": 32,
   "id": "7e848276",
   "metadata": {},
   "outputs": [
    {
     "data": {
      "text/plain": [
       "'Hello'"
      ]
     },
     "execution_count": 32,
     "metadata": {},
     "output_type": "execute_result"
    }
   ],
   "source": [
    "'hello'.center(15).strip().upper().capitalize()"
   ]
  },
  {
   "cell_type": "markdown",
   "id": "9ce9b232",
   "metadata": {},
   "source": [
    "---\n",
    "- 문자열 위치 찾기!\n",
    "- find('찾을 문자열') 인덱스를 반환한다!\n",
    "- rfind() 오른쪽부터 찾기!"
   ]
  },
  {
   "cell_type": "code",
   "execution_count": 33,
   "id": "8cec01fa",
   "metadata": {},
   "outputs": [
    {
     "data": {
      "text/plain": [
       "4"
      ]
     },
     "execution_count": 33,
     "metadata": {},
     "output_type": "execute_result"
    }
   ],
   "source": [
    "'hello'.find('o') # 인덱스 반환"
   ]
  },
  {
   "cell_type": "code",
   "execution_count": 34,
   "id": "9c872989",
   "metadata": {},
   "outputs": [
    {
     "data": {
      "text/plain": [
       "0"
      ]
     },
     "execution_count": 34,
     "metadata": {},
     "output_type": "execute_result"
    }
   ],
   "source": [
    "'hello'.find('h') #0 번째 인덱스"
   ]
  },
  {
   "cell_type": "code",
   "execution_count": 35,
   "id": "d029a54d",
   "metadata": {},
   "outputs": [
    {
     "data": {
      "text/plain": [
       "2"
      ]
     },
     "execution_count": 35,
     "metadata": {},
     "output_type": "execute_result"
    }
   ],
   "source": [
    "'hello'.find('l') #가장 먼저 있는 l만 인덱스 출력"
   ]
  },
  {
   "cell_type": "markdown",
   "id": "9b264aa3",
   "metadata": {},
   "source": [
    "- 문자열 개수 세기 ( 특정 문자열이 몇 번 나오는지 !)\n",
    "- count('문자열')"
   ]
  },
  {
   "cell_type": "code",
   "execution_count": 36,
   "id": "a77f185e",
   "metadata": {},
   "outputs": [
    {
     "data": {
      "text/plain": [
       "1"
      ]
     },
     "execution_count": 36,
     "metadata": {},
     "output_type": "execute_result"
    }
   ],
   "source": [
    "'hello'.count('h') #h는 1개니깐!"
   ]
  },
  {
   "cell_type": "code",
   "execution_count": 37,
   "id": "2e93fc0b",
   "metadata": {},
   "outputs": [
    {
     "data": {
      "text/plain": [
       "2"
      ]
     },
     "execution_count": 37,
     "metadata": {},
     "output_type": "execute_result"
    }
   ],
   "source": [
    "'hello'.count('l') # l은 2개 있으니"
   ]
  },
  {
   "cell_type": "markdown",
   "id": "b0ec87b1",
   "metadata": {},
   "source": [
    "## 문자열 서식 지정자, 포매팅\n",
    "\n",
    "- 반복되는 문자열의 값이 있는 경우 대체해서 사용한다.\n",
    "\n",
    "- 영희의 수학 점수는 80점 입니다.\n",
    "- 철수의 수학 점수는 70점 입니다.\n",
    "\n",
    "----\n",
    "- 패턴은 oo의 수학 점수는 oo점 입니다.\n",
    "- 문자열 서식지정자와 포매팅을 이용한다!"
   ]
  },
  {
   "cell_type": "code",
   "execution_count": 42,
   "id": "52bc922e",
   "metadata": {},
   "outputs": [
    {
     "data": {
      "text/plain": [
       "'철수의 점수는 80점 입니다.'"
      ]
     },
     "execution_count": 42,
     "metadata": {},
     "output_type": "execute_result"
    }
   ],
   "source": [
    "'%s의 점수는 80점 입니다.' %'철수'"
   ]
  },
  {
   "cell_type": "code",
   "execution_count": 41,
   "id": "0e4be589",
   "metadata": {},
   "outputs": [
    {
     "data": {
      "text/plain": [
       "'영희의 점수는 80점 입니다.'"
      ]
     },
     "execution_count": 41,
     "metadata": {},
     "output_type": "execute_result"
    }
   ],
   "source": [
    "'%s의 점수는 80점 입니다.' %'영희'"
   ]
  },
  {
   "cell_type": "code",
   "execution_count": 43,
   "id": "0497f351",
   "metadata": {},
   "outputs": [
    {
     "data": {
      "text/plain": [
       "'영희의 점수는 80.500000점 입니다.'"
      ]
     },
     "execution_count": 43,
     "metadata": {},
     "output_type": "execute_result"
    }
   ],
   "source": [
    "'영희의 점수는 %f점 입니다.' % 80.5"
   ]
  },
  {
   "cell_type": "code",
   "execution_count": 44,
   "id": "699243eb",
   "metadata": {},
   "outputs": [
    {
     "data": {
      "text/plain": [
       "'영희의 점수는 80.154점 입니다.'"
      ]
     },
     "execution_count": 44,
     "metadata": {},
     "output_type": "execute_result"
    }
   ],
   "source": [
    "'영희의 점수는 %.3f점 입니다.' % 80.15423574"
   ]
  },
  {
   "cell_type": "code",
   "execution_count": 45,
   "id": "c5a3c73d",
   "metadata": {},
   "outputs": [
    {
     "data": {
      "text/plain": [
       "'영희의 점수는 80점 입니다.'"
      ]
     },
     "execution_count": 45,
     "metadata": {},
     "output_type": "execute_result"
    }
   ],
   "source": [
    "'%s의 점수는 %d점 입니다.' % ('영희',80)"
   ]
  },
  {
   "cell_type": "code",
   "execution_count": 46,
   "id": "79141015",
   "metadata": {},
   "outputs": [
    {
     "ename": "TypeError",
     "evalue": "%d format: a real number is required, not str",
     "output_type": "error",
     "traceback": [
      "\u001b[1;31m---------------------------------------------------------------------------\u001b[0m",
      "\u001b[1;31mTypeError\u001b[0m                                 Traceback (most recent call last)",
      "Cell \u001b[1;32mIn[46], line 1\u001b[0m\n\u001b[1;32m----> 1\u001b[0m \u001b[38;5;124m'\u001b[39m\u001b[38;5;132;01m%s\u001b[39;00m\u001b[38;5;124m의 점수는 \u001b[39m\u001b[38;5;132;01m%d\u001b[39;00m\u001b[38;5;124m점 입니다.\u001b[39m\u001b[38;5;124m'\u001b[39m \u001b[38;5;241m%\u001b[39m (\u001b[38;5;241m80\u001b[39m,\u001b[38;5;124m'\u001b[39m\u001b[38;5;124m영희\u001b[39m\u001b[38;5;124m'\u001b[39m)\n",
      "\u001b[1;31mTypeError\u001b[0m: %d format: a real number is required, not str"
     ]
    }
   ],
   "source": [
    "'%s의 점수는 %d점 입니다.' % (80,'영희')"
   ]
  },
  {
   "cell_type": "markdown",
   "id": "621a2e9e",
   "metadata": {},
   "source": [
    "## 포매팅\n",
    "- 서식지정자보다 더 간단하게 문자열 포매팅으로 우리가 원하는 문자를 대체할 수 있다!\n",
    "\n",
    "- '{인덱스 지정}'.format(값)"
   ]
  },
  {
   "cell_type": "code",
   "execution_count": 48,
   "id": "59ff2fdf",
   "metadata": {},
   "outputs": [
    {
     "data": {
      "text/plain": [
       "'상원의 점수는 100점 입니다.'"
      ]
     },
     "execution_count": 48,
     "metadata": {},
     "output_type": "execute_result"
    }
   ],
   "source": [
    "'{0}의 점수는 100점 입니다.'.format('상원')"
   ]
  },
  {
   "cell_type": "code",
   "execution_count": 49,
   "id": "bdb8e672",
   "metadata": {},
   "outputs": [
    {
     "data": {
      "text/plain": [
       "'윤서의 점수는 777점 입니다.777'"
      ]
     },
     "execution_count": 49,
     "metadata": {},
     "output_type": "execute_result"
    }
   ],
   "source": [
    "'{0}의 점수는 {1}점 입니다.{1}'.format('윤서', 777)"
   ]
  },
  {
   "cell_type": "code",
   "execution_count": null,
   "id": "29739f45",
   "metadata": {},
   "outputs": [],
   "source": []
  }
 ],
 "metadata": {
  "kernelspec": {
   "display_name": "Python 3 (ipykernel)",
   "language": "python",
   "name": "python3"
  },
  "language_info": {
   "codemirror_mode": {
    "name": "ipython",
    "version": 3
   },
   "file_extension": ".py",
   "mimetype": "text/x-python",
   "name": "python",
   "nbconvert_exporter": "python",
   "pygments_lexer": "ipython3",
   "version": "3.11.4"
  }
 },
 "nbformat": 4,
 "nbformat_minor": 5
}
