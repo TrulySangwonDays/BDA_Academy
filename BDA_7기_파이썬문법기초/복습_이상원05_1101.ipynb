{
 "cells": [
  {
   "cell_type": "markdown",
   "id": "8e1749e0",
   "metadata": {},
   "source": [
    "# 복습과제\n",
    "---"
   ]
  },
  {
   "cell_type": "markdown",
   "id": "35597c64",
   "metadata": {},
   "source": [
    "# 딕셔너리\n",
    "- key, value (키, 값)\n",
    "- 리스트와 같이 자료형의 개념 중 하나\n",
    "- json 파일 형식을 참고\n",
    "- 딕셔너리를 사용하는 경우는 목적에 따라 다름 --> 메모리에서 할당하는 부분이 있어 많이 사용"
   ]
  },
  {
   "cell_type": "markdown",
   "id": "a485a50b",
   "metadata": {},
   "source": [
    "### 딕셔너리 만드는 법\n",
    "- {} -> 빈 딕셔너리\n",
    "- dict()"
   ]
  },
  {
   "cell_type": "code",
   "execution_count": 11,
   "id": "18ce353f",
   "metadata": {},
   "outputs": [
    {
     "data": {
      "text/plain": [
       "{}"
      ]
     },
     "execution_count": 11,
     "metadata": {},
     "output_type": "execute_result"
    }
   ],
   "source": [
    "dictionary = {}\n",
    "dictionary"
   ]
  },
  {
   "cell_type": "code",
   "execution_count": 12,
   "id": "06cb96b7",
   "metadata": {},
   "outputs": [
    {
     "data": {
      "text/plain": [
       "{}"
      ]
     },
     "execution_count": 12,
     "metadata": {},
     "output_type": "execute_result"
    }
   ],
   "source": [
    "dictionary_1 = dict()\n",
    "dictionary_1"
   ]
  },
  {
   "cell_type": "markdown",
   "id": "dffb0958",
   "metadata": {},
   "source": [
    "---\n",
    "- 딕셔너리 = {키1:값1, 키2:값2, 키3:값3, ... }\n",
    "- \"중괄호\"가 포인트"
   ]
  },
  {
   "cell_type": "code",
   "execution_count": 5,
   "id": "dc31455f",
   "metadata": {},
   "outputs": [
    {
     "data": {
      "text/plain": [
       "{'학생번호': 123456, '학생이름': '이상원', '반': 'B'}"
      ]
     },
     "execution_count": 5,
     "metadata": {},
     "output_type": "execute_result"
    }
   ],
   "source": [
    "a = { \"학생번호\":123456, \"학생이름\":\"이상원\", \"반\":\"B\" }\n",
    "a"
   ]
  },
  {
   "cell_type": "code",
   "execution_count": 6,
   "id": "40cefe56",
   "metadata": {},
   "outputs": [
    {
     "data": {
      "text/plain": [
       "{'학번': 123456, '이름': 'Sang-won', '반': ['A', 'B']}"
      ]
     },
     "execution_count": 6,
     "metadata": {},
     "output_type": "execute_result"
    }
   ],
   "source": [
    "b = { \"학번\":123456, \"이름\":\"Sang-won\", \"반\":[\"A\", \"B\"] }\n",
    "b"
   ]
  },
  {
   "cell_type": "markdown",
   "id": "365727ac",
   "metadata": {},
   "source": [
    "---\n",
    "### 딕셔너리는 키 자체가 문자, 정수, 불린, 기타 등등 사용 가능"
   ]
  },
  {
   "cell_type": "code",
   "execution_count": 7,
   "id": "2a5905c2",
   "metadata": {},
   "outputs": [
    {
     "data": {
      "text/plain": [
       "{True: 1, False: 2}"
      ]
     },
     "execution_count": 7,
     "metadata": {},
     "output_type": "execute_result"
    }
   ],
   "source": [
    "c = {True:1, False:2}\n",
    "c"
   ]
  },
  {
   "cell_type": "code",
   "execution_count": 8,
   "id": "6d65319a",
   "metadata": {},
   "outputs": [
    {
     "data": {
      "text/plain": [
       "{1: True, 2: False}"
      ]
     },
     "execution_count": 8,
     "metadata": {},
     "output_type": "execute_result"
    }
   ],
   "source": [
    "d = {1:True, 2: False}\n",
    "d"
   ]
  },
  {
   "cell_type": "markdown",
   "id": "a3bfdb25",
   "metadata": {},
   "source": [
    "---\n",
    "### 딕셔너리는 \"로직이 필요한 경우\"에 주로 사용\n",
    "- 그외의 경우라면 사용하는 이유 없음."
   ]
  },
  {
   "cell_type": "code",
   "execution_count": 13,
   "id": "42797bfa",
   "metadata": {},
   "outputs": [
    {
     "data": {
      "text/plain": [
       "{'Acess_key': 'abcde!'}"
      ]
     },
     "execution_count": 13,
     "metadata": {},
     "output_type": "execute_result"
    }
   ],
   "source": [
    "user_pwd = {\"Acess_key\":\"abcde!\"}\n",
    "user_pwd"
   ]
  },
  {
   "cell_type": "code",
   "execution_count": 23,
   "id": "a0003562",
   "metadata": {
    "scrolled": true
   },
   "outputs": [
    {
     "ename": "SyntaxError",
     "evalue": "expression cannot contain assignment, perhaps you meant \"==\"? (3121736175.py, line 1)",
     "output_type": "error",
     "traceback": [
      "\u001b[1;36m  Cell \u001b[1;32mIn[23], line 1\u001b[1;36m\u001b[0m\n\u001b[1;33m    dict(\"ABC\"=1, \"DEF\"=2)\u001b[0m\n\u001b[1;37m         ^\u001b[0m\n\u001b[1;31mSyntaxError\u001b[0m\u001b[1;31m:\u001b[0m expression cannot contain assignment, perhaps you meant \"==\"?\n"
     ]
    }
   ],
   "source": [
    "dict(\"ABC\"=1, \"DEF\"=2)"
   ]
  },
  {
   "cell_type": "code",
   "execution_count": 25,
   "id": "9c9001f5",
   "metadata": {},
   "outputs": [
    {
     "data": {
      "text/plain": [
       "{}"
      ]
     },
     "execution_count": 25,
     "metadata": {},
     "output_type": "execute_result"
    }
   ],
   "source": [
    "fn = dict()\n",
    "fn"
   ]
  },
  {
   "cell_type": "markdown",
   "id": "cb02131f",
   "metadata": {},
   "source": [
    "---\n",
    "### 딕셔너리에 접근하는 방법\n",
    "- 딕셔너리의 \"값\"에는 해당 \"키\"로 접근 가능"
   ]
  },
  {
   "cell_type": "code",
   "execution_count": 27,
   "id": "c50a6745",
   "metadata": {},
   "outputs": [
    {
     "name": "stdout",
     "output_type": "stream",
     "text": [
      "{'학생번호': 123456, '학생이름': '이상원', '반': 'B'}\n",
      "{'학번': 123456, '이름': 'Sang-won', '반': ['A', 'B']}\n"
     ]
    }
   ],
   "source": [
    "print(a)\n",
    "print(b)"
   ]
  },
  {
   "cell_type": "code",
   "execution_count": 30,
   "id": "18388e1e",
   "metadata": {},
   "outputs": [
    {
     "data": {
      "text/plain": [
       "123456"
      ]
     },
     "execution_count": 30,
     "metadata": {},
     "output_type": "execute_result"
    }
   ],
   "source": [
    "a[\"학생번호\"]"
   ]
  },
  {
   "cell_type": "code",
   "execution_count": 32,
   "id": "7d27ab1e",
   "metadata": {},
   "outputs": [
    {
     "data": {
      "text/plain": [
       "['A', 'B']"
      ]
     },
     "execution_count": 32,
     "metadata": {},
     "output_type": "execute_result"
    }
   ],
   "source": [
    "b[\"반\"]"
   ]
  },
  {
   "cell_type": "markdown",
   "id": "aa3c1423",
   "metadata": {},
   "source": [
    "- 딕셔너리[키] = 값    ----> 값 할당 가능"
   ]
  },
  {
   "cell_type": "code",
   "execution_count": 34,
   "id": "b1e245eb",
   "metadata": {},
   "outputs": [
    {
     "data": {
      "text/plain": [
       "{'학번': 123456, '이름': 'Sang-won', '반': 'C반'}"
      ]
     },
     "execution_count": 34,
     "metadata": {},
     "output_type": "execute_result"
    }
   ],
   "source": [
    "b[\"반\"] = \"C반\"\n",
    "b"
   ]
  },
  {
   "cell_type": "markdown",
   "id": "4904bed1",
   "metadata": {},
   "source": [
    "- in 함수도 사용 가능"
   ]
  },
  {
   "cell_type": "code",
   "execution_count": 35,
   "id": "9dded83a",
   "metadata": {},
   "outputs": [
    {
     "data": {
      "text/plain": [
       "True"
      ]
     },
     "execution_count": 35,
     "metadata": {},
     "output_type": "execute_result"
    }
   ],
   "source": [
    "\"학생번호\" in a"
   ]
  },
  {
   "cell_type": "code",
   "execution_count": 36,
   "id": "391ad408",
   "metadata": {},
   "outputs": [
    {
     "data": {
      "text/plain": [
       "False"
      ]
     },
     "execution_count": 36,
     "metadata": {},
     "output_type": "execute_result"
    }
   ],
   "source": [
    "\"학생번호\" in b"
   ]
  },
  {
   "cell_type": "code",
   "execution_count": 37,
   "id": "871dcfdd",
   "metadata": {},
   "outputs": [
    {
     "data": {
      "text/plain": [
       "True"
      ]
     },
     "execution_count": 37,
     "metadata": {},
     "output_type": "execute_result"
    }
   ],
   "source": [
    "\"학번\" in b"
   ]
  },
  {
   "cell_type": "markdown",
   "id": "7d177823",
   "metadata": {},
   "source": [
    "### 키의 개수 = len()을 결정짓는 개수"
   ]
  },
  {
   "cell_type": "code",
   "execution_count": 38,
   "id": "edad8a6a",
   "metadata": {},
   "outputs": [
    {
     "data": {
      "text/plain": [
       "{'학번': 123456, '이름': 'Sang-won', '반': 'C반'}"
      ]
     },
     "execution_count": 38,
     "metadata": {},
     "output_type": "execute_result"
    }
   ],
   "source": [
    "b"
   ]
  },
  {
   "cell_type": "code",
   "execution_count": 39,
   "id": "6bd97661",
   "metadata": {},
   "outputs": [
    {
     "data": {
      "text/plain": [
       "3"
      ]
     },
     "execution_count": 39,
     "metadata": {},
     "output_type": "execute_result"
    }
   ],
   "source": [
    "len(b)"
   ]
  },
  {
   "cell_type": "markdown",
   "id": "1e327772",
   "metadata": {},
   "source": [
    "---\n",
    "---\n",
    "---"
   ]
  },
  {
   "cell_type": "markdown",
   "id": "d0b2caf6",
   "metadata": {},
   "source": [
    "# IF 조건문\n",
    "- 해당 조건을 충족했을 때, 출력"
   ]
  },
  {
   "cell_type": "code",
   "execution_count": 41,
   "id": "e27b87ad",
   "metadata": {},
   "outputs": [
    {
     "data": {
      "text/plain": [
       "['a', 'b', 'c']"
      ]
     },
     "execution_count": 41,
     "metadata": {},
     "output_type": "execute_result"
    }
   ],
   "source": [
    "a = [ 'a', 'b', 'c']\n",
    "a"
   ]
  },
  {
   "cell_type": "code",
   "execution_count": 42,
   "id": "9abb1bf0",
   "metadata": {},
   "outputs": [
    {
     "name": "stdout",
     "output_type": "stream",
     "text": [
      "b가 있습니다.\n"
     ]
    }
   ],
   "source": [
    "if 'b' in a :\n",
    "    print('b가 있습니다.')"
   ]
  },
  {
   "cell_type": "code",
   "execution_count": 43,
   "id": "5b0075ea",
   "metadata": {},
   "outputs": [
    {
     "data": {
      "text/plain": [
       "5"
      ]
     },
     "execution_count": 43,
     "metadata": {},
     "output_type": "execute_result"
    }
   ],
   "source": [
    "x = 5\n",
    "x"
   ]
  },
  {
   "cell_type": "code",
   "execution_count": 45,
   "id": "eedf3319",
   "metadata": {},
   "outputs": [
    {
     "name": "stdout",
     "output_type": "stream",
     "text": [
      "x의 값이 올바릅니다.\n"
     ]
    }
   ],
   "source": [
    "if x == 5 :\n",
    "    print (\"x의 값이 올바릅니다.\")"
   ]
  },
  {
   "cell_type": "code",
   "execution_count": 61,
   "id": "46f75e35",
   "metadata": {},
   "outputs": [
    {
     "name": "stdout",
     "output_type": "stream",
     "text": [
      "a\n"
     ]
    }
   ],
   "source": [
    "if x == 1 :\n",
    "    print(\"x의 값이 틀립니다.\")\n",
    "else :\n",
    "    print(\"a\")"
   ]
  },
  {
   "cell_type": "code",
   "execution_count": 62,
   "id": "6bc2d0c4",
   "metadata": {},
   "outputs": [
    {
     "data": {
      "text/plain": [
       "(20, 30)"
      ]
     },
     "execution_count": 62,
     "metadata": {},
     "output_type": "execute_result"
    }
   ],
   "source": [
    "x = 20\n",
    "y = 30\n",
    "x, y"
   ]
  },
  {
   "cell_type": "code",
   "execution_count": 63,
   "id": "00ba0b70",
   "metadata": {},
   "outputs": [
    {
     "name": "stdout",
     "output_type": "stream",
     "text": [
      "안녕하세요.\n"
     ]
    }
   ],
   "source": [
    "if x == 20 and y == 30 :\n",
    "    print(\"안녕하세요.\")"
   ]
  },
  {
   "cell_type": "code",
   "execution_count": 65,
   "id": "c83c557f",
   "metadata": {},
   "outputs": [],
   "source": [
    "if x == 10 and y == 30 :\n",
    "    print(\"Hello.\")"
   ]
  },
  {
   "cell_type": "markdown",
   "id": "e42af2b5",
   "metadata": {},
   "source": [
    "### if문이 여러개 사용된다면?"
   ]
  },
  {
   "cell_type": "code",
   "execution_count": 66,
   "id": "40734123",
   "metadata": {},
   "outputs": [
    {
     "name": "stdout",
     "output_type": "stream",
     "text": [
      "x는 15입니다.\n"
     ]
    }
   ],
   "source": [
    "x = 15\n",
    "\n",
    "if x == 10 :\n",
    "    print(\"x는 10입니다.\")\n",
    "if x == 15 :\n",
    "    print(\"x는 15입니다.\")"
   ]
  },
  {
   "cell_type": "code",
   "execution_count": 68,
   "id": "f85c21d4",
   "metadata": {},
   "outputs": [],
   "source": [
    "x = 20\n",
    "\n",
    "if x == 10 : # 여기에서 false로 판단했기에 아래단계에 있는 if까지 들어가지 않는다.\n",
    "    print(\"x는 10입니다.\")\n",
    "    if x == 15 :\n",
    "        print(\"15입니다.\")\n",
    "    if x == 20 :\n",
    "        print(\"20입니다.\")"
   ]
  },
  {
   "cell_type": "code",
   "execution_count": 73,
   "id": "c36c087a",
   "metadata": {},
   "outputs": [
    {
     "name": "stdout",
     "output_type": "stream",
     "text": [
      "Coke please.\n",
      "Milk please.\n"
     ]
    }
   ],
   "source": [
    "x = 10\n",
    "y = 20\n",
    "\n",
    "if x == 10 and y == 20 :\n",
    "    print(\"Coke please.\")\n",
    "    \n",
    "if x == 10 or y == 10 :\n",
    "    print(\"Milk please.\")\n",
    "    \n",
    "if x == 10 and y == 10 :\n",
    "    print(\"All menu please!\")"
   ]
  },
  {
   "cell_type": "code",
   "execution_count": null,
   "id": "337942f3",
   "metadata": {},
   "outputs": [],
   "source": []
  },
  {
   "cell_type": "code",
   "execution_count": null,
   "id": "7a237ab0",
   "metadata": {},
   "outputs": [],
   "source": []
  }
 ],
 "metadata": {
  "kernelspec": {
   "display_name": "Python 3 (ipykernel)",
   "language": "python",
   "name": "python3"
  },
  "language_info": {
   "codemirror_mode": {
    "name": "ipython",
    "version": 3
   },
   "file_extension": ".py",
   "mimetype": "text/x-python",
   "name": "python",
   "nbconvert_exporter": "python",
   "pygments_lexer": "ipython3",
   "version": "3.11.4"
  }
 },
 "nbformat": 4,
 "nbformat_minor": 5
}
