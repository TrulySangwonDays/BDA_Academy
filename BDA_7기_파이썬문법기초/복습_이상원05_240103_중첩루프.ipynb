{
 "cells": [
  {
   "cell_type": "markdown",
   "id": "7ac7151a",
   "metadata": {},
   "source": [
    "# 중첩루프\n",
    "---\n",
    "- 반복문 2개 이상을 사용하는 경우\n",
    "---\n",
    "- 사용시기 : 반복적인 업무 2개 이상으로 이루어져 따로 반복문을 사용해야 하는 경우\n",
    "- 1개의 반복문은 컬럼을 확인하고, 1개의 다른 반복문은 인덱스만 가지고 확인\n",
    "- 하나는 리스트A의 값을 가져오고, 다른 하나는 리스트B의 값을 가져옴\n",
    "- 만약 리스트A와 리스트B의 길이가 다른 경우, 같이 사용할 수 없는 경우 발생 가능성\n",
    "---\n",
    "- 중첩루프는 데이터분석이나 개발 등 많이 사용!\n",
    "- 작동원리를 정확히 이해할 필요가 있음"
   ]
  },
  {
   "cell_type": "markdown",
   "id": "552e8f36",
   "metadata": {},
   "source": [
    "### 기본적인 중첩루프 구조\n",
    "> 중첩루프 구조\n",
    "- for i in range(횟수) :\n",
    "    - for j in range(횟수) :\n",
    "        - j에 대해 반복할 코드\n",
    "    - i에 대해 반복할 코드"
   ]
  },
  {
   "cell_type": "code",
   "execution_count": 4,
   "id": "0c46a693",
   "metadata": {},
   "outputs": [
    {
     "name": "stdout",
     "output_type": "stream",
     "text": [
      "j안0 j안1 j안2 i바깥0\n",
      "j안0 j안1 j안2 i바깥1\n",
      "j안0 j안1 j안2 i바깥2\n",
      "j안0 j안1 j안2 i바깥3\n",
      "j안0 j안1 j안2 i바깥4\n"
     ]
    }
   ],
   "source": [
    "for i in range(5) : #바깥쪽 반복문\n",
    "    for j in range(3) : #안쪽 반복문\n",
    "        print('j안', j, sep=\"\", end=\" \")\n",
    "    print('i바깥', i, sep=\"\")"
   ]
  },
  {
   "cell_type": "markdown",
   "id": "e084cf10",
   "metadata": {},
   "source": [
    "#### 안쪽 반복문이 다 끝나야지만, 그 다음 바깥 반복문으로 넘어감"
   ]
  },
  {
   "cell_type": "code",
   "execution_count": 5,
   "id": "4a241294",
   "metadata": {},
   "outputs": [
    {
     "name": "stdout",
     "output_type": "stream",
     "text": [
      "i바깥0\n",
      "j안0 j안1 j안2 i바깥1\n",
      "j안0 j안1 j안2 i바깥2\n",
      "j안0 j안1 j안2 i바깥3\n",
      "j안0 j안1 j안2 i바깥4\n",
      "j안0 j안1 j안2 "
     ]
    }
   ],
   "source": [
    "for i in range(5) : #바깥쪽 반복문\n",
    "    print('i바깥', i, sep=\"\")\n",
    "    for j in range(3) : #안쪽 반복문\n",
    "        print('j안', j, sep=\"\", end=\" \")"
   ]
  },
  {
   "cell_type": "markdown",
   "id": "bb247870",
   "metadata": {},
   "source": [
    "### 코드 셋에서 가장 처음에 있는 루프가\n",
    "- 하위 루프들의 전체 반복 횟수\n",
    "- 위 예시에서는 \"for i range(5) : \" 부분"
   ]
  },
  {
   "cell_type": "code",
   "execution_count": 8,
   "id": "a24c3b47",
   "metadata": {},
   "outputs": [
    {
     "name": "stdout",
     "output_type": "stream",
     "text": [
      "사과0 사과1 사과2 깎아0\n",
      "사과0 사과1 사과2 깎아1\n",
      "사과0 사과1 사과2 깎아2\n",
      "사과0 사과1 사과2 깎아3\n",
      "사과0 사과1 사과2 깎아4\n",
      "사과0 사과1 사과2 깎아5\n",
      "사과0 사과1 사과2 깎아6\n",
      "사과0 사과1 사과2 깎아7\n",
      "사과0 사과1 사과2 깎아8\n",
      "사과0 사과1 사과2 깎아9\n"
     ]
    }
   ],
   "source": [
    "for i in range(10) :\n",
    "    for j in range(3) :\n",
    "        print(f'사과{j}', sep=\"\", end=\" \")\n",
    "    print(f'깎아{i}')"
   ]
  },
  {
   "cell_type": "markdown",
   "id": "e06cbf4e",
   "metadata": {},
   "source": [
    "# 2차원 좌표평면 개념으로 접근\n",
    "---\n",
    "- 중첩루프가 좌표평면을 찍고\n",
    "- 데이터프레임에 접근할 수 있다"
   ]
  },
  {
   "cell_type": "code",
   "execution_count": 10,
   "id": "8544f6f8",
   "metadata": {},
   "outputs": [
    {
     "name": "stdout",
     "output_type": "stream",
     "text": [
      "(0, 0)\n",
      "(0, 1)\n",
      "-----\n",
      "(1, 0)\n",
      "(1, 1)\n",
      "-----\n",
      "(2, 0)\n",
      "(2, 1)\n",
      "-----\n",
      "(3, 0)\n",
      "(3, 1)\n",
      "-----\n",
      "(4, 0)\n",
      "(4, 1)\n",
      "-----\n"
     ]
    }
   ],
   "source": [
    "for i in range(5) :\n",
    "    for j in range(2) :\n",
    "        print(f\"({i}, {j})\", sep=\"\")\n",
    "    print(\"-----\")"
   ]
  },
  {
   "cell_type": "markdown",
   "id": "dc39cbb3",
   "metadata": {},
   "source": [
    "# 별만들기 문제"
   ]
  },
  {
   "cell_type": "markdown",
   "id": "81b38ed8",
   "metadata": {},
   "source": [
    "---\n",
    "### 계단식으로 출력하기 위해서는 어떤 조건을 걸어야 할까\n",
    "- 루프 인덱스를 가지고 조건을 만들어야 함"
   ]
  },
  {
   "cell_type": "code",
   "execution_count": 13,
   "id": "237f06e9",
   "metadata": {},
   "outputs": [
    {
     "name": "stdout",
     "output_type": "stream",
     "text": [
      "* * * * * \n",
      "* * * * * \n",
      "* * * * * \n",
      "* * * * * \n",
      "* * * * * \n"
     ]
    }
   ],
   "source": [
    "# 기본 틀\n",
    "for i in range(5) :\n",
    "    for j in range(5) :\n",
    "        print(\"*\", end=\" \")\n",
    "    print()"
   ]
  },
  {
   "cell_type": "code",
   "execution_count": 15,
   "id": "f47fc052",
   "metadata": {},
   "outputs": [
    {
     "name": "stdout",
     "output_type": "stream",
     "text": [
      "@ @ @ @ @ \n",
      "@ @ @ @ @ \n",
      "@ @ @ @ @ \n",
      "@ @ @ @ @ \n",
      "@ @ @ @ @ \n"
     ]
    }
   ],
   "source": [
    "for i in range(5) :\n",
    "    for j in range(5) :\n",
    "        print(\"@\", end=\" \")\n",
    "    print()"
   ]
  },
  {
   "cell_type": "code",
   "execution_count": 23,
   "id": "53b8512e",
   "metadata": {},
   "outputs": [
    {
     "name": "stdout",
     "output_type": "stream",
     "text": [
      "@ \n",
      "@ @ \n",
      "@ @ @ \n",
      "@ @ @ @ \n",
      "@ @ @ @ @ \n"
     ]
    }
   ],
   "source": [
    "for i in range(5) :\n",
    "    for j in range(5) :\n",
    "        if j <= i :\n",
    "            print(\"@\", end=\" \")\n",
    "    print()"
   ]
  },
  {
   "cell_type": "code",
   "execution_count": 29,
   "id": "f3e2812e",
   "metadata": {},
   "outputs": [
    {
     "name": "stdout",
     "output_type": "stream",
     "text": [
      "(@ i0, j0) \n",
      "(@ i1, j0) (@ i1, j1) \n",
      "(@ i2, j0) (@ i2, j1) (@ i2, j2) \n",
      "(@ i3, j0) (@ i3, j1) (@ i3, j2) (@ i3, j3) \n",
      "(@ i4, j0) (@ i4, j1) (@ i4, j2) (@ i4, j3) (@ i4, j4) \n"
     ]
    }
   ],
   "source": [
    "for i in range(5) :\n",
    "    for j in range(5) :\n",
    "        if j <= i :\n",
    "            print(f'(@ i{i}, j{j})', end=' ')\n",
    "    print()"
   ]
  },
  {
   "cell_type": "code",
   "execution_count": 28,
   "id": "e8c043db",
   "metadata": {},
   "outputs": [
    {
     "name": "stdout",
     "output_type": "stream",
     "text": [
      "(@ i0, j0) (@ i0, j1) (@ i0, j2) (@ i0, j3) (@ i0, j4) \n",
      "(@ i1, j1) (@ i1, j2) (@ i1, j3) (@ i1, j4) \n",
      "(@ i2, j2) (@ i2, j3) (@ i2, j4) \n",
      "(@ i3, j3) (@ i3, j4) \n",
      "(@ i4, j4) \n"
     ]
    }
   ],
   "source": [
    "for i in range(5) :\n",
    "    for j in range(5) :\n",
    "        if j >= i :\n",
    "            print(f'(@ i{i}, j{j})', end=' ')\n",
    "    print()"
   ]
  },
  {
   "cell_type": "code",
   "execution_count": 31,
   "id": "2de2abf7",
   "metadata": {},
   "outputs": [
    {
     "name": "stdout",
     "output_type": "stream",
     "text": [
      "* \n",
      "* * \n",
      "* * * \n",
      "* * * * \n",
      "* * * * * \n",
      "* * * * * * \n",
      "* * * * * * * \n",
      "* * * * * * * * \n",
      "* * * * * * * * * \n",
      "* * * * * * * * * * \n"
     ]
    }
   ],
   "source": [
    "for i in range(10) :\n",
    "    for j in range(10) :\n",
    "        if j <= i :\n",
    "            print('*', end=\" \")\n",
    "    print()"
   ]
  },
  {
   "cell_type": "code",
   "execution_count": 33,
   "id": "481bf90f",
   "metadata": {},
   "outputs": [
    {
     "name": "stdout",
     "output_type": "stream",
     "text": [
      "* * * * * * * * * * \n",
      "* * * * * * * * * \n",
      "* * * * * * * * \n",
      "* * * * * * * \n",
      "* * * * * * \n",
      "* * * * * \n",
      "* * * * \n",
      "* * * \n",
      "* * \n",
      "* \n"
     ]
    }
   ],
   "source": [
    "for i in range(10) :\n",
    "    for j in range(10) :\n",
    "        if j >= i :\n",
    "            print(\"*\", end=\" \")\n",
    "    print()"
   ]
  },
  {
   "cell_type": "markdown",
   "id": "e69ce7d0",
   "metadata": {},
   "source": [
    "# 3개 이상의 반복문을 사용하는 경우"
   ]
  },
  {
   "cell_type": "markdown",
   "id": "647e3ff8",
   "metadata": {},
   "source": [
    "- 기본 중첩루프 로직과 동일하게 적용이 된다."
   ]
  },
  {
   "cell_type": "code",
   "execution_count": 46,
   "id": "4176ad6d",
   "metadata": {},
   "outputs": [
    {
     "name": "stdout",
     "output_type": "stream",
     "text": [
      "K2소총 0정 K2소총 1정 K2소총 2정 K2소총 3정 0반\n",
      "K2소총 0정 K2소총 1정 K2소총 2정 K2소총 3정 1반\n",
      "K2소총 0정 K2소총 1정 K2소총 2정 K2소총 3정 2반\n",
      "K2소총 0정 K2소총 1정 K2소총 2정 K2소총 3정 3반\n",
      "K2소총 0정 K2소총 1정 K2소총 2정 K2소총 3정 4반\n",
      "K2소총 0정 K2소총 1정 K2소총 2정 K2소총 3정 5반\n",
      "K2소총 0정 K2소총 1정 K2소총 2정 K2소총 3정 6반\n",
      "K2소총 0정 K2소총 1정 K2소총 2정 K2소총 3정 7반\n",
      "K2소총 0정 K2소총 1정 K2소총 2정 K2소총 3정 8반\n",
      "K2소총 0정 K2소총 1정 K2소총 2정 K2소총 3정 9반\n",
      "수송1중대\n",
      "K2소총 0정 K2소총 1정 K2소총 2정 K2소총 3정 0반\n",
      "K2소총 0정 K2소총 1정 K2소총 2정 K2소총 3정 1반\n",
      "K2소총 0정 K2소총 1정 K2소총 2정 K2소총 3정 2반\n",
      "K2소총 0정 K2소총 1정 K2소총 2정 K2소총 3정 3반\n",
      "K2소총 0정 K2소총 1정 K2소총 2정 K2소총 3정 4반\n",
      "K2소총 0정 K2소총 1정 K2소총 2정 K2소총 3정 5반\n",
      "K2소총 0정 K2소총 1정 K2소총 2정 K2소총 3정 6반\n",
      "K2소총 0정 K2소총 1정 K2소총 2정 K2소총 3정 7반\n",
      "K2소총 0정 K2소총 1정 K2소총 2정 K2소총 3정 8반\n",
      "K2소총 0정 K2소총 1정 K2소총 2정 K2소총 3정 9반\n",
      "수송2중대\n"
     ]
    }
   ],
   "source": [
    "for i in range(1, 3) :\n",
    "    for j in range(10) :\n",
    "        for k in range(4) :\n",
    "            print(f'K2소총 {k}정', sep=\"\", end=\" \")\n",
    "        print(f'{j}반', sep=\"\")\n",
    "    print(f'수송{i}중대', sep=\"\")"
   ]
  },
  {
   "cell_type": "code",
   "execution_count": 47,
   "id": "6cd62dda",
   "metadata": {},
   "outputs": [
    {
     "name": "stdout",
     "output_type": "stream",
     "text": [
      "수송1중대\n",
      "K2소총 0정 K2소총 1정 K2소총 2정 K2소총 3정 0반\n",
      "K2소총 0정 K2소총 1정 K2소총 2정 K2소총 3정 1반\n",
      "K2소총 0정 K2소총 1정 K2소총 2정 K2소총 3정 2반\n",
      "K2소총 0정 K2소총 1정 K2소총 2정 K2소총 3정 3반\n",
      "K2소총 0정 K2소총 1정 K2소총 2정 K2소총 3정 4반\n",
      "K2소총 0정 K2소총 1정 K2소총 2정 K2소총 3정 5반\n",
      "K2소총 0정 K2소총 1정 K2소총 2정 K2소총 3정 6반\n",
      "K2소총 0정 K2소총 1정 K2소총 2정 K2소총 3정 7반\n",
      "K2소총 0정 K2소총 1정 K2소총 2정 K2소총 3정 8반\n",
      "K2소총 0정 K2소총 1정 K2소총 2정 K2소총 3정 9반\n",
      "수송2중대\n",
      "K2소총 0정 K2소총 1정 K2소총 2정 K2소총 3정 0반\n",
      "K2소총 0정 K2소총 1정 K2소총 2정 K2소총 3정 1반\n",
      "K2소총 0정 K2소총 1정 K2소총 2정 K2소총 3정 2반\n",
      "K2소총 0정 K2소총 1정 K2소총 2정 K2소총 3정 3반\n",
      "K2소총 0정 K2소총 1정 K2소총 2정 K2소총 3정 4반\n",
      "K2소총 0정 K2소총 1정 K2소총 2정 K2소총 3정 5반\n",
      "K2소총 0정 K2소총 1정 K2소총 2정 K2소총 3정 6반\n",
      "K2소총 0정 K2소총 1정 K2소총 2정 K2소총 3정 7반\n",
      "K2소총 0정 K2소총 1정 K2소총 2정 K2소총 3정 8반\n",
      "K2소총 0정 K2소총 1정 K2소총 2정 K2소총 3정 9반\n"
     ]
    }
   ],
   "source": [
    "for i in range(1, 3) :\n",
    "    print(f'수송{i}중대', sep=\"\")\n",
    "    for j in range(10) :\n",
    "        for k in range(4) :\n",
    "            print(f'K2소총 {k}정', sep=\"\", end=\" \")\n",
    "        print(f'{j}반', sep=\"\")\n"
   ]
  },
  {
   "cell_type": "code",
   "execution_count": null,
   "id": "6e416121",
   "metadata": {},
   "outputs": [],
   "source": []
  }
 ],
 "metadata": {
  "kernelspec": {
   "display_name": "Python 3 (ipykernel)",
   "language": "python",
   "name": "python3"
  },
  "language_info": {
   "codemirror_mode": {
    "name": "ipython",
    "version": 3
   },
   "file_extension": ".py",
   "mimetype": "text/x-python",
   "name": "python",
   "nbconvert_exporter": "python",
   "pygments_lexer": "ipython3",
   "version": "3.11.4"
  }
 },
 "nbformat": 4,
 "nbformat_minor": 5
}
